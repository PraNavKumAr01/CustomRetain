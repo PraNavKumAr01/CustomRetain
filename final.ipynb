{
 "cells": [
  {
   "cell_type": "code",
   "execution_count": 1,
   "id": "c08ee40b",
   "metadata": {},
   "outputs": [
    {
     "data": {
      "text/html": [
       "<div>\n",
       "<style scoped>\n",
       "    .dataframe tbody tr th:only-of-type {\n",
       "        vertical-align: middle;\n",
       "    }\n",
       "\n",
       "    .dataframe tbody tr th {\n",
       "        vertical-align: top;\n",
       "    }\n",
       "\n",
       "    .dataframe thead th {\n",
       "        text-align: right;\n",
       "    }\n",
       "</style>\n",
       "<table border=\"1\" class=\"dataframe\">\n",
       "  <thead>\n",
       "    <tr style=\"text-align: right;\">\n",
       "      <th></th>\n",
       "      <th>CustomerID</th>\n",
       "      <th>Name</th>\n",
       "      <th>Age</th>\n",
       "      <th>Gender</th>\n",
       "      <th>Location</th>\n",
       "      <th>Subscription_Length_Months</th>\n",
       "      <th>Monthly_Bill</th>\n",
       "      <th>Average_Internet_Usage</th>\n",
       "      <th>No_of_Tickets</th>\n",
       "      <th>Average_Talktime_Usage</th>\n",
       "      <th>Social_Class</th>\n",
       "      <th>Subscription_Type</th>\n",
       "      <th>Base_Charge</th>\n",
       "    </tr>\n",
       "  </thead>\n",
       "  <tbody>\n",
       "    <tr>\n",
       "      <th>0</th>\n",
       "      <td>1</td>\n",
       "      <td>Customer_1</td>\n",
       "      <td>56</td>\n",
       "      <td>Male</td>\n",
       "      <td>Urban</td>\n",
       "      <td>29</td>\n",
       "      <td>286.658992</td>\n",
       "      <td>24.945633</td>\n",
       "      <td>0</td>\n",
       "      <td>23.316484</td>\n",
       "      <td>1</td>\n",
       "      <td>A</td>\n",
       "      <td>100</td>\n",
       "    </tr>\n",
       "    <tr>\n",
       "      <th>1</th>\n",
       "      <td>2</td>\n",
       "      <td>Customer_2</td>\n",
       "      <td>69</td>\n",
       "      <td>Female</td>\n",
       "      <td>Rural</td>\n",
       "      <td>24</td>\n",
       "      <td>706.286532</td>\n",
       "      <td>241.090001</td>\n",
       "      <td>1</td>\n",
       "      <td>97.662416</td>\n",
       "      <td>2</td>\n",
       "      <td>C</td>\n",
       "      <td>300</td>\n",
       "    </tr>\n",
       "    <tr>\n",
       "      <th>2</th>\n",
       "      <td>3</td>\n",
       "      <td>Customer_3</td>\n",
       "      <td>46</td>\n",
       "      <td>Female</td>\n",
       "      <td>Suburban</td>\n",
       "      <td>14</td>\n",
       "      <td>1070.546459</td>\n",
       "      <td>279.855149</td>\n",
       "      <td>0</td>\n",
       "      <td>154.816437</td>\n",
       "      <td>3</td>\n",
       "      <td>D</td>\n",
       "      <td>400</td>\n",
       "    </tr>\n",
       "    <tr>\n",
       "      <th>3</th>\n",
       "      <td>4</td>\n",
       "      <td>Customer_4</td>\n",
       "      <td>32</td>\n",
       "      <td>Female</td>\n",
       "      <td>Urban</td>\n",
       "      <td>14</td>\n",
       "      <td>338.363834</td>\n",
       "      <td>40.517955</td>\n",
       "      <td>2</td>\n",
       "      <td>125.948657</td>\n",
       "      <td>1</td>\n",
       "      <td>B</td>\n",
       "      <td>200</td>\n",
       "    </tr>\n",
       "    <tr>\n",
       "      <th>4</th>\n",
       "      <td>5</td>\n",
       "      <td>Customer_5</td>\n",
       "      <td>60</td>\n",
       "      <td>Male</td>\n",
       "      <td>Suburban</td>\n",
       "      <td>25</td>\n",
       "      <td>835.573690</td>\n",
       "      <td>122.903374</td>\n",
       "      <td>0</td>\n",
       "      <td>289.171509</td>\n",
       "      <td>2</td>\n",
       "      <td>C</td>\n",
       "      <td>300</td>\n",
       "    </tr>\n",
       "  </tbody>\n",
       "</table>\n",
       "</div>"
      ],
      "text/plain": [
       "   CustomerID        Name  Age  Gender  Location  Subscription_Length_Months  \\\n",
       "0           1  Customer_1   56    Male     Urban                          29   \n",
       "1           2  Customer_2   69  Female     Rural                          24   \n",
       "2           3  Customer_3   46  Female  Suburban                          14   \n",
       "3           4  Customer_4   32  Female     Urban                          14   \n",
       "4           5  Customer_5   60    Male  Suburban                          25   \n",
       "\n",
       "   Monthly_Bill  Average_Internet_Usage  No_of_Tickets  \\\n",
       "0    286.658992               24.945633              0   \n",
       "1    706.286532              241.090001              1   \n",
       "2   1070.546459              279.855149              0   \n",
       "3    338.363834               40.517955              2   \n",
       "4    835.573690              122.903374              0   \n",
       "\n",
       "   Average_Talktime_Usage  Social_Class Subscription_Type  Base_Charge  \n",
       "0               23.316484             1                 A          100  \n",
       "1               97.662416             2                 C          300  \n",
       "2              154.816437             3                 D          400  \n",
       "3              125.948657             1                 B          200  \n",
       "4              289.171509             2                 C          300  "
      ]
     },
     "execution_count": 1,
     "metadata": {},
     "output_type": "execute_result"
    }
   ],
   "source": [
    "import pandas as pd\n",
    "import matplotlib.pyplot as plt\n",
    "import seaborn as sns\n",
    "\n",
    "# Load the dataset\n",
    "df = pd.read_excel('./CustomRetain.xlsx')\n",
    "df.head(5)"
   ]
  },
  {
   "cell_type": "code",
   "execution_count": 2,
   "id": "0bf82608",
   "metadata": {},
   "outputs": [
    {
     "data": {
      "text/plain": [
       "Index(['CustomerID', 'Name', 'Age', 'Gender', 'Location',\n",
       "       'Subscription_Length_Months', 'Monthly_Bill', 'Average_Internet_Usage',\n",
       "       'No_of_Tickets', 'Average_Talktime_Usage', 'Social_Class',\n",
       "       'Subscription_Type', 'Base_Charge'],\n",
       "      dtype='object')"
      ]
     },
     "execution_count": 2,
     "metadata": {},
     "output_type": "execute_result"
    }
   ],
   "source": [
    "df.columns"
   ]
  },
  {
   "cell_type": "code",
   "execution_count": 130,
   "id": "fc5f591b",
   "metadata": {},
   "outputs": [],
   "source": [
    "df_test = df.sample(n = 500)\n",
    "df_test.to_csv('customer_test.csv', index = False)"
   ]
  },
  {
   "cell_type": "code",
   "execution_count": 131,
   "id": "ffd632bc",
   "metadata": {},
   "outputs": [
    {
     "ename": "AttributeError",
     "evalue": "'list' object has no attribute 'unique'",
     "output_type": "error",
     "traceback": [
      "\u001b[0;31m---------------------------------------------------------------------------\u001b[0m",
      "\u001b[0;31mAttributeError\u001b[0m                            Traceback (most recent call last)",
      "Cell \u001b[0;32mIn[131], line 2\u001b[0m\n\u001b[1;32m      1\u001b[0m n \u001b[38;5;241m=\u001b[39m [\u001b[38;5;241m1\u001b[39m,\u001b[38;5;241m2\u001b[39m,\u001b[38;5;241m3\u001b[39m,\u001b[38;5;241m4\u001b[39m,\u001b[38;5;241m5\u001b[39m,\u001b[38;5;241m1\u001b[39m,\u001b[38;5;241m2\u001b[39m,\u001b[38;5;241m3\u001b[39m,\u001b[38;5;241m4\u001b[39m]\n\u001b[0;32m----> 2\u001b[0m n\u001b[38;5;241m.\u001b[39munique()\n",
      "\u001b[0;31mAttributeError\u001b[0m: 'list' object has no attribute 'unique'"
     ]
    }
   ],
   "source": [
    "n = [1,2,3,4,5,1,2,3,4]\n",
    "n.unique()"
   ]
  },
  {
   "cell_type": "code",
   "execution_count": 126,
   "id": "7931ced8",
   "metadata": {},
   "outputs": [
    {
     "data": {
      "text/plain": [
       "array([1, 2, 3])"
      ]
     },
     "execution_count": 126,
     "metadata": {},
     "output_type": "execute_result"
    }
   ],
   "source": [
    "df[\"Social_Class\"].unique()"
   ]
  },
  {
   "cell_type": "code",
   "execution_count": 124,
   "id": "b7538a32",
   "metadata": {},
   "outputs": [
    {
     "data": {
      "text/plain": [
       "CustomerID                      int64\n",
       "Name                           object\n",
       "Age                             int64\n",
       "Gender                         object\n",
       "Location                       object\n",
       "Subscription_Length_Months      int64\n",
       "Monthly_Bill                  float64\n",
       "Average_Internet_Usage        float64\n",
       "No_of_Tickets                   int64\n",
       "Average_Talktime_Usage        float64\n",
       "Social_Class                    int64\n",
       "Subscription_Type              object\n",
       "Base_Charge                     int64\n",
       "dtype: object"
      ]
     },
     "execution_count": 124,
     "metadata": {},
     "output_type": "execute_result"
    }
   ],
   "source": [
    "df.dtypes"
   ]
  },
  {
   "cell_type": "code",
   "execution_count": 3,
   "id": "aaa7554a",
   "metadata": {},
   "outputs": [
    {
     "name": "stdout",
     "output_type": "stream",
     "text": [
      "Index(['Age', 'Gender', 'Location', 'Subscription_Length_Months',\n",
      "       'Monthly_Bill', 'Average_Internet_Usage', 'No_of_Tickets',\n",
      "       'Average_Talktime_Usage', 'Social_Class', 'Subscription_Type',\n",
      "       'Base_Charge'],\n",
      "      dtype='object')\n",
      "---\n",
      "Index(['Gender', 'Location', 'Subscription_Type'], dtype='object')\n",
      "---\n",
      "Index(['Age', 'Subscription_Length_Months', 'Monthly_Bill',\n",
      "       'Average_Internet_Usage', 'No_of_Tickets', 'Average_Talktime_Usage',\n",
      "       'Social_Class', 'Base_Charge'],\n",
      "      dtype='object')\n"
     ]
    },
    {
     "name": "stderr",
     "output_type": "stream",
     "text": [
      "/var/folders/ph/0dhbgp7j00v4mkj_24jmp3mr0000gn/T/ipykernel_70714/255123032.py:22: SettingWithCopyWarning: \n",
      "A value is trying to be set on a copy of a slice from a DataFrame.\n",
      "Try using .loc[row_indexer,col_indexer] = value instead\n",
      "\n",
      "See the caveats in the documentation: https://pandas.pydata.org/pandas-docs/stable/user_guide/indexing.html#returning-a-view-versus-a-copy\n",
      "  scaled_df[col] = le.fit_transform(scaled_df[col])\n",
      "/var/folders/ph/0dhbgp7j00v4mkj_24jmp3mr0000gn/T/ipykernel_70714/255123032.py:22: SettingWithCopyWarning: \n",
      "A value is trying to be set on a copy of a slice from a DataFrame.\n",
      "Try using .loc[row_indexer,col_indexer] = value instead\n",
      "\n",
      "See the caveats in the documentation: https://pandas.pydata.org/pandas-docs/stable/user_guide/indexing.html#returning-a-view-versus-a-copy\n",
      "  scaled_df[col] = le.fit_transform(scaled_df[col])\n",
      "/var/folders/ph/0dhbgp7j00v4mkj_24jmp3mr0000gn/T/ipykernel_70714/255123032.py:22: SettingWithCopyWarning: \n",
      "A value is trying to be set on a copy of a slice from a DataFrame.\n",
      "Try using .loc[row_indexer,col_indexer] = value instead\n",
      "\n",
      "See the caveats in the documentation: https://pandas.pydata.org/pandas-docs/stable/user_guide/indexing.html#returning-a-view-versus-a-copy\n",
      "  scaled_df[col] = le.fit_transform(scaled_df[col])\n",
      "/var/folders/ph/0dhbgp7j00v4mkj_24jmp3mr0000gn/T/ipykernel_70714/255123032.py:26: SettingWithCopyWarning: \n",
      "A value is trying to be set on a copy of a slice from a DataFrame.\n",
      "Try using .loc[row_indexer,col_indexer] = value instead\n",
      "\n",
      "See the caveats in the documentation: https://pandas.pydata.org/pandas-docs/stable/user_guide/indexing.html#returning-a-view-versus-a-copy\n",
      "  scaled_df[numerical_cols] = scaler.fit_transform(scaled_df[numerical_cols])\n"
     ]
    }
   ],
   "source": [
    "import pandas as pd\n",
    "from sklearn.preprocessing import LabelEncoder, StandardScaler\n",
    "\n",
    "scaled_df = df[['Age', 'Gender', 'Location',\n",
    "       'Subscription_Length_Months', 'Monthly_Bill', 'Average_Internet_Usage',\n",
    "       'No_of_Tickets', 'Average_Talktime_Usage', 'Social_Class',\n",
    "       'Subscription_Type', 'Base_Charge']]\n",
    "\n",
    "def encode_and_scale(scaled_df):\n",
    "\n",
    "    categorical_cols = scaled_df.select_dtypes(include=['object']).columns\n",
    "    numerical_cols = scaled_df.select_dtypes(include=['int64', 'float64']).columns\n",
    "    print(scaled_df.columns)\n",
    "    print(\"---\")\n",
    "    print(categorical_cols)\n",
    "    print(\"---\")\n",
    "    print(numerical_cols)\n",
    "\n",
    "    label_encoders = {}\n",
    "    for col in categorical_cols:\n",
    "        le = LabelEncoder()\n",
    "        scaled_df[col] = le.fit_transform(scaled_df[col])\n",
    "        label_encoders[col] = le\n",
    "\n",
    "    scaler = StandardScaler()\n",
    "    scaled_df[numerical_cols] = scaler.fit_transform(scaled_df[numerical_cols])\n",
    "\n",
    "    return scaled_df, label_encoders, scaler\n",
    "\n",
    "scaled_df, label_encoders, scaler = encode_and_scale(scaled_df)"
   ]
  },
  {
   "cell_type": "code",
   "execution_count": 116,
   "id": "ae108e35",
   "metadata": {},
   "outputs": [
    {
     "data": {
      "text/plain": [
       "['scaler.pkl']"
      ]
     },
     "execution_count": 116,
     "metadata": {},
     "output_type": "execute_result"
    }
   ],
   "source": [
    "import joblib\n",
    "\n",
    "joblib.dump(label_encoders, 'label_encoders.pkl')\n",
    "joblib.dump(scaler, 'scaler.pkl')"
   ]
  },
  {
   "cell_type": "code",
   "execution_count": 4,
   "id": "b34d2025",
   "metadata": {},
   "outputs": [],
   "source": [
    "from sklearn.cluster import KMeans\n",
    "\n",
    "kmeans = KMeans(n_clusters=8, random_state=42)\n",
    "kmeans.fit(scaled_df)\n",
    "\n",
    "df['Cluster'] = kmeans.labels_"
   ]
  },
  {
   "cell_type": "code",
   "execution_count": 5,
   "id": "160fdb7f",
   "metadata": {},
   "outputs": [
    {
     "data": {
      "text/plain": [
       "Cluster\n",
       "2    2014\n",
       "5    1449\n",
       "7    1415\n",
       "0    1280\n",
       "4    1191\n",
       "3    1131\n",
       "6    1104\n",
       "1     416\n",
       "Name: count, dtype: int64"
      ]
     },
     "execution_count": 5,
     "metadata": {},
     "output_type": "execute_result"
    }
   ],
   "source": [
    "df[\"Cluster\"].value_counts()"
   ]
  },
  {
   "cell_type": "code",
   "execution_count": 118,
   "id": "61efd589",
   "metadata": {},
   "outputs": [
    {
     "data": {
      "text/plain": [
       "['kmeans_model_final.pkl']"
      ]
     },
     "execution_count": 118,
     "metadata": {},
     "output_type": "execute_result"
    }
   ],
   "source": [
    "import joblib\n",
    "\n",
    "joblib.dump(kmeans, 'kmeans_model_final.pkl')"
   ]
  },
  {
   "cell_type": "code",
   "execution_count": 76,
   "id": "a333887a",
   "metadata": {},
   "outputs": [],
   "source": [
    "import joblib\n",
    "\n",
    "kmeans_loaded = joblib.load('kmeans_model_main.pkl')"
   ]
  },
  {
   "cell_type": "code",
   "execution_count": 102,
   "id": "5c8f1bf2",
   "metadata": {},
   "outputs": [],
   "source": [
    "features_df = df.drop(columns=['CustomerID', 'Name', 'Cluster'])\n",
    "\n",
    "sample = features_df.head(2)"
   ]
  },
  {
   "cell_type": "code",
   "execution_count": 111,
   "id": "86e891fe",
   "metadata": {},
   "outputs": [],
   "source": [
    "sample = features_df.head(1)"
   ]
  },
  {
   "cell_type": "code",
   "execution_count": 112,
   "id": "81d063a0",
   "metadata": {},
   "outputs": [
    {
     "data": {
      "text/html": [
       "<div>\n",
       "<style scoped>\n",
       "    .dataframe tbody tr th:only-of-type {\n",
       "        vertical-align: middle;\n",
       "    }\n",
       "\n",
       "    .dataframe tbody tr th {\n",
       "        vertical-align: top;\n",
       "    }\n",
       "\n",
       "    .dataframe thead th {\n",
       "        text-align: right;\n",
       "    }\n",
       "</style>\n",
       "<table border=\"1\" class=\"dataframe\">\n",
       "  <thead>\n",
       "    <tr style=\"text-align: right;\">\n",
       "      <th></th>\n",
       "      <th>Age</th>\n",
       "      <th>Gender</th>\n",
       "      <th>Location</th>\n",
       "      <th>Subscription_Length_Months</th>\n",
       "      <th>Monthly_Bill</th>\n",
       "      <th>Average_Internet_Usage</th>\n",
       "      <th>No_of_Tickets</th>\n",
       "      <th>Average_Talktime_Usage</th>\n",
       "      <th>Social_Class</th>\n",
       "      <th>Subscription_Type</th>\n",
       "      <th>Base_Charge</th>\n",
       "    </tr>\n",
       "  </thead>\n",
       "  <tbody>\n",
       "    <tr>\n",
       "      <th>0</th>\n",
       "      <td>56</td>\n",
       "      <td>Male</td>\n",
       "      <td>Urban</td>\n",
       "      <td>29</td>\n",
       "      <td>286.658992</td>\n",
       "      <td>24.945633</td>\n",
       "      <td>0</td>\n",
       "      <td>23.316484</td>\n",
       "      <td>1</td>\n",
       "      <td>A</td>\n",
       "      <td>100</td>\n",
       "    </tr>\n",
       "  </tbody>\n",
       "</table>\n",
       "</div>"
      ],
      "text/plain": [
       "   Age Gender Location  Subscription_Length_Months  Monthly_Bill  \\\n",
       "0   56   Male    Urban                          29    286.658992   \n",
       "\n",
       "   Average_Internet_Usage  No_of_Tickets  Average_Talktime_Usage  \\\n",
       "0               24.945633              0               23.316484   \n",
       "\n",
       "   Social_Class Subscription_Type  Base_Charge  \n",
       "0             1                 A          100  "
      ]
     },
     "execution_count": 112,
     "metadata": {},
     "output_type": "execute_result"
    }
   ],
   "source": [
    "sample"
   ]
  },
  {
   "cell_type": "code",
   "execution_count": 109,
   "id": "e936f6f5",
   "metadata": {},
   "outputs": [
    {
     "name": "stderr",
     "output_type": "stream",
     "text": [
      "/var/folders/ph/0dhbgp7j00v4mkj_24jmp3mr0000gn/T/ipykernel_11061/1348549853.py:11: SettingWithCopyWarning: \n",
      "A value is trying to be set on a copy of a slice from a DataFrame.\n",
      "Try using .loc[row_indexer,col_indexer] = value instead\n",
      "\n",
      "See the caveats in the documentation: https://pandas.pydata.org/pandas-docs/stable/user_guide/indexing.html#returning-a-view-versus-a-copy\n",
      "  scaled_df[col] = le.fit_transform(scaled_df[col])\n",
      "/var/folders/ph/0dhbgp7j00v4mkj_24jmp3mr0000gn/T/ipykernel_11061/1348549853.py:11: SettingWithCopyWarning: \n",
      "A value is trying to be set on a copy of a slice from a DataFrame.\n",
      "Try using .loc[row_indexer,col_indexer] = value instead\n",
      "\n",
      "See the caveats in the documentation: https://pandas.pydata.org/pandas-docs/stable/user_guide/indexing.html#returning-a-view-versus-a-copy\n",
      "  scaled_df[col] = le.fit_transform(scaled_df[col])\n",
      "/var/folders/ph/0dhbgp7j00v4mkj_24jmp3mr0000gn/T/ipykernel_11061/1348549853.py:11: SettingWithCopyWarning: \n",
      "A value is trying to be set on a copy of a slice from a DataFrame.\n",
      "Try using .loc[row_indexer,col_indexer] = value instead\n",
      "\n",
      "See the caveats in the documentation: https://pandas.pydata.org/pandas-docs/stable/user_guide/indexing.html#returning-a-view-versus-a-copy\n",
      "  scaled_df[col] = le.fit_transform(scaled_df[col])\n",
      "/var/folders/ph/0dhbgp7j00v4mkj_24jmp3mr0000gn/T/ipykernel_11061/1348549853.py:15: SettingWithCopyWarning: \n",
      "A value is trying to be set on a copy of a slice from a DataFrame.\n",
      "Try using .loc[row_indexer,col_indexer] = value instead\n",
      "\n",
      "See the caveats in the documentation: https://pandas.pydata.org/pandas-docs/stable/user_guide/indexing.html#returning-a-view-versus-a-copy\n",
      "  scaled_df[numerical_cols] = scaler.fit_transform(scaled_df[numerical_cols])\n"
     ]
    }
   ],
   "source": [
    "from sklearn.preprocessing import LabelEncoder, StandardScaler\n",
    "\n",
    "def encode_and_scale(scaled_df):\n",
    "\n",
    "    categorical_cols = scaled_df.select_dtypes(include=['object']).columns\n",
    "    numerical_cols = scaled_df.select_dtypes(include=['int64', 'float64']).columns\n",
    "\n",
    "    label_encoders = {}\n",
    "    for col in categorical_cols:\n",
    "        le = LabelEncoder()\n",
    "        scaled_df[col] = le.fit_transform(scaled_df[col])\n",
    "        label_encoders[col] = le\n",
    "\n",
    "    scaler = StandardScaler()\n",
    "    scaled_df[numerical_cols] = scaler.fit_transform(scaled_df[numerical_cols])\n",
    "\n",
    "    return scaled_df\n",
    "\n",
    "sample_scaled = encode_and_scale(sample)"
   ]
  },
  {
   "cell_type": "code",
   "execution_count": 119,
   "id": "4d1029e3",
   "metadata": {},
   "outputs": [
    {
     "data": {
      "text/plain": [
       "{'Gender': LabelEncoder(),\n",
       " 'Location': LabelEncoder(),\n",
       " 'Subscription_Type': LabelEncoder()}"
      ]
     },
     "execution_count": 119,
     "metadata": {},
     "output_type": "execute_result"
    }
   ],
   "source": [
    "label_encoders"
   ]
  },
  {
   "cell_type": "code",
   "execution_count": 120,
   "id": "7d354fae",
   "metadata": {},
   "outputs": [],
   "source": [
    "def load_encoder(model_path):\n",
    "    label_encoders = joblib.load(model_path)\n",
    "    return label_encoders\n",
    "\n",
    "encoders = load_encoder('label_encoders.pkl')"
   ]
  },
  {
   "cell_type": "code",
   "execution_count": 121,
   "id": "cc1423de",
   "metadata": {},
   "outputs": [
    {
     "data": {
      "text/plain": [
       "{'Gender': LabelEncoder(),\n",
       " 'Location': LabelEncoder(),\n",
       " 'Subscription_Type': LabelEncoder()}"
      ]
     },
     "execution_count": 121,
     "metadata": {},
     "output_type": "execute_result"
    }
   ],
   "source": [
    "encoders"
   ]
  },
  {
   "cell_type": "code",
   "execution_count": 122,
   "id": "c17e6fe9",
   "metadata": {},
   "outputs": [
    {
     "data": {
      "text/html": [
       "<style>#sk-container-id-2 {\n",
       "  /* Definition of color scheme common for light and dark mode */\n",
       "  --sklearn-color-text: black;\n",
       "  --sklearn-color-line: gray;\n",
       "  /* Definition of color scheme for unfitted estimators */\n",
       "  --sklearn-color-unfitted-level-0: #fff5e6;\n",
       "  --sklearn-color-unfitted-level-1: #f6e4d2;\n",
       "  --sklearn-color-unfitted-level-2: #ffe0b3;\n",
       "  --sklearn-color-unfitted-level-3: chocolate;\n",
       "  /* Definition of color scheme for fitted estimators */\n",
       "  --sklearn-color-fitted-level-0: #f0f8ff;\n",
       "  --sklearn-color-fitted-level-1: #d4ebff;\n",
       "  --sklearn-color-fitted-level-2: #b3dbfd;\n",
       "  --sklearn-color-fitted-level-3: cornflowerblue;\n",
       "\n",
       "  /* Specific color for light theme */\n",
       "  --sklearn-color-text-on-default-background: var(--sg-text-color, var(--theme-code-foreground, var(--jp-content-font-color1, black)));\n",
       "  --sklearn-color-background: var(--sg-background-color, var(--theme-background, var(--jp-layout-color0, white)));\n",
       "  --sklearn-color-border-box: var(--sg-text-color, var(--theme-code-foreground, var(--jp-content-font-color1, black)));\n",
       "  --sklearn-color-icon: #696969;\n",
       "\n",
       "  @media (prefers-color-scheme: dark) {\n",
       "    /* Redefinition of color scheme for dark theme */\n",
       "    --sklearn-color-text-on-default-background: var(--sg-text-color, var(--theme-code-foreground, var(--jp-content-font-color1, white)));\n",
       "    --sklearn-color-background: var(--sg-background-color, var(--theme-background, var(--jp-layout-color0, #111)));\n",
       "    --sklearn-color-border-box: var(--sg-text-color, var(--theme-code-foreground, var(--jp-content-font-color1, white)));\n",
       "    --sklearn-color-icon: #878787;\n",
       "  }\n",
       "}\n",
       "\n",
       "#sk-container-id-2 {\n",
       "  color: var(--sklearn-color-text);\n",
       "}\n",
       "\n",
       "#sk-container-id-2 pre {\n",
       "  padding: 0;\n",
       "}\n",
       "\n",
       "#sk-container-id-2 input.sk-hidden--visually {\n",
       "  border: 0;\n",
       "  clip: rect(1px 1px 1px 1px);\n",
       "  clip: rect(1px, 1px, 1px, 1px);\n",
       "  height: 1px;\n",
       "  margin: -1px;\n",
       "  overflow: hidden;\n",
       "  padding: 0;\n",
       "  position: absolute;\n",
       "  width: 1px;\n",
       "}\n",
       "\n",
       "#sk-container-id-2 div.sk-dashed-wrapped {\n",
       "  border: 1px dashed var(--sklearn-color-line);\n",
       "  margin: 0 0.4em 0.5em 0.4em;\n",
       "  box-sizing: border-box;\n",
       "  padding-bottom: 0.4em;\n",
       "  background-color: var(--sklearn-color-background);\n",
       "}\n",
       "\n",
       "#sk-container-id-2 div.sk-container {\n",
       "  /* jupyter's `normalize.less` sets `[hidden] { display: none; }`\n",
       "     but bootstrap.min.css set `[hidden] { display: none !important; }`\n",
       "     so we also need the `!important` here to be able to override the\n",
       "     default hidden behavior on the sphinx rendered scikit-learn.org.\n",
       "     See: https://github.com/scikit-learn/scikit-learn/issues/21755 */\n",
       "  display: inline-block !important;\n",
       "  position: relative;\n",
       "}\n",
       "\n",
       "#sk-container-id-2 div.sk-text-repr-fallback {\n",
       "  display: none;\n",
       "}\n",
       "\n",
       "div.sk-parallel-item,\n",
       "div.sk-serial,\n",
       "div.sk-item {\n",
       "  /* draw centered vertical line to link estimators */\n",
       "  background-image: linear-gradient(var(--sklearn-color-text-on-default-background), var(--sklearn-color-text-on-default-background));\n",
       "  background-size: 2px 100%;\n",
       "  background-repeat: no-repeat;\n",
       "  background-position: center center;\n",
       "}\n",
       "\n",
       "/* Parallel-specific style estimator block */\n",
       "\n",
       "#sk-container-id-2 div.sk-parallel-item::after {\n",
       "  content: \"\";\n",
       "  width: 100%;\n",
       "  border-bottom: 2px solid var(--sklearn-color-text-on-default-background);\n",
       "  flex-grow: 1;\n",
       "}\n",
       "\n",
       "#sk-container-id-2 div.sk-parallel {\n",
       "  display: flex;\n",
       "  align-items: stretch;\n",
       "  justify-content: center;\n",
       "  background-color: var(--sklearn-color-background);\n",
       "  position: relative;\n",
       "}\n",
       "\n",
       "#sk-container-id-2 div.sk-parallel-item {\n",
       "  display: flex;\n",
       "  flex-direction: column;\n",
       "}\n",
       "\n",
       "#sk-container-id-2 div.sk-parallel-item:first-child::after {\n",
       "  align-self: flex-end;\n",
       "  width: 50%;\n",
       "}\n",
       "\n",
       "#sk-container-id-2 div.sk-parallel-item:last-child::after {\n",
       "  align-self: flex-start;\n",
       "  width: 50%;\n",
       "}\n",
       "\n",
       "#sk-container-id-2 div.sk-parallel-item:only-child::after {\n",
       "  width: 0;\n",
       "}\n",
       "\n",
       "/* Serial-specific style estimator block */\n",
       "\n",
       "#sk-container-id-2 div.sk-serial {\n",
       "  display: flex;\n",
       "  flex-direction: column;\n",
       "  align-items: center;\n",
       "  background-color: var(--sklearn-color-background);\n",
       "  padding-right: 1em;\n",
       "  padding-left: 1em;\n",
       "}\n",
       "\n",
       "\n",
       "/* Toggleable style: style used for estimator/Pipeline/ColumnTransformer box that is\n",
       "clickable and can be expanded/collapsed.\n",
       "- Pipeline and ColumnTransformer use this feature and define the default style\n",
       "- Estimators will overwrite some part of the style using the `sk-estimator` class\n",
       "*/\n",
       "\n",
       "/* Pipeline and ColumnTransformer style (default) */\n",
       "\n",
       "#sk-container-id-2 div.sk-toggleable {\n",
       "  /* Default theme specific background. It is overwritten whether we have a\n",
       "  specific estimator or a Pipeline/ColumnTransformer */\n",
       "  background-color: var(--sklearn-color-background);\n",
       "}\n",
       "\n",
       "/* Toggleable label */\n",
       "#sk-container-id-2 label.sk-toggleable__label {\n",
       "  cursor: pointer;\n",
       "  display: block;\n",
       "  width: 100%;\n",
       "  margin-bottom: 0;\n",
       "  padding: 0.5em;\n",
       "  box-sizing: border-box;\n",
       "  text-align: center;\n",
       "}\n",
       "\n",
       "#sk-container-id-2 label.sk-toggleable__label-arrow:before {\n",
       "  /* Arrow on the left of the label */\n",
       "  content: \"▸\";\n",
       "  float: left;\n",
       "  margin-right: 0.25em;\n",
       "  color: var(--sklearn-color-icon);\n",
       "}\n",
       "\n",
       "#sk-container-id-2 label.sk-toggleable__label-arrow:hover:before {\n",
       "  color: var(--sklearn-color-text);\n",
       "}\n",
       "\n",
       "/* Toggleable content - dropdown */\n",
       "\n",
       "#sk-container-id-2 div.sk-toggleable__content {\n",
       "  max-height: 0;\n",
       "  max-width: 0;\n",
       "  overflow: hidden;\n",
       "  text-align: left;\n",
       "  /* unfitted */\n",
       "  background-color: var(--sklearn-color-unfitted-level-0);\n",
       "}\n",
       "\n",
       "#sk-container-id-2 div.sk-toggleable__content.fitted {\n",
       "  /* fitted */\n",
       "  background-color: var(--sklearn-color-fitted-level-0);\n",
       "}\n",
       "\n",
       "#sk-container-id-2 div.sk-toggleable__content pre {\n",
       "  margin: 0.2em;\n",
       "  border-radius: 0.25em;\n",
       "  color: var(--sklearn-color-text);\n",
       "  /* unfitted */\n",
       "  background-color: var(--sklearn-color-unfitted-level-0);\n",
       "}\n",
       "\n",
       "#sk-container-id-2 div.sk-toggleable__content.fitted pre {\n",
       "  /* unfitted */\n",
       "  background-color: var(--sklearn-color-fitted-level-0);\n",
       "}\n",
       "\n",
       "#sk-container-id-2 input.sk-toggleable__control:checked~div.sk-toggleable__content {\n",
       "  /* Expand drop-down */\n",
       "  max-height: 200px;\n",
       "  max-width: 100%;\n",
       "  overflow: auto;\n",
       "}\n",
       "\n",
       "#sk-container-id-2 input.sk-toggleable__control:checked~label.sk-toggleable__label-arrow:before {\n",
       "  content: \"▾\";\n",
       "}\n",
       "\n",
       "/* Pipeline/ColumnTransformer-specific style */\n",
       "\n",
       "#sk-container-id-2 div.sk-label input.sk-toggleable__control:checked~label.sk-toggleable__label {\n",
       "  color: var(--sklearn-color-text);\n",
       "  background-color: var(--sklearn-color-unfitted-level-2);\n",
       "}\n",
       "\n",
       "#sk-container-id-2 div.sk-label.fitted input.sk-toggleable__control:checked~label.sk-toggleable__label {\n",
       "  background-color: var(--sklearn-color-fitted-level-2);\n",
       "}\n",
       "\n",
       "/* Estimator-specific style */\n",
       "\n",
       "/* Colorize estimator box */\n",
       "#sk-container-id-2 div.sk-estimator input.sk-toggleable__control:checked~label.sk-toggleable__label {\n",
       "  /* unfitted */\n",
       "  background-color: var(--sklearn-color-unfitted-level-2);\n",
       "}\n",
       "\n",
       "#sk-container-id-2 div.sk-estimator.fitted input.sk-toggleable__control:checked~label.sk-toggleable__label {\n",
       "  /* fitted */\n",
       "  background-color: var(--sklearn-color-fitted-level-2);\n",
       "}\n",
       "\n",
       "#sk-container-id-2 div.sk-label label.sk-toggleable__label,\n",
       "#sk-container-id-2 div.sk-label label {\n",
       "  /* The background is the default theme color */\n",
       "  color: var(--sklearn-color-text-on-default-background);\n",
       "}\n",
       "\n",
       "/* On hover, darken the color of the background */\n",
       "#sk-container-id-2 div.sk-label:hover label.sk-toggleable__label {\n",
       "  color: var(--sklearn-color-text);\n",
       "  background-color: var(--sklearn-color-unfitted-level-2);\n",
       "}\n",
       "\n",
       "/* Label box, darken color on hover, fitted */\n",
       "#sk-container-id-2 div.sk-label.fitted:hover label.sk-toggleable__label.fitted {\n",
       "  color: var(--sklearn-color-text);\n",
       "  background-color: var(--sklearn-color-fitted-level-2);\n",
       "}\n",
       "\n",
       "/* Estimator label */\n",
       "\n",
       "#sk-container-id-2 div.sk-label label {\n",
       "  font-family: monospace;\n",
       "  font-weight: bold;\n",
       "  display: inline-block;\n",
       "  line-height: 1.2em;\n",
       "}\n",
       "\n",
       "#sk-container-id-2 div.sk-label-container {\n",
       "  text-align: center;\n",
       "}\n",
       "\n",
       "/* Estimator-specific */\n",
       "#sk-container-id-2 div.sk-estimator {\n",
       "  font-family: monospace;\n",
       "  border: 1px dotted var(--sklearn-color-border-box);\n",
       "  border-radius: 0.25em;\n",
       "  box-sizing: border-box;\n",
       "  margin-bottom: 0.5em;\n",
       "  /* unfitted */\n",
       "  background-color: var(--sklearn-color-unfitted-level-0);\n",
       "}\n",
       "\n",
       "#sk-container-id-2 div.sk-estimator.fitted {\n",
       "  /* fitted */\n",
       "  background-color: var(--sklearn-color-fitted-level-0);\n",
       "}\n",
       "\n",
       "/* on hover */\n",
       "#sk-container-id-2 div.sk-estimator:hover {\n",
       "  /* unfitted */\n",
       "  background-color: var(--sklearn-color-unfitted-level-2);\n",
       "}\n",
       "\n",
       "#sk-container-id-2 div.sk-estimator.fitted:hover {\n",
       "  /* fitted */\n",
       "  background-color: var(--sklearn-color-fitted-level-2);\n",
       "}\n",
       "\n",
       "/* Specification for estimator info (e.g. \"i\" and \"?\") */\n",
       "\n",
       "/* Common style for \"i\" and \"?\" */\n",
       "\n",
       ".sk-estimator-doc-link,\n",
       "a:link.sk-estimator-doc-link,\n",
       "a:visited.sk-estimator-doc-link {\n",
       "  float: right;\n",
       "  font-size: smaller;\n",
       "  line-height: 1em;\n",
       "  font-family: monospace;\n",
       "  background-color: var(--sklearn-color-background);\n",
       "  border-radius: 1em;\n",
       "  height: 1em;\n",
       "  width: 1em;\n",
       "  text-decoration: none !important;\n",
       "  margin-left: 1ex;\n",
       "  /* unfitted */\n",
       "  border: var(--sklearn-color-unfitted-level-1) 1pt solid;\n",
       "  color: var(--sklearn-color-unfitted-level-1);\n",
       "}\n",
       "\n",
       ".sk-estimator-doc-link.fitted,\n",
       "a:link.sk-estimator-doc-link.fitted,\n",
       "a:visited.sk-estimator-doc-link.fitted {\n",
       "  /* fitted */\n",
       "  border: var(--sklearn-color-fitted-level-1) 1pt solid;\n",
       "  color: var(--sklearn-color-fitted-level-1);\n",
       "}\n",
       "\n",
       "/* On hover */\n",
       "div.sk-estimator:hover .sk-estimator-doc-link:hover,\n",
       ".sk-estimator-doc-link:hover,\n",
       "div.sk-label-container:hover .sk-estimator-doc-link:hover,\n",
       ".sk-estimator-doc-link:hover {\n",
       "  /* unfitted */\n",
       "  background-color: var(--sklearn-color-unfitted-level-3);\n",
       "  color: var(--sklearn-color-background);\n",
       "  text-decoration: none;\n",
       "}\n",
       "\n",
       "div.sk-estimator.fitted:hover .sk-estimator-doc-link.fitted:hover,\n",
       ".sk-estimator-doc-link.fitted:hover,\n",
       "div.sk-label-container:hover .sk-estimator-doc-link.fitted:hover,\n",
       ".sk-estimator-doc-link.fitted:hover {\n",
       "  /* fitted */\n",
       "  background-color: var(--sklearn-color-fitted-level-3);\n",
       "  color: var(--sklearn-color-background);\n",
       "  text-decoration: none;\n",
       "}\n",
       "\n",
       "/* Span, style for the box shown on hovering the info icon */\n",
       ".sk-estimator-doc-link span {\n",
       "  display: none;\n",
       "  z-index: 9999;\n",
       "  position: relative;\n",
       "  font-weight: normal;\n",
       "  right: .2ex;\n",
       "  padding: .5ex;\n",
       "  margin: .5ex;\n",
       "  width: min-content;\n",
       "  min-width: 20ex;\n",
       "  max-width: 50ex;\n",
       "  color: var(--sklearn-color-text);\n",
       "  box-shadow: 2pt 2pt 4pt #999;\n",
       "  /* unfitted */\n",
       "  background: var(--sklearn-color-unfitted-level-0);\n",
       "  border: .5pt solid var(--sklearn-color-unfitted-level-3);\n",
       "}\n",
       "\n",
       ".sk-estimator-doc-link.fitted span {\n",
       "  /* fitted */\n",
       "  background: var(--sklearn-color-fitted-level-0);\n",
       "  border: var(--sklearn-color-fitted-level-3);\n",
       "}\n",
       "\n",
       ".sk-estimator-doc-link:hover span {\n",
       "  display: block;\n",
       "}\n",
       "\n",
       "/* \"?\"-specific style due to the `<a>` HTML tag */\n",
       "\n",
       "#sk-container-id-2 a.estimator_doc_link {\n",
       "  float: right;\n",
       "  font-size: 1rem;\n",
       "  line-height: 1em;\n",
       "  font-family: monospace;\n",
       "  background-color: var(--sklearn-color-background);\n",
       "  border-radius: 1rem;\n",
       "  height: 1rem;\n",
       "  width: 1rem;\n",
       "  text-decoration: none;\n",
       "  /* unfitted */\n",
       "  color: var(--sklearn-color-unfitted-level-1);\n",
       "  border: var(--sklearn-color-unfitted-level-1) 1pt solid;\n",
       "}\n",
       "\n",
       "#sk-container-id-2 a.estimator_doc_link.fitted {\n",
       "  /* fitted */\n",
       "  border: var(--sklearn-color-fitted-level-1) 1pt solid;\n",
       "  color: var(--sklearn-color-fitted-level-1);\n",
       "}\n",
       "\n",
       "/* On hover */\n",
       "#sk-container-id-2 a.estimator_doc_link:hover {\n",
       "  /* unfitted */\n",
       "  background-color: var(--sklearn-color-unfitted-level-3);\n",
       "  color: var(--sklearn-color-background);\n",
       "  text-decoration: none;\n",
       "}\n",
       "\n",
       "#sk-container-id-2 a.estimator_doc_link.fitted:hover {\n",
       "  /* fitted */\n",
       "  background-color: var(--sklearn-color-fitted-level-3);\n",
       "}\n",
       "</style><div id=\"sk-container-id-2\" class=\"sk-top-container\"><div class=\"sk-text-repr-fallback\"><pre>StandardScaler()</pre><b>In a Jupyter environment, please rerun this cell to show the HTML representation or trust the notebook. <br />On GitHub, the HTML representation is unable to render, please try loading this page with nbviewer.org.</b></div><div class=\"sk-container\" hidden><div class=\"sk-item\"><div class=\"sk-estimator fitted sk-toggleable\"><input class=\"sk-toggleable__control sk-hidden--visually\" id=\"sk-estimator-id-2\" type=\"checkbox\" checked><label for=\"sk-estimator-id-2\" class=\"sk-toggleable__label fitted sk-toggleable__label-arrow fitted\">&nbsp;&nbsp;StandardScaler<a class=\"sk-estimator-doc-link fitted\" rel=\"noreferrer\" target=\"_blank\" href=\"https://scikit-learn.org/1.5/modules/generated/sklearn.preprocessing.StandardScaler.html\">?<span>Documentation for StandardScaler</span></a><span class=\"sk-estimator-doc-link fitted\">i<span>Fitted</span></span></label><div class=\"sk-toggleable__content fitted\"><pre>StandardScaler()</pre></div> </div></div></div></div>"
      ],
      "text/plain": [
       "StandardScaler()"
      ]
     },
     "execution_count": 122,
     "metadata": {},
     "output_type": "execute_result"
    }
   ],
   "source": [
    "def load_scaler(model_path):\n",
    "    scaler = joblib.load(model_path)\n",
    "    return scaler\n",
    "\n",
    "scaler = load_scaler('scaler.pkl')\n",
    "scaler"
   ]
  },
  {
   "cell_type": "code",
   "execution_count": 110,
   "id": "b2a2d15c",
   "metadata": {},
   "outputs": [
    {
     "data": {
      "text/plain": [
       "array([0, 7], dtype=int32)"
      ]
     },
     "execution_count": 110,
     "metadata": {},
     "output_type": "execute_result"
    }
   ],
   "source": [
    "kmeans_loaded.predict(sample)"
   ]
  },
  {
   "cell_type": "code",
   "execution_count": 10,
   "id": "53dcbc7c",
   "metadata": {},
   "outputs": [],
   "source": [
    "new_df = df.copy()"
   ]
  },
  {
   "cell_type": "code",
   "execution_count": 11,
   "id": "45a8058b",
   "metadata": {},
   "outputs": [],
   "source": [
    "import numpy as np\n",
    "\n",
    "weight_subscription_length = -0.3\n",
    "weight_monthly_bill = 0.5\n",
    "weight_internet_usage = -0.4\n",
    "weight_talktime_usage = -0.2\n",
    "weight_tickets = 0.3\n",
    "\n",
    "new_df['churn_score'] = (\n",
    "    weight_subscription_length * (new_df['Subscription_Length_Months'] < 6).astype(int) +\n",
    "    weight_monthly_bill * (new_df['Monthly_Bill'] > df['Monthly_Bill'].mean()).astype(int) +\n",
    "    weight_internet_usage * (new_df['Average_Internet_Usage'] < new_df['Average_Internet_Usage'].quantile(0.25)).astype(int) +\n",
    "    weight_talktime_usage * (new_df['Average_Talktime_Usage'] < new_df['Average_Talktime_Usage'].quantile(0.25)).astype(int) +\n",
    "    weight_tickets * (new_df['No_of_Tickets'] > new_df['No_of_Tickets'].mean()).astype(int)\n",
    ")\n",
    "\n",
    "new_df['churn_prob'] = 1 / (1 + np.exp(-new_df['churn_score']))\n"
   ]
  },
  {
   "cell_type": "code",
   "execution_count": 12,
   "id": "757466e1",
   "metadata": {},
   "outputs": [],
   "source": [
    "np.random.seed(42)\n",
    "new_df['churn_label'] = np.random.binomial(1, new_df['churn_prob'])"
   ]
  },
  {
   "cell_type": "code",
   "execution_count": 13,
   "id": "d5dd788d",
   "metadata": {},
   "outputs": [
    {
     "data": {
      "text/html": [
       "<div>\n",
       "<style scoped>\n",
       "    .dataframe tbody tr th:only-of-type {\n",
       "        vertical-align: middle;\n",
       "    }\n",
       "\n",
       "    .dataframe tbody tr th {\n",
       "        vertical-align: top;\n",
       "    }\n",
       "\n",
       "    .dataframe thead th {\n",
       "        text-align: right;\n",
       "    }\n",
       "</style>\n",
       "<table border=\"1\" class=\"dataframe\">\n",
       "  <thead>\n",
       "    <tr style=\"text-align: right;\">\n",
       "      <th></th>\n",
       "      <th>CustomerID</th>\n",
       "      <th>Name</th>\n",
       "      <th>Age</th>\n",
       "      <th>Gender</th>\n",
       "      <th>Location</th>\n",
       "      <th>Subscription_Length_Months</th>\n",
       "      <th>Monthly_Bill</th>\n",
       "      <th>Average_Internet_Usage</th>\n",
       "      <th>No_of_Tickets</th>\n",
       "      <th>Average_Talktime_Usage</th>\n",
       "      <th>Social_Class</th>\n",
       "      <th>Subscription_Type</th>\n",
       "      <th>Base_Charge</th>\n",
       "      <th>churn_score</th>\n",
       "      <th>churn_prob</th>\n",
       "      <th>churn_label</th>\n",
       "    </tr>\n",
       "  </thead>\n",
       "  <tbody>\n",
       "    <tr>\n",
       "      <th>0</th>\n",
       "      <td>1</td>\n",
       "      <td>Customer_1</td>\n",
       "      <td>56</td>\n",
       "      <td>Male</td>\n",
       "      <td>Urban</td>\n",
       "      <td>29</td>\n",
       "      <td>286.658992</td>\n",
       "      <td>24.945633</td>\n",
       "      <td>0</td>\n",
       "      <td>23.316484</td>\n",
       "      <td>1</td>\n",
       "      <td>A</td>\n",
       "      <td>100</td>\n",
       "      <td>-0.6</td>\n",
       "      <td>0.354344</td>\n",
       "      <td>0</td>\n",
       "    </tr>\n",
       "    <tr>\n",
       "      <th>1</th>\n",
       "      <td>2</td>\n",
       "      <td>Customer_2</td>\n",
       "      <td>69</td>\n",
       "      <td>Female</td>\n",
       "      <td>Rural</td>\n",
       "      <td>24</td>\n",
       "      <td>706.286532</td>\n",
       "      <td>241.090001</td>\n",
       "      <td>1</td>\n",
       "      <td>97.662416</td>\n",
       "      <td>2</td>\n",
       "      <td>C</td>\n",
       "      <td>300</td>\n",
       "      <td>0.3</td>\n",
       "      <td>0.574443</td>\n",
       "      <td>0</td>\n",
       "    </tr>\n",
       "    <tr>\n",
       "      <th>2</th>\n",
       "      <td>3</td>\n",
       "      <td>Customer_3</td>\n",
       "      <td>46</td>\n",
       "      <td>Female</td>\n",
       "      <td>Suburban</td>\n",
       "      <td>14</td>\n",
       "      <td>1070.546459</td>\n",
       "      <td>279.855149</td>\n",
       "      <td>0</td>\n",
       "      <td>154.816437</td>\n",
       "      <td>3</td>\n",
       "      <td>D</td>\n",
       "      <td>400</td>\n",
       "      <td>0.5</td>\n",
       "      <td>0.622459</td>\n",
       "      <td>0</td>\n",
       "    </tr>\n",
       "    <tr>\n",
       "      <th>3</th>\n",
       "      <td>4</td>\n",
       "      <td>Customer_4</td>\n",
       "      <td>32</td>\n",
       "      <td>Female</td>\n",
       "      <td>Urban</td>\n",
       "      <td>14</td>\n",
       "      <td>338.363834</td>\n",
       "      <td>40.517955</td>\n",
       "      <td>2</td>\n",
       "      <td>125.948657</td>\n",
       "      <td>1</td>\n",
       "      <td>B</td>\n",
       "      <td>200</td>\n",
       "      <td>-0.1</td>\n",
       "      <td>0.475021</td>\n",
       "      <td>1</td>\n",
       "    </tr>\n",
       "    <tr>\n",
       "      <th>4</th>\n",
       "      <td>5</td>\n",
       "      <td>Customer_5</td>\n",
       "      <td>60</td>\n",
       "      <td>Male</td>\n",
       "      <td>Suburban</td>\n",
       "      <td>25</td>\n",
       "      <td>835.573690</td>\n",
       "      <td>122.903374</td>\n",
       "      <td>0</td>\n",
       "      <td>289.171509</td>\n",
       "      <td>2</td>\n",
       "      <td>C</td>\n",
       "      <td>300</td>\n",
       "      <td>0.0</td>\n",
       "      <td>0.500000</td>\n",
       "      <td>0</td>\n",
       "    </tr>\n",
       "    <tr>\n",
       "      <th>...</th>\n",
       "      <td>...</td>\n",
       "      <td>...</td>\n",
       "      <td>...</td>\n",
       "      <td>...</td>\n",
       "      <td>...</td>\n",
       "      <td>...</td>\n",
       "      <td>...</td>\n",
       "      <td>...</td>\n",
       "      <td>...</td>\n",
       "      <td>...</td>\n",
       "      <td>...</td>\n",
       "      <td>...</td>\n",
       "      <td>...</td>\n",
       "      <td>...</td>\n",
       "      <td>...</td>\n",
       "      <td>...</td>\n",
       "    </tr>\n",
       "    <tr>\n",
       "      <th>9995</th>\n",
       "      <td>9996</td>\n",
       "      <td>Customer_9996</td>\n",
       "      <td>55</td>\n",
       "      <td>Male</td>\n",
       "      <td>Suburban</td>\n",
       "      <td>34</td>\n",
       "      <td>676.156043</td>\n",
       "      <td>64.540758</td>\n",
       "      <td>3</td>\n",
       "      <td>158.962291</td>\n",
       "      <td>2</td>\n",
       "      <td>C</td>\n",
       "      <td>300</td>\n",
       "      <td>0.3</td>\n",
       "      <td>0.574443</td>\n",
       "      <td>0</td>\n",
       "    </tr>\n",
       "    <tr>\n",
       "      <th>9996</th>\n",
       "      <td>9997</td>\n",
       "      <td>Customer_9997</td>\n",
       "      <td>51</td>\n",
       "      <td>Female</td>\n",
       "      <td>Rural</td>\n",
       "      <td>16</td>\n",
       "      <td>337.508892</td>\n",
       "      <td>10.041086</td>\n",
       "      <td>0</td>\n",
       "      <td>128.771894</td>\n",
       "      <td>1</td>\n",
       "      <td>B</td>\n",
       "      <td>200</td>\n",
       "      <td>-0.4</td>\n",
       "      <td>0.401312</td>\n",
       "      <td>1</td>\n",
       "    </tr>\n",
       "    <tr>\n",
       "      <th>9997</th>\n",
       "      <td>9998</td>\n",
       "      <td>Customer_9998</td>\n",
       "      <td>57</td>\n",
       "      <td>Female</td>\n",
       "      <td>Rural</td>\n",
       "      <td>27</td>\n",
       "      <td>1483.984362</td>\n",
       "      <td>401.194578</td>\n",
       "      <td>1</td>\n",
       "      <td>397.613115</td>\n",
       "      <td>3</td>\n",
       "      <td>E</td>\n",
       "      <td>500</td>\n",
       "      <td>0.8</td>\n",
       "      <td>0.689974</td>\n",
       "      <td>0</td>\n",
       "    </tr>\n",
       "    <tr>\n",
       "      <th>9998</th>\n",
       "      <td>9999</td>\n",
       "      <td>Customer_9999</td>\n",
       "      <td>64</td>\n",
       "      <td>Male</td>\n",
       "      <td>Suburban</td>\n",
       "      <td>4</td>\n",
       "      <td>311.640946</td>\n",
       "      <td>87.497384</td>\n",
       "      <td>0</td>\n",
       "      <td>27.245347</td>\n",
       "      <td>1</td>\n",
       "      <td>B</td>\n",
       "      <td>200</td>\n",
       "      <td>-0.5</td>\n",
       "      <td>0.377541</td>\n",
       "      <td>0</td>\n",
       "    </tr>\n",
       "    <tr>\n",
       "      <th>9999</th>\n",
       "      <td>10000</td>\n",
       "      <td>Customer_10000</td>\n",
       "      <td>32</td>\n",
       "      <td>Female</td>\n",
       "      <td>Rural</td>\n",
       "      <td>19</td>\n",
       "      <td>419.187963</td>\n",
       "      <td>58.354579</td>\n",
       "      <td>1</td>\n",
       "      <td>30.201921</td>\n",
       "      <td>1</td>\n",
       "      <td>B</td>\n",
       "      <td>200</td>\n",
       "      <td>0.1</td>\n",
       "      <td>0.524979</td>\n",
       "      <td>1</td>\n",
       "    </tr>\n",
       "  </tbody>\n",
       "</table>\n",
       "<p>10000 rows × 16 columns</p>\n",
       "</div>"
      ],
      "text/plain": [
       "      CustomerID            Name  Age  Gender  Location  \\\n",
       "0              1      Customer_1   56    Male     Urban   \n",
       "1              2      Customer_2   69  Female     Rural   \n",
       "2              3      Customer_3   46  Female  Suburban   \n",
       "3              4      Customer_4   32  Female     Urban   \n",
       "4              5      Customer_5   60    Male  Suburban   \n",
       "...          ...             ...  ...     ...       ...   \n",
       "9995        9996   Customer_9996   55    Male  Suburban   \n",
       "9996        9997   Customer_9997   51  Female     Rural   \n",
       "9997        9998   Customer_9998   57  Female     Rural   \n",
       "9998        9999   Customer_9999   64    Male  Suburban   \n",
       "9999       10000  Customer_10000   32  Female     Rural   \n",
       "\n",
       "      Subscription_Length_Months  Monthly_Bill  Average_Internet_Usage  \\\n",
       "0                             29    286.658992               24.945633   \n",
       "1                             24    706.286532              241.090001   \n",
       "2                             14   1070.546459              279.855149   \n",
       "3                             14    338.363834               40.517955   \n",
       "4                             25    835.573690              122.903374   \n",
       "...                          ...           ...                     ...   \n",
       "9995                          34    676.156043               64.540758   \n",
       "9996                          16    337.508892               10.041086   \n",
       "9997                          27   1483.984362              401.194578   \n",
       "9998                           4    311.640946               87.497384   \n",
       "9999                          19    419.187963               58.354579   \n",
       "\n",
       "      No_of_Tickets  Average_Talktime_Usage  Social_Class Subscription_Type  \\\n",
       "0                 0               23.316484             1                 A   \n",
       "1                 1               97.662416             2                 C   \n",
       "2                 0              154.816437             3                 D   \n",
       "3                 2              125.948657             1                 B   \n",
       "4                 0              289.171509             2                 C   \n",
       "...             ...                     ...           ...               ...   \n",
       "9995              3              158.962291             2                 C   \n",
       "9996              0              128.771894             1                 B   \n",
       "9997              1              397.613115             3                 E   \n",
       "9998              0               27.245347             1                 B   \n",
       "9999              1               30.201921             1                 B   \n",
       "\n",
       "      Base_Charge  churn_score  churn_prob  churn_label  \n",
       "0             100         -0.6    0.354344            0  \n",
       "1             300          0.3    0.574443            0  \n",
       "2             400          0.5    0.622459            0  \n",
       "3             200         -0.1    0.475021            1  \n",
       "4             300          0.0    0.500000            0  \n",
       "...           ...          ...         ...          ...  \n",
       "9995          300          0.3    0.574443            0  \n",
       "9996          200         -0.4    0.401312            1  \n",
       "9997          500          0.8    0.689974            0  \n",
       "9998          200         -0.5    0.377541            0  \n",
       "9999          200          0.1    0.524979            1  \n",
       "\n",
       "[10000 rows x 16 columns]"
      ]
     },
     "execution_count": 13,
     "metadata": {},
     "output_type": "execute_result"
    }
   ],
   "source": [
    "new_df"
   ]
  },
  {
   "cell_type": "code",
   "execution_count": 14,
   "id": "85793d8a",
   "metadata": {},
   "outputs": [
    {
     "data": {
      "text/plain": [
       "churn_label\n",
       "1    5533\n",
       "0    4467\n",
       "Name: count, dtype: int64"
      ]
     },
     "execution_count": 14,
     "metadata": {},
     "output_type": "execute_result"
    }
   ],
   "source": [
    "new_df['churn_label'].value_counts()"
   ]
  },
  {
   "cell_type": "code",
   "execution_count": 15,
   "id": "2bc9b276",
   "metadata": {},
   "outputs": [
    {
     "data": {
      "text/html": [
       "<div>\n",
       "<style scoped>\n",
       "    .dataframe tbody tr th:only-of-type {\n",
       "        vertical-align: middle;\n",
       "    }\n",
       "\n",
       "    .dataframe tbody tr th {\n",
       "        vertical-align: top;\n",
       "    }\n",
       "\n",
       "    .dataframe thead th {\n",
       "        text-align: right;\n",
       "    }\n",
       "</style>\n",
       "<table border=\"1\" class=\"dataframe\">\n",
       "  <thead>\n",
       "    <tr style=\"text-align: right;\">\n",
       "      <th></th>\n",
       "      <th>CustomerID</th>\n",
       "      <th>Name</th>\n",
       "      <th>Age</th>\n",
       "      <th>Gender</th>\n",
       "      <th>Location</th>\n",
       "      <th>Subscription_Length_Months</th>\n",
       "      <th>Monthly_Bill</th>\n",
       "      <th>Average_Internet_Usage</th>\n",
       "      <th>No_of_Tickets</th>\n",
       "      <th>Average_Talktime_Usage</th>\n",
       "      <th>Social_Class</th>\n",
       "      <th>Subscription_Type</th>\n",
       "      <th>Base_Charge</th>\n",
       "    </tr>\n",
       "  </thead>\n",
       "  <tbody>\n",
       "    <tr>\n",
       "      <th>0</th>\n",
       "      <td>1</td>\n",
       "      <td>Customer_1</td>\n",
       "      <td>56</td>\n",
       "      <td>Male</td>\n",
       "      <td>Urban</td>\n",
       "      <td>29</td>\n",
       "      <td>286.658992</td>\n",
       "      <td>24.945633</td>\n",
       "      <td>0</td>\n",
       "      <td>23.316484</td>\n",
       "      <td>1</td>\n",
       "      <td>A</td>\n",
       "      <td>100</td>\n",
       "    </tr>\n",
       "    <tr>\n",
       "      <th>1</th>\n",
       "      <td>2</td>\n",
       "      <td>Customer_2</td>\n",
       "      <td>69</td>\n",
       "      <td>Female</td>\n",
       "      <td>Rural</td>\n",
       "      <td>24</td>\n",
       "      <td>706.286532</td>\n",
       "      <td>241.090001</td>\n",
       "      <td>1</td>\n",
       "      <td>97.662416</td>\n",
       "      <td>2</td>\n",
       "      <td>C</td>\n",
       "      <td>300</td>\n",
       "    </tr>\n",
       "    <tr>\n",
       "      <th>2</th>\n",
       "      <td>3</td>\n",
       "      <td>Customer_3</td>\n",
       "      <td>46</td>\n",
       "      <td>Female</td>\n",
       "      <td>Suburban</td>\n",
       "      <td>14</td>\n",
       "      <td>1070.546459</td>\n",
       "      <td>279.855149</td>\n",
       "      <td>0</td>\n",
       "      <td>154.816437</td>\n",
       "      <td>3</td>\n",
       "      <td>D</td>\n",
       "      <td>400</td>\n",
       "    </tr>\n",
       "    <tr>\n",
       "      <th>3</th>\n",
       "      <td>4</td>\n",
       "      <td>Customer_4</td>\n",
       "      <td>32</td>\n",
       "      <td>Female</td>\n",
       "      <td>Urban</td>\n",
       "      <td>14</td>\n",
       "      <td>338.363834</td>\n",
       "      <td>40.517955</td>\n",
       "      <td>2</td>\n",
       "      <td>125.948657</td>\n",
       "      <td>1</td>\n",
       "      <td>B</td>\n",
       "      <td>200</td>\n",
       "    </tr>\n",
       "    <tr>\n",
       "      <th>4</th>\n",
       "      <td>5</td>\n",
       "      <td>Customer_5</td>\n",
       "      <td>60</td>\n",
       "      <td>Male</td>\n",
       "      <td>Suburban</td>\n",
       "      <td>25</td>\n",
       "      <td>835.573690</td>\n",
       "      <td>122.903374</td>\n",
       "      <td>0</td>\n",
       "      <td>289.171509</td>\n",
       "      <td>2</td>\n",
       "      <td>C</td>\n",
       "      <td>300</td>\n",
       "    </tr>\n",
       "    <tr>\n",
       "      <th>...</th>\n",
       "      <td>...</td>\n",
       "      <td>...</td>\n",
       "      <td>...</td>\n",
       "      <td>...</td>\n",
       "      <td>...</td>\n",
       "      <td>...</td>\n",
       "      <td>...</td>\n",
       "      <td>...</td>\n",
       "      <td>...</td>\n",
       "      <td>...</td>\n",
       "      <td>...</td>\n",
       "      <td>...</td>\n",
       "      <td>...</td>\n",
       "    </tr>\n",
       "    <tr>\n",
       "      <th>9995</th>\n",
       "      <td>9996</td>\n",
       "      <td>Customer_9996</td>\n",
       "      <td>55</td>\n",
       "      <td>Male</td>\n",
       "      <td>Suburban</td>\n",
       "      <td>34</td>\n",
       "      <td>676.156043</td>\n",
       "      <td>64.540758</td>\n",
       "      <td>3</td>\n",
       "      <td>158.962291</td>\n",
       "      <td>2</td>\n",
       "      <td>C</td>\n",
       "      <td>300</td>\n",
       "    </tr>\n",
       "    <tr>\n",
       "      <th>9996</th>\n",
       "      <td>9997</td>\n",
       "      <td>Customer_9997</td>\n",
       "      <td>51</td>\n",
       "      <td>Female</td>\n",
       "      <td>Rural</td>\n",
       "      <td>16</td>\n",
       "      <td>337.508892</td>\n",
       "      <td>10.041086</td>\n",
       "      <td>0</td>\n",
       "      <td>128.771894</td>\n",
       "      <td>1</td>\n",
       "      <td>B</td>\n",
       "      <td>200</td>\n",
       "    </tr>\n",
       "    <tr>\n",
       "      <th>9997</th>\n",
       "      <td>9998</td>\n",
       "      <td>Customer_9998</td>\n",
       "      <td>57</td>\n",
       "      <td>Female</td>\n",
       "      <td>Rural</td>\n",
       "      <td>27</td>\n",
       "      <td>1483.984362</td>\n",
       "      <td>401.194578</td>\n",
       "      <td>1</td>\n",
       "      <td>397.613115</td>\n",
       "      <td>3</td>\n",
       "      <td>E</td>\n",
       "      <td>500</td>\n",
       "    </tr>\n",
       "    <tr>\n",
       "      <th>9998</th>\n",
       "      <td>9999</td>\n",
       "      <td>Customer_9999</td>\n",
       "      <td>64</td>\n",
       "      <td>Male</td>\n",
       "      <td>Suburban</td>\n",
       "      <td>4</td>\n",
       "      <td>311.640946</td>\n",
       "      <td>87.497384</td>\n",
       "      <td>0</td>\n",
       "      <td>27.245347</td>\n",
       "      <td>1</td>\n",
       "      <td>B</td>\n",
       "      <td>200</td>\n",
       "    </tr>\n",
       "    <tr>\n",
       "      <th>9999</th>\n",
       "      <td>10000</td>\n",
       "      <td>Customer_10000</td>\n",
       "      <td>32</td>\n",
       "      <td>Female</td>\n",
       "      <td>Rural</td>\n",
       "      <td>19</td>\n",
       "      <td>419.187963</td>\n",
       "      <td>58.354579</td>\n",
       "      <td>1</td>\n",
       "      <td>30.201921</td>\n",
       "      <td>1</td>\n",
       "      <td>B</td>\n",
       "      <td>200</td>\n",
       "    </tr>\n",
       "  </tbody>\n",
       "</table>\n",
       "<p>10000 rows × 13 columns</p>\n",
       "</div>"
      ],
      "text/plain": [
       "      CustomerID            Name  Age  Gender  Location  \\\n",
       "0              1      Customer_1   56    Male     Urban   \n",
       "1              2      Customer_2   69  Female     Rural   \n",
       "2              3      Customer_3   46  Female  Suburban   \n",
       "3              4      Customer_4   32  Female     Urban   \n",
       "4              5      Customer_5   60    Male  Suburban   \n",
       "...          ...             ...  ...     ...       ...   \n",
       "9995        9996   Customer_9996   55    Male  Suburban   \n",
       "9996        9997   Customer_9997   51  Female     Rural   \n",
       "9997        9998   Customer_9998   57  Female     Rural   \n",
       "9998        9999   Customer_9999   64    Male  Suburban   \n",
       "9999       10000  Customer_10000   32  Female     Rural   \n",
       "\n",
       "      Subscription_Length_Months  Monthly_Bill  Average_Internet_Usage  \\\n",
       "0                             29    286.658992               24.945633   \n",
       "1                             24    706.286532              241.090001   \n",
       "2                             14   1070.546459              279.855149   \n",
       "3                             14    338.363834               40.517955   \n",
       "4                             25    835.573690              122.903374   \n",
       "...                          ...           ...                     ...   \n",
       "9995                          34    676.156043               64.540758   \n",
       "9996                          16    337.508892               10.041086   \n",
       "9997                          27   1483.984362              401.194578   \n",
       "9998                           4    311.640946               87.497384   \n",
       "9999                          19    419.187963               58.354579   \n",
       "\n",
       "      No_of_Tickets  Average_Talktime_Usage  Social_Class Subscription_Type  \\\n",
       "0                 0               23.316484             1                 A   \n",
       "1                 1               97.662416             2                 C   \n",
       "2                 0              154.816437             3                 D   \n",
       "3                 2              125.948657             1                 B   \n",
       "4                 0              289.171509             2                 C   \n",
       "...             ...                     ...           ...               ...   \n",
       "9995              3              158.962291             2                 C   \n",
       "9996              0              128.771894             1                 B   \n",
       "9997              1              397.613115             3                 E   \n",
       "9998              0               27.245347             1                 B   \n",
       "9999              1               30.201921             1                 B   \n",
       "\n",
       "      Base_Charge  \n",
       "0             100  \n",
       "1             300  \n",
       "2             400  \n",
       "3             200  \n",
       "4             300  \n",
       "...           ...  \n",
       "9995          300  \n",
       "9996          200  \n",
       "9997          500  \n",
       "9998          200  \n",
       "9999          200  \n",
       "\n",
       "[10000 rows x 13 columns]"
      ]
     },
     "execution_count": 15,
     "metadata": {},
     "output_type": "execute_result"
    }
   ],
   "source": [
    "df"
   ]
  },
  {
   "cell_type": "code",
   "execution_count": 17,
   "id": "ecfb1401",
   "metadata": {},
   "outputs": [],
   "source": [
    "scaled_features_df = encode_and_scale(features_df)"
   ]
  },
  {
   "cell_type": "code",
   "execution_count": 24,
   "id": "7e7986f9",
   "metadata": {},
   "outputs": [],
   "source": [
    "X = scaled_features_df.values\n",
    "y = new_df['churn_label']"
   ]
  },
  {
   "cell_type": "code",
   "execution_count": 25,
   "id": "d45c99f8",
   "metadata": {},
   "outputs": [],
   "source": [
    "from sklearn.model_selection import train_test_split\n",
    "\n",
    "X_train, X_test, y_train, y_test = train_test_split(X, y, test_size=0.2, random_state=42)"
   ]
  },
  {
   "cell_type": "code",
   "execution_count": 26,
   "id": "067fea5d",
   "metadata": {},
   "outputs": [],
   "source": [
    "import torch\n",
    "\n",
    "X_train_tensor = torch.tensor(X_train, dtype=torch.float32)\n",
    "X_test_tensor = torch.tensor(X_test, dtype=torch.float32)\n",
    "y_train_tensor = torch.tensor(y_train.values, dtype=torch.float32).unsqueeze(1)\n",
    "y_test_tensor = torch.tensor(y_test.values, dtype=torch.float32).unsqueeze(1)"
   ]
  },
  {
   "cell_type": "code",
   "execution_count": 27,
   "id": "ce9c6c03",
   "metadata": {},
   "outputs": [],
   "source": [
    "import torch.nn as nn\n",
    "\n",
    "class FixedNeuronsNetwork(nn.Module):\n",
    "    def __init__(self, num_features, num_classes, num_hidden_layers, hidden_neurons, layer_activation=nn.ReLU, final_activation=nn.Sigmoid):\n",
    "        super(FixedNeuronsNetwork, self).__init__()\n",
    "        \n",
    "        layers = []\n",
    "        \n",
    "        layers.append(nn.Linear(num_features, hidden_neurons))\n",
    "        layers.append(layer_activation())\n",
    "        \n",
    "        for _ in range(num_hidden_layers - 1):\n",
    "            layers.append(nn.Linear(hidden_neurons, hidden_neurons))\n",
    "            layers.append(layer_activation())\n",
    "        \n",
    "        layers.append(nn.Linear(hidden_neurons, num_classes))\n",
    "        \n",
    "        self.final_activation = final_activation()\n",
    "        \n",
    "        self.network = nn.Sequential(*layers)\n",
    "        \n",
    "    def forward(self, x):\n",
    "        x = self.network(x)\n",
    "        output = self.final_activation(x)\n",
    "        return output"
   ]
  },
  {
   "cell_type": "code",
   "execution_count": 28,
   "id": "3bce6cf1",
   "metadata": {},
   "outputs": [],
   "source": [
    "from tqdm import tqdm\n",
    "from sklearn.metrics import f1_score\n",
    "\n",
    "def train_model(model, criterion, optimizer, scheduler, train_loader, test_loader, num_epochs, device,patience):\n",
    "    train_loss_history = []\n",
    "    val_loss_history = []\n",
    "    best_val_loss = float('inf')\n",
    "    patience = patience  # Number of epochs to wait before stopping\n",
    "    patience_counter = 0\n",
    "    best_model = None\n",
    "\n",
    "    model.to(device)\n",
    "\n",
    "    for epoch in range(num_epochs):\n",
    "        model.train()\n",
    "        total_train_loss = 0.0\n",
    "        all_train_targets = []\n",
    "        all_train_preds = []\n",
    "\n",
    "        # Training loop\n",
    "        with tqdm(total=len(train_loader), desc=f'Epoch [{epoch + 1}/{num_epochs}]', unit='batch') as pbar:\n",
    "            for inputs, targets in train_loader:\n",
    "                inputs, targets = inputs.to(device), targets.to(device)\n",
    "                outputs = model(inputs)\n",
    "                \n",
    "                # Calculate loss\n",
    "                loss = criterion(outputs, targets)\n",
    "                optimizer.zero_grad()\n",
    "                loss.backward()\n",
    "                optimizer.step()\n",
    "\n",
    "                total_train_loss += loss.item() * inputs.size(0)\n",
    "\n",
    "                # Store targets and predictions for F1 score calculation\n",
    "                all_train_targets.extend(targets.cpu().numpy())\n",
    "                all_train_preds.extend(outputs.cpu().detach().numpy())\n",
    "\n",
    "                # Update the progress bar\n",
    "                pbar.set_postfix(loss=loss.item())\n",
    "                pbar.update(1)\n",
    "\n",
    "        # Calculate average training loss and F1 score for training\n",
    "        avg_train_loss = total_train_loss / len(train_loader.dataset)\n",
    "        train_loss_history.append(avg_train_loss)\n",
    "\n",
    "        train_f1 = f1_score(np.squeeze(all_train_targets), np.where(np.squeeze(all_train_preds) > 0.5, 1, 0), pos_label=1, average='binary')\n",
    "\n",
    "        # Validation phase\n",
    "        model.eval()\n",
    "        total_val_loss = 0.0\n",
    "        all_val_targets = []\n",
    "        all_val_preds = []\n",
    "\n",
    "        with torch.no_grad():\n",
    "            for inputs, targets in test_loader:\n",
    "                inputs, targets = inputs.to(device), targets.to(device)\n",
    "                outputs = model(inputs)\n",
    "\n",
    "                loss = criterion(outputs, targets)\n",
    "                total_val_loss += loss.item() * inputs.size(0)\n",
    "\n",
    "                all_val_targets.extend(targets.cpu().numpy())\n",
    "                all_val_preds.extend(outputs.cpu().detach().numpy())\n",
    "\n",
    "        # Calculate average validation loss and F1 score\n",
    "        avg_val_loss = total_val_loss / len(test_loader.dataset)\n",
    "        val_loss_history.append(avg_val_loss)\n",
    "\n",
    "        val_f1 = f1_score(np.squeeze(all_val_targets), np.where(np.squeeze(all_val_preds) > 0.5, 1, 0), pos_label=1, average='binary')\n",
    "\n",
    "        # Print training and validation results\n",
    "        print(f\"Epoch [{epoch + 1}/{num_epochs}] - Avg Train Loss: {avg_train_loss:.4f} | Train F1: {train_f1:.4f} | Avg Val Loss: {avg_val_loss:.4f} | Val F1: {val_f1:.4f}\")\n",
    "\n",
    "        # Step the learning rate scheduler\n",
    "        scheduler.step(avg_train_loss)\n",
    "\n",
    "        # Early stopping based on F1 score and patience counter\n",
    "        if val_f1 > 0.8:\n",
    "            print(f\"Stopping training early at epoch {epoch + 1} as validation F1 score exceeded 0.8.\")\n",
    "            break\n",
    "\n",
    "        if avg_val_loss < best_val_loss:\n",
    "            best_val_loss = avg_val_loss\n",
    "            best_model = model.state_dict()  # Save best model weights\n",
    "            patience_counter = 0\n",
    "        else:\n",
    "            patience_counter += 1\n",
    "\n",
    "        if patience_counter >= patience:\n",
    "            print(f\"Early stopping triggered after {patience} epochs with no improvement.\")\n",
    "            break\n",
    "\n",
    "    model.load_state_dict(best_model)  # Load the best model before returning\n",
    "    return model, train_loss_history, val_loss_history, train_f1, val_f1"
   ]
  },
  {
   "cell_type": "code",
   "execution_count": 29,
   "id": "78767824",
   "metadata": {},
   "outputs": [],
   "source": [
    "from torch.utils.data import DataLoader, TensorDataset, WeightedRandomSampler\n",
    "from torch.optim.lr_scheduler import ReduceLROnPlateau\n",
    "\n",
    "def create_data_loader(x_train, x_test, y_train, y_test, batch_size, sampling = True):\n",
    "    \"\"\"\n",
    "    Takes input as torch tensors and creates data loaders.\n",
    "    \"\"\"\n",
    "    \n",
    "    # Create TensorDatasets and move them to the specified device\n",
    "    train_dataset = TensorDataset(x_train, y_train.reshape(-1,1))\n",
    "    test_dataset = TensorDataset(x_test, y_test.reshape(-1,1))\n",
    "    \n",
    "    test_loader = DataLoader(test_dataset, batch_size=batch_size, shuffle=False)\n",
    "\n",
    "    if sampling:\n",
    "        class_counts = torch.bincount(y_train.long().view(-1))\n",
    "        total_samples = len(y_train)\n",
    "        class_weights = total_samples / (len(class_counts) * class_counts.float())\n",
    "        sample_weights = class_weights[y_train.long().view(-1)]\n",
    "        \n",
    "        sampler = WeightedRandomSampler(weights=sample_weights, num_samples=len(y_train), replacement=True)\n",
    "\n",
    "        # Create DataLoaders\n",
    "        train_loader = DataLoader(train_dataset, batch_size=batch_size, sampler = sampler, shuffle=False)\n",
    "    else:\n",
    "        # Create DataLoaders\n",
    "        train_loader = DataLoader(train_dataset, batch_size=batch_size, shuffle=False)\n",
    "\n",
    "    return train_loader, test_loader\n",
    "\n",
    "train_loader, test_loader = create_data_loader(X_train_tensor,X_test_tensor,y_train_tensor,y_test_tensor,batch_size=512)"
   ]
  },
  {
   "cell_type": "code",
   "execution_count": 30,
   "id": "31f5e5a8",
   "metadata": {},
   "outputs": [
    {
     "name": "stderr",
     "output_type": "stream",
     "text": [
      "Epoch [1/100]: 100%|██████████| 16/16 [00:00<00:00, 120.49batch/s, loss=0.681]\n"
     ]
    },
    {
     "name": "stdout",
     "output_type": "stream",
     "text": [
      "Epoch [1/100] - Avg Train Loss: 0.6866 | Train F1: 0.6520 | Avg Val Loss: 0.6752 | Val F1: 0.6070\n"
     ]
    },
    {
     "name": "stderr",
     "output_type": "stream",
     "text": [
      "Epoch [2/100]: 100%|██████████| 16/16 [00:00<00:00, 407.39batch/s, loss=0.686]\n"
     ]
    },
    {
     "name": "stdout",
     "output_type": "stream",
     "text": [
      "Epoch [2/100] - Avg Train Loss: 0.6776 | Train F1: 0.5626 | Avg Val Loss: 0.6770 | Val F1: 0.5595\n"
     ]
    },
    {
     "name": "stderr",
     "output_type": "stream",
     "text": [
      "Epoch [3/100]: 100%|██████████| 16/16 [00:00<00:00, 426.26batch/s, loss=0.688]\n"
     ]
    },
    {
     "name": "stdout",
     "output_type": "stream",
     "text": [
      "Epoch [3/100] - Avg Train Loss: 0.6758 | Train F1: 0.5414 | Avg Val Loss: 0.6793 | Val F1: 0.5710\n"
     ]
    },
    {
     "name": "stderr",
     "output_type": "stream",
     "text": [
      "Epoch [4/100]: 100%|██████████| 16/16 [00:00<00:00, 448.54batch/s, loss=0.657]\n"
     ]
    },
    {
     "name": "stdout",
     "output_type": "stream",
     "text": [
      "Epoch [4/100] - Avg Train Loss: 0.6743 | Train F1: 0.5695 | Avg Val Loss: 0.6784 | Val F1: 0.5811\n"
     ]
    },
    {
     "name": "stderr",
     "output_type": "stream",
     "text": [
      "Epoch [5/100]: 100%|██████████| 16/16 [00:00<00:00, 210.68batch/s, loss=0.67] \n"
     ]
    },
    {
     "name": "stdout",
     "output_type": "stream",
     "text": [
      "Epoch [5/100] - Avg Train Loss: 0.6732 | Train F1: 0.5728 | Avg Val Loss: 0.6741 | Val F1: 0.6038\n"
     ]
    },
    {
     "name": "stderr",
     "output_type": "stream",
     "text": [
      "Epoch [6/100]: 100%|██████████| 16/16 [00:00<00:00, 427.34batch/s, loss=0.675]\n"
     ]
    },
    {
     "name": "stdout",
     "output_type": "stream",
     "text": [
      "Epoch [6/100] - Avg Train Loss: 0.6688 | Train F1: 0.6071 | Avg Val Loss: 0.6767 | Val F1: 0.5985\n"
     ]
    },
    {
     "name": "stderr",
     "output_type": "stream",
     "text": [
      "Epoch [7/100]: 100%|██████████| 16/16 [00:00<00:00, 426.71batch/s, loss=0.677]\n"
     ]
    },
    {
     "name": "stdout",
     "output_type": "stream",
     "text": [
      "Epoch [7/100] - Avg Train Loss: 0.6708 | Train F1: 0.5940 | Avg Val Loss: 0.6775 | Val F1: 0.5976\n"
     ]
    },
    {
     "name": "stderr",
     "output_type": "stream",
     "text": [
      "Epoch [8/100]: 100%|██████████| 16/16 [00:00<00:00, 433.07batch/s, loss=0.646]\n"
     ]
    },
    {
     "name": "stdout",
     "output_type": "stream",
     "text": [
      "Epoch [8/100] - Avg Train Loss: 0.6684 | Train F1: 0.5867 | Avg Val Loss: 0.6729 | Val F1: 0.6267\n"
     ]
    },
    {
     "name": "stderr",
     "output_type": "stream",
     "text": [
      "Epoch [9/100]: 100%|██████████| 16/16 [00:00<00:00, 225.32batch/s, loss=0.677]\n"
     ]
    },
    {
     "name": "stdout",
     "output_type": "stream",
     "text": [
      "Epoch [9/100] - Avg Train Loss: 0.6709 | Train F1: 0.6011 | Avg Val Loss: 0.6742 | Val F1: 0.6169\n"
     ]
    },
    {
     "name": "stderr",
     "output_type": "stream",
     "text": [
      "Epoch [10/100]: 100%|██████████| 16/16 [00:00<00:00, 423.91batch/s, loss=0.67] \n"
     ]
    },
    {
     "name": "stdout",
     "output_type": "stream",
     "text": [
      "Epoch [10/100] - Avg Train Loss: 0.6644 | Train F1: 0.5963 | Avg Val Loss: 0.6735 | Val F1: 0.6228\n"
     ]
    },
    {
     "name": "stderr",
     "output_type": "stream",
     "text": [
      "Epoch [11/100]: 100%|██████████| 16/16 [00:00<00:00, 416.72batch/s, loss=0.675]\n"
     ]
    },
    {
     "name": "stdout",
     "output_type": "stream",
     "text": [
      "Epoch [11/100] - Avg Train Loss: 0.6649 | Train F1: 0.6052 | Avg Val Loss: 0.6814 | Val F1: 0.6019\n"
     ]
    },
    {
     "name": "stderr",
     "output_type": "stream",
     "text": [
      "Epoch [12/100]: 100%|██████████| 16/16 [00:00<00:00, 431.49batch/s, loss=0.668]\n"
     ]
    },
    {
     "name": "stdout",
     "output_type": "stream",
     "text": [
      "Epoch [12/100] - Avg Train Loss: 0.6646 | Train F1: 0.6231 | Avg Val Loss: 0.6731 | Val F1: 0.6346\n"
     ]
    },
    {
     "name": "stderr",
     "output_type": "stream",
     "text": [
      "Epoch [13/100]: 100%|██████████| 16/16 [00:00<00:00, 222.98batch/s, loss=0.654]\n"
     ]
    },
    {
     "name": "stdout",
     "output_type": "stream",
     "text": [
      "Epoch [13/100] - Avg Train Loss: 0.6645 | Train F1: 0.6174 | Avg Val Loss: 0.6734 | Val F1: 0.6366\n"
     ]
    },
    {
     "name": "stderr",
     "output_type": "stream",
     "text": [
      "Epoch [14/100]: 100%|██████████| 16/16 [00:00<00:00, 424.54batch/s, loss=0.665]\n"
     ]
    },
    {
     "name": "stdout",
     "output_type": "stream",
     "text": [
      "Epoch [14/100] - Avg Train Loss: 0.6673 | Train F1: 0.5963 | Avg Val Loss: 0.6764 | Val F1: 0.6273\n"
     ]
    },
    {
     "name": "stderr",
     "output_type": "stream",
     "text": [
      "Epoch [15/100]: 100%|██████████| 16/16 [00:00<00:00, 432.34batch/s, loss=0.658]\n"
     ]
    },
    {
     "name": "stdout",
     "output_type": "stream",
     "text": [
      "Epoch [15/100] - Avg Train Loss: 0.6702 | Train F1: 0.6021 | Avg Val Loss: 0.6717 | Val F1: 0.6446\n"
     ]
    },
    {
     "name": "stderr",
     "output_type": "stream",
     "text": [
      "Epoch [16/100]: 100%|██████████| 16/16 [00:00<00:00, 428.93batch/s, loss=0.668]\n"
     ]
    },
    {
     "name": "stdout",
     "output_type": "stream",
     "text": [
      "Epoch [16/100] - Avg Train Loss: 0.6650 | Train F1: 0.6280 | Avg Val Loss: 0.6747 | Val F1: 0.6348\n",
      "Epoch 00016: reducing learning rate of group 0 to 1.0000e-04.\n"
     ]
    },
    {
     "name": "stderr",
     "output_type": "stream",
     "text": [
      "Epoch [17/100]: 100%|██████████| 16/16 [00:00<00:00, 214.43batch/s, loss=0.662]\n"
     ]
    },
    {
     "name": "stdout",
     "output_type": "stream",
     "text": [
      "Epoch [17/100] - Avg Train Loss: 0.6620 | Train F1: 0.6256 | Avg Val Loss: 0.6748 | Val F1: 0.6316\n"
     ]
    },
    {
     "name": "stderr",
     "output_type": "stream",
     "text": [
      "Epoch [18/100]: 100%|██████████| 16/16 [00:00<00:00, 418.25batch/s, loss=0.65] \n"
     ]
    },
    {
     "name": "stdout",
     "output_type": "stream",
     "text": [
      "Epoch [18/100] - Avg Train Loss: 0.6621 | Train F1: 0.6270 | Avg Val Loss: 0.6754 | Val F1: 0.6317\n"
     ]
    },
    {
     "name": "stderr",
     "output_type": "stream",
     "text": [
      "Epoch [19/100]: 100%|██████████| 16/16 [00:00<00:00, 325.14batch/s, loss=0.657]\n"
     ]
    },
    {
     "name": "stdout",
     "output_type": "stream",
     "text": [
      "Epoch [19/100] - Avg Train Loss: 0.6664 | Train F1: 0.6077 | Avg Val Loss: 0.6770 | Val F1: 0.6223\n"
     ]
    },
    {
     "name": "stderr",
     "output_type": "stream",
     "text": [
      "Epoch [20/100]: 100%|██████████| 16/16 [00:00<00:00, 428.62batch/s, loss=0.662]\n"
     ]
    },
    {
     "name": "stdout",
     "output_type": "stream",
     "text": [
      "Epoch [20/100] - Avg Train Loss: 0.6649 | Train F1: 0.6104 | Avg Val Loss: 0.6762 | Val F1: 0.6253\n"
     ]
    },
    {
     "name": "stderr",
     "output_type": "stream",
     "text": [
      "Epoch [21/100]: 100%|██████████| 16/16 [00:00<00:00, 244.67batch/s, loss=0.674]\n"
     ]
    },
    {
     "name": "stdout",
     "output_type": "stream",
     "text": [
      "Epoch [21/100] - Avg Train Loss: 0.6639 | Train F1: 0.6254 | Avg Val Loss: 0.6758 | Val F1: 0.6264\n"
     ]
    },
    {
     "name": "stderr",
     "output_type": "stream",
     "text": [
      "Epoch [22/100]: 100%|██████████| 16/16 [00:00<00:00, 417.22batch/s, loss=0.662]\n"
     ]
    },
    {
     "name": "stdout",
     "output_type": "stream",
     "text": [
      "Epoch [22/100] - Avg Train Loss: 0.6646 | Train F1: 0.6220 | Avg Val Loss: 0.6752 | Val F1: 0.6292\n"
     ]
    },
    {
     "name": "stderr",
     "output_type": "stream",
     "text": [
      "Epoch [23/100]: 100%|██████████| 16/16 [00:00<00:00, 421.92batch/s, loss=0.644]\n"
     ]
    },
    {
     "name": "stdout",
     "output_type": "stream",
     "text": [
      "Epoch [23/100] - Avg Train Loss: 0.6643 | Train F1: 0.6212 | Avg Val Loss: 0.6752 | Val F1: 0.6287\n",
      "Epoch 00023: reducing learning rate of group 0 to 1.0000e-05.\n"
     ]
    },
    {
     "name": "stderr",
     "output_type": "stream",
     "text": [
      "Epoch [24/100]: 100%|██████████| 16/16 [00:00<00:00, 428.83batch/s, loss=0.656]\n"
     ]
    },
    {
     "name": "stdout",
     "output_type": "stream",
     "text": [
      "Epoch [24/100] - Avg Train Loss: 0.6631 | Train F1: 0.6237 | Avg Val Loss: 0.6753 | Val F1: 0.6269\n"
     ]
    },
    {
     "name": "stderr",
     "output_type": "stream",
     "text": [
      "Epoch [25/100]: 100%|██████████| 16/16 [00:00<00:00, 431.85batch/s, loss=0.682]\n"
     ]
    },
    {
     "name": "stdout",
     "output_type": "stream",
     "text": [
      "Epoch [25/100] - Avg Train Loss: 0.6692 | Train F1: 0.6024 | Avg Val Loss: 0.6755 | Val F1: 0.6274\n"
     ]
    },
    {
     "name": "stderr",
     "output_type": "stream",
     "text": [
      "Epoch [26/100]: 100%|██████████| 16/16 [00:00<00:00, 411.78batch/s, loss=0.68] \n"
     ]
    },
    {
     "name": "stdout",
     "output_type": "stream",
     "text": [
      "Epoch [26/100] - Avg Train Loss: 0.6647 | Train F1: 0.6187 | Avg Val Loss: 0.6757 | Val F1: 0.6273\n"
     ]
    },
    {
     "name": "stderr",
     "output_type": "stream",
     "text": [
      "Epoch [27/100]: 100%|██████████| 16/16 [00:00<00:00, 442.43batch/s, loss=0.667]\n"
     ]
    },
    {
     "name": "stdout",
     "output_type": "stream",
     "text": [
      "Epoch [27/100] - Avg Train Loss: 0.6583 | Train F1: 0.6281 | Avg Val Loss: 0.6756 | Val F1: 0.6273\n"
     ]
    },
    {
     "name": "stderr",
     "output_type": "stream",
     "text": [
      "Epoch [28/100]: 100%|██████████| 16/16 [00:00<00:00, 435.11batch/s, loss=0.662]\n"
     ]
    },
    {
     "name": "stdout",
     "output_type": "stream",
     "text": [
      "Epoch [28/100] - Avg Train Loss: 0.6630 | Train F1: 0.6206 | Avg Val Loss: 0.6756 | Val F1: 0.6267\n"
     ]
    },
    {
     "name": "stderr",
     "output_type": "stream",
     "text": [
      "Epoch [29/100]: 100%|██████████| 16/16 [00:00<00:00, 431.42batch/s, loss=0.673]\n"
     ]
    },
    {
     "name": "stdout",
     "output_type": "stream",
     "text": [
      "Epoch [29/100] - Avg Train Loss: 0.6619 | Train F1: 0.6214 | Avg Val Loss: 0.6755 | Val F1: 0.6267\n"
     ]
    },
    {
     "name": "stderr",
     "output_type": "stream",
     "text": [
      "Epoch [30/100]: 100%|██████████| 16/16 [00:00<00:00, 224.98batch/s, loss=0.66] \n"
     ]
    },
    {
     "name": "stdout",
     "output_type": "stream",
     "text": [
      "Epoch [30/100] - Avg Train Loss: 0.6642 | Train F1: 0.6183 | Avg Val Loss: 0.6756 | Val F1: 0.6261\n"
     ]
    },
    {
     "name": "stderr",
     "output_type": "stream",
     "text": [
      "Epoch [31/100]: 100%|██████████| 16/16 [00:00<00:00, 405.81batch/s, loss=0.667]\n"
     ]
    },
    {
     "name": "stdout",
     "output_type": "stream",
     "text": [
      "Epoch [31/100] - Avg Train Loss: 0.6673 | Train F1: 0.6129 | Avg Val Loss: 0.6756 | Val F1: 0.6261\n"
     ]
    },
    {
     "name": "stderr",
     "output_type": "stream",
     "text": [
      "Epoch [32/100]: 100%|██████████| 16/16 [00:00<00:00, 94.43batch/s, loss=0.657]\n"
     ]
    },
    {
     "name": "stdout",
     "output_type": "stream",
     "text": [
      "Epoch [32/100] - Avg Train Loss: 0.6655 | Train F1: 0.6218 | Avg Val Loss: 0.6755 | Val F1: 0.6285\n"
     ]
    },
    {
     "name": "stderr",
     "output_type": "stream",
     "text": [
      "Epoch [33/100]: 100%|██████████| 16/16 [00:00<00:00, 425.25batch/s, loss=0.659]\n"
     ]
    },
    {
     "name": "stdout",
     "output_type": "stream",
     "text": [
      "Epoch [33/100] - Avg Train Loss: 0.6634 | Train F1: 0.6092 | Avg Val Loss: 0.6755 | Val F1: 0.6279\n",
      "Epoch 00033: reducing learning rate of group 0 to 1.0000e-06.\n"
     ]
    },
    {
     "name": "stderr",
     "output_type": "stream",
     "text": [
      "Epoch [34/100]: 100%|██████████| 16/16 [00:00<00:00, 214.20batch/s, loss=0.665]\n"
     ]
    },
    {
     "name": "stdout",
     "output_type": "stream",
     "text": [
      "Epoch [34/100] - Avg Train Loss: 0.6655 | Train F1: 0.6201 | Avg Val Loss: 0.6755 | Val F1: 0.6270\n"
     ]
    },
    {
     "name": "stderr",
     "output_type": "stream",
     "text": [
      "Epoch [35/100]: 100%|██████████| 16/16 [00:00<00:00, 422.65batch/s, loss=0.659]\n"
     ]
    },
    {
     "name": "stdout",
     "output_type": "stream",
     "text": [
      "Epoch [35/100] - Avg Train Loss: 0.6606 | Train F1: 0.6199 | Avg Val Loss: 0.6755 | Val F1: 0.6276\n"
     ]
    },
    {
     "name": "stderr",
     "output_type": "stream",
     "text": [
      "Epoch [36/100]: 100%|██████████| 16/16 [00:00<00:00, 428.39batch/s, loss=0.646]\n"
     ]
    },
    {
     "name": "stdout",
     "output_type": "stream",
     "text": [
      "Epoch [36/100] - Avg Train Loss: 0.6659 | Train F1: 0.6115 | Avg Val Loss: 0.6755 | Val F1: 0.6270\n"
     ]
    },
    {
     "name": "stderr",
     "output_type": "stream",
     "text": [
      "Epoch [37/100]: 100%|██████████| 16/16 [00:00<00:00, 418.11batch/s, loss=0.645]\n"
     ]
    },
    {
     "name": "stdout",
     "output_type": "stream",
     "text": [
      "Epoch [37/100] - Avg Train Loss: 0.6634 | Train F1: 0.6185 | Avg Val Loss: 0.6755 | Val F1: 0.6270\n"
     ]
    },
    {
     "name": "stderr",
     "output_type": "stream",
     "text": [
      "Epoch [38/100]: 100%|██████████| 16/16 [00:00<00:00, 219.50batch/s, loss=0.667]\n"
     ]
    },
    {
     "name": "stdout",
     "output_type": "stream",
     "text": [
      "Epoch [38/100] - Avg Train Loss: 0.6652 | Train F1: 0.6172 | Avg Val Loss: 0.6755 | Val F1: 0.6270\n"
     ]
    },
    {
     "name": "stderr",
     "output_type": "stream",
     "text": [
      "Epoch [39/100]: 100%|██████████| 16/16 [00:00<00:00, 438.07batch/s, loss=0.654]\n"
     ]
    },
    {
     "name": "stdout",
     "output_type": "stream",
     "text": [
      "Epoch [39/100] - Avg Train Loss: 0.6632 | Train F1: 0.6115 | Avg Val Loss: 0.6755 | Val F1: 0.6270\n",
      "Epoch 00039: reducing learning rate of group 0 to 1.0000e-07.\n"
     ]
    },
    {
     "name": "stderr",
     "output_type": "stream",
     "text": [
      "Epoch [40/100]: 100%|██████████| 16/16 [00:00<00:00, 425.69batch/s, loss=0.682]\n"
     ]
    },
    {
     "name": "stdout",
     "output_type": "stream",
     "text": [
      "Epoch [40/100] - Avg Train Loss: 0.6638 | Train F1: 0.6206 | Avg Val Loss: 0.6755 | Val F1: 0.6270\n"
     ]
    },
    {
     "name": "stderr",
     "output_type": "stream",
     "text": [
      "Epoch [41/100]: 100%|██████████| 16/16 [00:00<00:00, 414.70batch/s, loss=0.662]\n"
     ]
    },
    {
     "name": "stdout",
     "output_type": "stream",
     "text": [
      "Epoch [41/100] - Avg Train Loss: 0.6710 | Train F1: 0.6091 | Avg Val Loss: 0.6755 | Val F1: 0.6270\n"
     ]
    },
    {
     "name": "stderr",
     "output_type": "stream",
     "text": [
      "Epoch [42/100]: 100%|██████████| 16/16 [00:00<00:00, 223.40batch/s, loss=0.662]\n"
     ]
    },
    {
     "name": "stdout",
     "output_type": "stream",
     "text": [
      "Epoch [42/100] - Avg Train Loss: 0.6614 | Train F1: 0.6274 | Avg Val Loss: 0.6755 | Val F1: 0.6270\n"
     ]
    },
    {
     "name": "stderr",
     "output_type": "stream",
     "text": [
      "Epoch [43/100]: 100%|██████████| 16/16 [00:00<00:00, 360.89batch/s, loss=0.666]\n"
     ]
    },
    {
     "name": "stdout",
     "output_type": "stream",
     "text": [
      "Epoch [43/100] - Avg Train Loss: 0.6676 | Train F1: 0.6173 | Avg Val Loss: 0.6755 | Val F1: 0.6270\n"
     ]
    },
    {
     "name": "stderr",
     "output_type": "stream",
     "text": [
      "Epoch [44/100]: 100%|██████████| 16/16 [00:00<00:00, 390.65batch/s, loss=0.663]\n"
     ]
    },
    {
     "name": "stdout",
     "output_type": "stream",
     "text": [
      "Epoch [44/100] - Avg Train Loss: 0.6648 | Train F1: 0.6079 | Avg Val Loss: 0.6755 | Val F1: 0.6270\n"
     ]
    },
    {
     "name": "stderr",
     "output_type": "stream",
     "text": [
      "Epoch [45/100]: 100%|██████████| 16/16 [00:00<00:00, 391.28batch/s, loss=0.658]\n"
     ]
    },
    {
     "name": "stdout",
     "output_type": "stream",
     "text": [
      "Epoch [45/100] - Avg Train Loss: 0.6641 | Train F1: 0.6205 | Avg Val Loss: 0.6755 | Val F1: 0.6270\n",
      "Epoch 00045: reducing learning rate of group 0 to 1.0000e-08.\n"
     ]
    },
    {
     "name": "stderr",
     "output_type": "stream",
     "text": [
      "Epoch [46/100]: 100%|██████████| 16/16 [00:00<00:00, 381.62batch/s, loss=0.67] \n"
     ]
    },
    {
     "name": "stdout",
     "output_type": "stream",
     "text": [
      "Epoch [46/100] - Avg Train Loss: 0.6665 | Train F1: 0.6092 | Avg Val Loss: 0.6755 | Val F1: 0.6270\n"
     ]
    },
    {
     "name": "stderr",
     "output_type": "stream",
     "text": [
      "Epoch [47/100]: 100%|██████████| 16/16 [00:00<00:00, 182.24batch/s, loss=0.662]\n"
     ]
    },
    {
     "name": "stdout",
     "output_type": "stream",
     "text": [
      "Epoch [47/100] - Avg Train Loss: 0.6675 | Train F1: 0.6180 | Avg Val Loss: 0.6755 | Val F1: 0.6270\n"
     ]
    },
    {
     "name": "stderr",
     "output_type": "stream",
     "text": [
      "Epoch [48/100]: 100%|██████████| 16/16 [00:00<00:00, 404.75batch/s, loss=0.655]\n"
     ]
    },
    {
     "name": "stdout",
     "output_type": "stream",
     "text": [
      "Epoch [48/100] - Avg Train Loss: 0.6613 | Train F1: 0.6261 | Avg Val Loss: 0.6755 | Val F1: 0.6270\n"
     ]
    },
    {
     "name": "stderr",
     "output_type": "stream",
     "text": [
      "Epoch [49/100]: 100%|██████████| 16/16 [00:00<00:00, 367.26batch/s, loss=0.656]\n"
     ]
    },
    {
     "name": "stdout",
     "output_type": "stream",
     "text": [
      "Epoch [49/100] - Avg Train Loss: 0.6641 | Train F1: 0.6166 | Avg Val Loss: 0.6755 | Val F1: 0.6270\n"
     ]
    },
    {
     "name": "stderr",
     "output_type": "stream",
     "text": [
      "Epoch [50/100]: 100%|██████████| 16/16 [00:00<00:00, 397.50batch/s, loss=0.661]\n"
     ]
    },
    {
     "name": "stdout",
     "output_type": "stream",
     "text": [
      "Epoch [50/100] - Avg Train Loss: 0.6657 | Train F1: 0.6193 | Avg Val Loss: 0.6755 | Val F1: 0.6270\n"
     ]
    },
    {
     "name": "stderr",
     "output_type": "stream",
     "text": [
      "Epoch [51/100]: 100%|██████████| 16/16 [00:00<00:00, 204.32batch/s, loss=0.662]\n"
     ]
    },
    {
     "name": "stdout",
     "output_type": "stream",
     "text": [
      "Epoch [51/100] - Avg Train Loss: 0.6650 | Train F1: 0.6114 | Avg Val Loss: 0.6755 | Val F1: 0.6270\n"
     ]
    },
    {
     "name": "stderr",
     "output_type": "stream",
     "text": [
      "Epoch [52/100]: 100%|██████████| 16/16 [00:00<00:00, 410.49batch/s, loss=0.673]\n"
     ]
    },
    {
     "name": "stdout",
     "output_type": "stream",
     "text": [
      "Epoch [52/100] - Avg Train Loss: 0.6645 | Train F1: 0.6184 | Avg Val Loss: 0.6755 | Val F1: 0.6270\n"
     ]
    },
    {
     "name": "stderr",
     "output_type": "stream",
     "text": [
      "Epoch [53/100]: 100%|██████████| 16/16 [00:00<00:00, 420.40batch/s, loss=0.651]\n"
     ]
    },
    {
     "name": "stdout",
     "output_type": "stream",
     "text": [
      "Epoch [53/100] - Avg Train Loss: 0.6726 | Train F1: 0.5984 | Avg Val Loss: 0.6755 | Val F1: 0.6270\n"
     ]
    },
    {
     "name": "stderr",
     "output_type": "stream",
     "text": [
      "Epoch [54/100]: 100%|██████████| 16/16 [00:00<00:00, 409.18batch/s, loss=0.671]\n"
     ]
    },
    {
     "name": "stdout",
     "output_type": "stream",
     "text": [
      "Epoch [54/100] - Avg Train Loss: 0.6663 | Train F1: 0.6116 | Avg Val Loss: 0.6755 | Val F1: 0.6270\n"
     ]
    },
    {
     "name": "stderr",
     "output_type": "stream",
     "text": [
      "Epoch [55/100]: 100%|██████████| 16/16 [00:00<00:00, 420.56batch/s, loss=0.681]\n"
     ]
    },
    {
     "name": "stdout",
     "output_type": "stream",
     "text": [
      "Epoch [55/100] - Avg Train Loss: 0.6599 | Train F1: 0.6273 | Avg Val Loss: 0.6755 | Val F1: 0.6270\n"
     ]
    },
    {
     "name": "stderr",
     "output_type": "stream",
     "text": [
      "Epoch [56/100]: 100%|██████████| 16/16 [00:00<00:00, 390.04batch/s, loss=0.674]\n"
     ]
    },
    {
     "name": "stdout",
     "output_type": "stream",
     "text": [
      "Epoch [56/100] - Avg Train Loss: 0.6654 | Train F1: 0.6088 | Avg Val Loss: 0.6755 | Val F1: 0.6270\n"
     ]
    },
    {
     "name": "stderr",
     "output_type": "stream",
     "text": [
      "Epoch [57/100]: 100%|██████████| 16/16 [00:00<00:00, 427.45batch/s, loss=0.659]\n"
     ]
    },
    {
     "name": "stdout",
     "output_type": "stream",
     "text": [
      "Epoch [57/100] - Avg Train Loss: 0.6648 | Train F1: 0.6138 | Avg Val Loss: 0.6755 | Val F1: 0.6270\n"
     ]
    },
    {
     "name": "stderr",
     "output_type": "stream",
     "text": [
      "Epoch [58/100]: 100%|██████████| 16/16 [00:00<00:00, 298.25batch/s, loss=0.701]\n"
     ]
    },
    {
     "name": "stdout",
     "output_type": "stream",
     "text": [
      "Epoch [58/100] - Avg Train Loss: 0.6666 | Train F1: 0.6193 | Avg Val Loss: 0.6755 | Val F1: 0.6270\n"
     ]
    },
    {
     "name": "stderr",
     "output_type": "stream",
     "text": [
      "Epoch [59/100]: 100%|██████████| 16/16 [00:00<00:00, 392.69batch/s, loss=0.68] \n"
     ]
    },
    {
     "name": "stdout",
     "output_type": "stream",
     "text": [
      "Epoch [59/100] - Avg Train Loss: 0.6658 | Train F1: 0.6228 | Avg Val Loss: 0.6755 | Val F1: 0.6270\n"
     ]
    },
    {
     "name": "stderr",
     "output_type": "stream",
     "text": [
      "Epoch [60/100]: 100%|██████████| 16/16 [00:00<00:00, 204.39batch/s, loss=0.661]\n"
     ]
    },
    {
     "name": "stdout",
     "output_type": "stream",
     "text": [
      "Epoch [60/100] - Avg Train Loss: 0.6599 | Train F1: 0.6222 | Avg Val Loss: 0.6755 | Val F1: 0.6270\n"
     ]
    },
    {
     "name": "stderr",
     "output_type": "stream",
     "text": [
      "Epoch [61/100]: 100%|██████████| 16/16 [00:00<00:00, 403.43batch/s, loss=0.669]\n"
     ]
    },
    {
     "name": "stdout",
     "output_type": "stream",
     "text": [
      "Epoch [61/100] - Avg Train Loss: 0.6600 | Train F1: 0.6294 | Avg Val Loss: 0.6755 | Val F1: 0.6270\n"
     ]
    },
    {
     "name": "stderr",
     "output_type": "stream",
     "text": [
      "Epoch [62/100]: 100%|██████████| 16/16 [00:00<00:00, 420.48batch/s, loss=0.689]\n"
     ]
    },
    {
     "name": "stdout",
     "output_type": "stream",
     "text": [
      "Epoch [62/100] - Avg Train Loss: 0.6677 | Train F1: 0.6139 | Avg Val Loss: 0.6755 | Val F1: 0.6270\n"
     ]
    },
    {
     "name": "stderr",
     "output_type": "stream",
     "text": [
      "Epoch [63/100]: 100%|██████████| 16/16 [00:00<00:00, 418.91batch/s, loss=0.654]\n"
     ]
    },
    {
     "name": "stdout",
     "output_type": "stream",
     "text": [
      "Epoch [63/100] - Avg Train Loss: 0.6597 | Train F1: 0.6287 | Avg Val Loss: 0.6755 | Val F1: 0.6270\n"
     ]
    },
    {
     "name": "stderr",
     "output_type": "stream",
     "text": [
      "Epoch [64/100]: 100%|██████████| 16/16 [00:00<00:00, 215.59batch/s, loss=0.647]\n"
     ]
    },
    {
     "name": "stdout",
     "output_type": "stream",
     "text": [
      "Epoch [64/100] - Avg Train Loss: 0.6620 | Train F1: 0.6236 | Avg Val Loss: 0.6755 | Val F1: 0.6270\n"
     ]
    },
    {
     "name": "stderr",
     "output_type": "stream",
     "text": [
      "Epoch [65/100]: 100%|██████████| 16/16 [00:00<00:00, 428.03batch/s, loss=0.671]\n"
     ]
    },
    {
     "name": "stdout",
     "output_type": "stream",
     "text": [
      "Epoch [65/100] - Avg Train Loss: 0.6666 | Train F1: 0.6095 | Avg Val Loss: 0.6755 | Val F1: 0.6270\n"
     ]
    },
    {
     "name": "stderr",
     "output_type": "stream",
     "text": [
      "Epoch [66/100]: 100%|██████████| 16/16 [00:00<00:00, 439.09batch/s, loss=0.667]\n"
     ]
    },
    {
     "name": "stdout",
     "output_type": "stream",
     "text": [
      "Epoch [66/100] - Avg Train Loss: 0.6660 | Train F1: 0.6145 | Avg Val Loss: 0.6755 | Val F1: 0.6270\n"
     ]
    },
    {
     "name": "stderr",
     "output_type": "stream",
     "text": [
      "Epoch [67/100]: 100%|██████████| 16/16 [00:00<00:00, 422.09batch/s, loss=0.674]\n"
     ]
    },
    {
     "name": "stdout",
     "output_type": "stream",
     "text": [
      "Epoch [67/100] - Avg Train Loss: 0.6646 | Train F1: 0.6179 | Avg Val Loss: 0.6755 | Val F1: 0.6270\n"
     ]
    },
    {
     "name": "stderr",
     "output_type": "stream",
     "text": [
      "Epoch [68/100]: 100%|██████████| 16/16 [00:00<00:00, 196.59batch/s, loss=0.641]\n"
     ]
    },
    {
     "name": "stdout",
     "output_type": "stream",
     "text": [
      "Epoch [68/100] - Avg Train Loss: 0.6697 | Train F1: 0.6088 | Avg Val Loss: 0.6755 | Val F1: 0.6270\n"
     ]
    },
    {
     "name": "stderr",
     "output_type": "stream",
     "text": [
      "Epoch [69/100]: 100%|██████████| 16/16 [00:00<00:00, 412.93batch/s, loss=0.663]\n"
     ]
    },
    {
     "name": "stdout",
     "output_type": "stream",
     "text": [
      "Epoch [69/100] - Avg Train Loss: 0.6567 | Train F1: 0.6321 | Avg Val Loss: 0.6755 | Val F1: 0.6270\n"
     ]
    },
    {
     "name": "stderr",
     "output_type": "stream",
     "text": [
      "Epoch [70/100]: 100%|██████████| 16/16 [00:00<00:00, 406.98batch/s, loss=0.665]\n"
     ]
    },
    {
     "name": "stdout",
     "output_type": "stream",
     "text": [
      "Epoch [70/100] - Avg Train Loss: 0.6616 | Train F1: 0.6260 | Avg Val Loss: 0.6755 | Val F1: 0.6270\n"
     ]
    },
    {
     "name": "stderr",
     "output_type": "stream",
     "text": [
      "Epoch [71/100]: 100%|██████████| 16/16 [00:00<00:00, 433.06batch/s, loss=0.663]\n"
     ]
    },
    {
     "name": "stdout",
     "output_type": "stream",
     "text": [
      "Epoch [71/100] - Avg Train Loss: 0.6625 | Train F1: 0.6261 | Avg Val Loss: 0.6755 | Val F1: 0.6270\n"
     ]
    },
    {
     "name": "stderr",
     "output_type": "stream",
     "text": [
      "Epoch [72/100]: 100%|██████████| 16/16 [00:00<00:00, 220.15batch/s, loss=0.655]\n"
     ]
    },
    {
     "name": "stdout",
     "output_type": "stream",
     "text": [
      "Epoch [72/100] - Avg Train Loss: 0.6662 | Train F1: 0.6121 | Avg Val Loss: 0.6755 | Val F1: 0.6270\n"
     ]
    },
    {
     "name": "stderr",
     "output_type": "stream",
     "text": [
      "Epoch [73/100]: 100%|██████████| 16/16 [00:00<00:00, 314.94batch/s, loss=0.65] \n"
     ]
    },
    {
     "name": "stdout",
     "output_type": "stream",
     "text": [
      "Epoch [73/100] - Avg Train Loss: 0.6636 | Train F1: 0.6202 | Avg Val Loss: 0.6755 | Val F1: 0.6270\n"
     ]
    },
    {
     "name": "stderr",
     "output_type": "stream",
     "text": [
      "Epoch [74/100]: 100%|██████████| 16/16 [00:00<00:00, 379.53batch/s, loss=0.665]\n"
     ]
    },
    {
     "name": "stdout",
     "output_type": "stream",
     "text": [
      "Epoch [74/100] - Avg Train Loss: 0.6586 | Train F1: 0.6250 | Avg Val Loss: 0.6755 | Val F1: 0.6270\n"
     ]
    },
    {
     "name": "stderr",
     "output_type": "stream",
     "text": [
      "Epoch [75/100]: 100%|██████████| 16/16 [00:00<00:00, 419.20batch/s, loss=0.66] \n"
     ]
    },
    {
     "name": "stdout",
     "output_type": "stream",
     "text": [
      "Epoch [75/100] - Avg Train Loss: 0.6613 | Train F1: 0.6233 | Avg Val Loss: 0.6755 | Val F1: 0.6270\n"
     ]
    },
    {
     "name": "stderr",
     "output_type": "stream",
     "text": [
      "Epoch [76/100]: 100%|██████████| 16/16 [00:00<00:00, 184.83batch/s, loss=0.665]\n"
     ]
    },
    {
     "name": "stdout",
     "output_type": "stream",
     "text": [
      "Epoch [76/100] - Avg Train Loss: 0.6674 | Train F1: 0.6206 | Avg Val Loss: 0.6755 | Val F1: 0.6270\n"
     ]
    },
    {
     "name": "stderr",
     "output_type": "stream",
     "text": [
      "Epoch [77/100]: 100%|██████████| 16/16 [00:00<00:00, 110.51batch/s, loss=0.664]\n"
     ]
    },
    {
     "name": "stdout",
     "output_type": "stream",
     "text": [
      "Epoch [77/100] - Avg Train Loss: 0.6640 | Train F1: 0.6140 | Avg Val Loss: 0.6755 | Val F1: 0.6270\n"
     ]
    },
    {
     "name": "stderr",
     "output_type": "stream",
     "text": [
      "Epoch [78/100]: 100%|██████████| 16/16 [00:00<00:00, 419.46batch/s, loss=0.652]\n"
     ]
    },
    {
     "name": "stdout",
     "output_type": "stream",
     "text": [
      "Epoch [78/100] - Avg Train Loss: 0.6627 | Train F1: 0.6190 | Avg Val Loss: 0.6755 | Val F1: 0.6270\n"
     ]
    },
    {
     "name": "stderr",
     "output_type": "stream",
     "text": [
      "Epoch [79/100]: 100%|██████████| 16/16 [00:00<00:00, 419.12batch/s, loss=0.646]\n"
     ]
    },
    {
     "name": "stdout",
     "output_type": "stream",
     "text": [
      "Epoch [79/100] - Avg Train Loss: 0.6639 | Train F1: 0.6251 | Avg Val Loss: 0.6755 | Val F1: 0.6270\n"
     ]
    },
    {
     "name": "stderr",
     "output_type": "stream",
     "text": [
      "Epoch [80/100]: 100%|██████████| 16/16 [00:00<00:00, 243.27batch/s, loss=0.649]\n"
     ]
    },
    {
     "name": "stdout",
     "output_type": "stream",
     "text": [
      "Epoch [80/100] - Avg Train Loss: 0.6661 | Train F1: 0.6187 | Avg Val Loss: 0.6755 | Val F1: 0.6270\n"
     ]
    },
    {
     "name": "stderr",
     "output_type": "stream",
     "text": [
      "Epoch [81/100]: 100%|██████████| 16/16 [00:00<00:00, 407.79batch/s, loss=0.683]\n"
     ]
    },
    {
     "name": "stdout",
     "output_type": "stream",
     "text": [
      "Epoch [81/100] - Avg Train Loss: 0.6640 | Train F1: 0.6173 | Avg Val Loss: 0.6755 | Val F1: 0.6270\n"
     ]
    },
    {
     "name": "stderr",
     "output_type": "stream",
     "text": [
      "Epoch [82/100]: 100%|██████████| 16/16 [00:00<00:00, 418.65batch/s, loss=0.632]\n"
     ]
    },
    {
     "name": "stdout",
     "output_type": "stream",
     "text": [
      "Epoch [82/100] - Avg Train Loss: 0.6628 | Train F1: 0.6198 | Avg Val Loss: 0.6755 | Val F1: 0.6270\n"
     ]
    },
    {
     "name": "stderr",
     "output_type": "stream",
     "text": [
      "Epoch [83/100]: 100%|██████████| 16/16 [00:00<00:00, 383.22batch/s, loss=0.672]\n"
     ]
    },
    {
     "name": "stdout",
     "output_type": "stream",
     "text": [
      "Epoch [83/100] - Avg Train Loss: 0.6672 | Train F1: 0.6078 | Avg Val Loss: 0.6755 | Val F1: 0.6270\n"
     ]
    },
    {
     "name": "stderr",
     "output_type": "stream",
     "text": [
      "Epoch [84/100]: 100%|██████████| 16/16 [00:00<00:00, 405.43batch/s, loss=0.666]\n"
     ]
    },
    {
     "name": "stdout",
     "output_type": "stream",
     "text": [
      "Epoch [84/100] - Avg Train Loss: 0.6618 | Train F1: 0.6282 | Avg Val Loss: 0.6755 | Val F1: 0.6270\n"
     ]
    },
    {
     "name": "stderr",
     "output_type": "stream",
     "text": [
      "Epoch [85/100]: 100%|██████████| 16/16 [00:00<00:00, 415.64batch/s, loss=0.659]\n"
     ]
    },
    {
     "name": "stdout",
     "output_type": "stream",
     "text": [
      "Epoch [85/100] - Avg Train Loss: 0.6594 | Train F1: 0.6254 | Avg Val Loss: 0.6755 | Val F1: 0.6270\n"
     ]
    },
    {
     "name": "stderr",
     "output_type": "stream",
     "text": [
      "Epoch [86/100]: 100%|██████████| 16/16 [00:00<00:00, 411.38batch/s, loss=0.671]\n"
     ]
    },
    {
     "name": "stdout",
     "output_type": "stream",
     "text": [
      "Epoch [86/100] - Avg Train Loss: 0.6669 | Train F1: 0.6085 | Avg Val Loss: 0.6755 | Val F1: 0.6270\n"
     ]
    },
    {
     "name": "stderr",
     "output_type": "stream",
     "text": [
      "Epoch [87/100]: 100%|██████████| 16/16 [00:00<00:00, 425.94batch/s, loss=0.656]\n"
     ]
    },
    {
     "name": "stdout",
     "output_type": "stream",
     "text": [
      "Epoch [87/100] - Avg Train Loss: 0.6642 | Train F1: 0.6181 | Avg Val Loss: 0.6755 | Val F1: 0.6270\n"
     ]
    },
    {
     "name": "stderr",
     "output_type": "stream",
     "text": [
      "Epoch [88/100]: 100%|██████████| 16/16 [00:00<00:00, 338.17batch/s, loss=0.648]\n"
     ]
    },
    {
     "name": "stdout",
     "output_type": "stream",
     "text": [
      "Epoch [88/100] - Avg Train Loss: 0.6608 | Train F1: 0.6164 | Avg Val Loss: 0.6755 | Val F1: 0.6270\n"
     ]
    },
    {
     "name": "stderr",
     "output_type": "stream",
     "text": [
      "Epoch [89/100]: 100%|██████████| 16/16 [00:00<00:00, 208.36batch/s, loss=0.674]\n"
     ]
    },
    {
     "name": "stdout",
     "output_type": "stream",
     "text": [
      "Epoch [89/100] - Avg Train Loss: 0.6660 | Train F1: 0.6149 | Avg Val Loss: 0.6755 | Val F1: 0.6270\n"
     ]
    },
    {
     "name": "stderr",
     "output_type": "stream",
     "text": [
      "Epoch [90/100]: 100%|██████████| 16/16 [00:00<00:00, 425.86batch/s, loss=0.649]\n"
     ]
    },
    {
     "name": "stdout",
     "output_type": "stream",
     "text": [
      "Epoch [90/100] - Avg Train Loss: 0.6671 | Train F1: 0.6054 | Avg Val Loss: 0.6755 | Val F1: 0.6270\n"
     ]
    },
    {
     "name": "stderr",
     "output_type": "stream",
     "text": [
      "Epoch [91/100]: 100%|██████████| 16/16 [00:00<00:00, 417.74batch/s, loss=0.661]\n"
     ]
    },
    {
     "name": "stdout",
     "output_type": "stream",
     "text": [
      "Epoch [91/100] - Avg Train Loss: 0.6603 | Train F1: 0.6308 | Avg Val Loss: 0.6755 | Val F1: 0.6270\n"
     ]
    },
    {
     "name": "stderr",
     "output_type": "stream",
     "text": [
      "Epoch [92/100]: 100%|██████████| 16/16 [00:00<00:00, 423.91batch/s, loss=0.658]\n"
     ]
    },
    {
     "name": "stdout",
     "output_type": "stream",
     "text": [
      "Epoch [92/100] - Avg Train Loss: 0.6635 | Train F1: 0.6280 | Avg Val Loss: 0.6755 | Val F1: 0.6270\n"
     ]
    },
    {
     "name": "stderr",
     "output_type": "stream",
     "text": [
      "Epoch [93/100]: 100%|██████████| 16/16 [00:00<00:00, 212.44batch/s, loss=0.66] \n"
     ]
    },
    {
     "name": "stdout",
     "output_type": "stream",
     "text": [
      "Epoch [93/100] - Avg Train Loss: 0.6637 | Train F1: 0.6178 | Avg Val Loss: 0.6755 | Val F1: 0.6270\n"
     ]
    },
    {
     "name": "stderr",
     "output_type": "stream",
     "text": [
      "Epoch [94/100]: 100%|██████████| 16/16 [00:00<00:00, 427.27batch/s, loss=0.644]\n"
     ]
    },
    {
     "name": "stdout",
     "output_type": "stream",
     "text": [
      "Epoch [94/100] - Avg Train Loss: 0.6620 | Train F1: 0.6220 | Avg Val Loss: 0.6755 | Val F1: 0.6270\n"
     ]
    },
    {
     "name": "stderr",
     "output_type": "stream",
     "text": [
      "Epoch [95/100]: 100%|██████████| 16/16 [00:00<00:00, 425.06batch/s, loss=0.673]\n"
     ]
    },
    {
     "name": "stdout",
     "output_type": "stream",
     "text": [
      "Epoch [95/100] - Avg Train Loss: 0.6662 | Train F1: 0.6109 | Avg Val Loss: 0.6755 | Val F1: 0.6270\n"
     ]
    },
    {
     "name": "stderr",
     "output_type": "stream",
     "text": [
      "Epoch [96/100]: 100%|██████████| 16/16 [00:00<00:00, 419.72batch/s, loss=0.673]\n"
     ]
    },
    {
     "name": "stdout",
     "output_type": "stream",
     "text": [
      "Epoch [96/100] - Avg Train Loss: 0.6666 | Train F1: 0.6109 | Avg Val Loss: 0.6755 | Val F1: 0.6270\n"
     ]
    },
    {
     "name": "stderr",
     "output_type": "stream",
     "text": [
      "Epoch [97/100]: 100%|██████████| 16/16 [00:00<00:00, 422.57batch/s, loss=0.66] \n"
     ]
    },
    {
     "name": "stdout",
     "output_type": "stream",
     "text": [
      "Epoch [97/100] - Avg Train Loss: 0.6681 | Train F1: 0.6042 | Avg Val Loss: 0.6755 | Val F1: 0.6270\n"
     ]
    },
    {
     "name": "stderr",
     "output_type": "stream",
     "text": [
      "Epoch [98/100]: 100%|██████████| 16/16 [00:00<00:00, 412.95batch/s, loss=0.661]\n"
     ]
    },
    {
     "name": "stdout",
     "output_type": "stream",
     "text": [
      "Epoch [98/100] - Avg Train Loss: 0.6634 | Train F1: 0.6228 | Avg Val Loss: 0.6755 | Val F1: 0.6270\n"
     ]
    },
    {
     "name": "stderr",
     "output_type": "stream",
     "text": [
      "Epoch [99/100]: 100%|██████████| 16/16 [00:00<00:00, 418.60batch/s, loss=0.637]\n"
     ]
    },
    {
     "name": "stdout",
     "output_type": "stream",
     "text": [
      "Epoch [99/100] - Avg Train Loss: 0.6591 | Train F1: 0.6330 | Avg Val Loss: 0.6755 | Val F1: 0.6270\n"
     ]
    },
    {
     "name": "stderr",
     "output_type": "stream",
     "text": [
      "Epoch [100/100]: 100%|██████████| 16/16 [00:00<00:00, 423.10batch/s, loss=0.66] \n"
     ]
    },
    {
     "name": "stdout",
     "output_type": "stream",
     "text": [
      "Epoch [100/100] - Avg Train Loss: 0.6690 | Train F1: 0.5998 | Avg Val Loss: 0.6755 | Val F1: 0.6270\n"
     ]
    }
   ],
   "source": [
    "import torch.optim as optim\n",
    "\n",
    "input_size = X_train_tensor.shape[1]\n",
    "device = 'cpu'\n",
    "model = FixedNeuronsNetwork(num_features=X_train_tensor.shape[1],num_classes=1,num_hidden_layers=3,hidden_neurons=64).to(device)\n",
    "num_epochs = 100\n",
    "criterion = nn.BCELoss()\n",
    "optimizer = optim.AdamW(model.parameters(), lr=0.001, weight_decay=1e-5)\n",
    "scheduler = ReduceLROnPlateau(optimizer, mode='min', factor=0.1, patience=5, verbose=True)\n",
    "\n",
    "model, train_loss_history, val_loss_history, train_f1, val_f1 = train_model(model,criterion,\n",
    "                                                                            optimizer,scheduler,\n",
    "                                                                            train_loader,test_loader,num_epochs,device,patience=float('inf'))"
   ]
  },
  {
   "cell_type": "code",
   "execution_count": 31,
   "id": "b40e570c",
   "metadata": {},
   "outputs": [
    {
     "name": "stdout",
     "output_type": "stream",
     "text": [
      "Accuracy on the test set: 58.65%\n"
     ]
    }
   ],
   "source": [
    "model.eval()\n",
    "with torch.no_grad():\n",
    "    predictions = model(X_test_tensor)\n",
    "    predictions = (predictions > 0.5).float()\n",
    "    accuracy = (predictions == y_test_tensor).sum().item() / len(y_test_tensor)\n",
    "    print(f'Accuracy on the test set: {accuracy * 100:.2f}%')"
   ]
  },
  {
   "cell_type": "code",
   "execution_count": 32,
   "id": "7cc89616",
   "metadata": {},
   "outputs": [
    {
     "data": {
      "image/png": "[encoded data removed]",
      "text/plain": [
       "<Figure size 600x400 with 2 Axes>"
      ]
     },
     "metadata": {},
     "output_type": "display_data"
    }
   ],
   "source": [
    "from sklearn.metrics import confusion_matrix, classification_report\n",
    "\n",
    "y_test_np = y_test_tensor.numpy()\n",
    "predictions_np = predictions.numpy()\n",
    "\n",
    "conf_matrix = confusion_matrix(y_test_np, predictions_np)\n",
    "\n",
    "plt.figure(figsize=(6,4))\n",
    "sns.heatmap(conf_matrix, annot=True, fmt=\"d\", cmap=\"Blues\", xticklabels=['No Churn', 'Churn'], yticklabels=['No Churn', 'Churn'])\n",
    "plt.ylabel('True Label')\n",
    "plt.xlabel('Predicted Label')\n",
    "plt.title('Confusion Matrix')\n",
    "plt.show()"
   ]
  },
  {
   "cell_type": "code",
   "execution_count": 33,
   "id": "48b9e52f",
   "metadata": {},
   "outputs": [
    {
     "name": "stdout",
     "output_type": "stream",
     "text": [
      "              precision    recall  f1-score   support\n",
      "\n",
      "    No Churn       0.54      0.53      0.54       896\n",
      "       Churn       0.62      0.63      0.63      1104\n",
      "\n",
      "    accuracy                           0.59      2000\n",
      "   macro avg       0.58      0.58      0.58      2000\n",
      "weighted avg       0.59      0.59      0.59      2000\n",
      "\n"
     ]
    }
   ],
   "source": [
    "print(classification_report(y_test_np, predictions_np, target_names=['No Churn', 'Churn']))"
   ]
  },
  {
   "cell_type": "code",
   "execution_count": 34,
   "id": "d424a672",
   "metadata": {},
   "outputs": [],
   "source": [
    "torch.save(model.state_dict(), 'neural_network_model_final.pth')"
   ]
  },
  {
   "cell_type": "code",
   "execution_count": 37,
   "id": "a7e079ef",
   "metadata": {},
   "outputs": [],
   "source": [
    "model.eval()\n",
    "with torch.no_grad():\n",
    "    predictions = model(X_test_tensor[4])\n",
    "    predictions = (predictions > 0.5).float()"
   ]
  },
  {
   "cell_type": "code",
   "execution_count": 38,
   "id": "b3f5fe71",
   "metadata": {},
   "outputs": [
    {
     "data": {
      "text/plain": [
       "tensor([1.])"
      ]
     },
     "execution_count": 38,
     "metadata": {},
     "output_type": "execute_result"
    }
   ],
   "source": [
    "predictions"
   ]
  },
  {
   "cell_type": "code",
   "execution_count": 42,
   "id": "b972cb61",
   "metadata": {},
   "outputs": [
    {
     "data": {
      "text/plain": [
       "tensor([ 0.7015,  0.0000,  1.0000, -0.4093, -1.3892, -0.4042,  0.5600, -1.1639,\n",
       "        -1.4804,  1.0000, -0.7698])"
      ]
     },
     "execution_count": 42,
     "metadata": {},
     "output_type": "execute_result"
    }
   ],
   "source": [
    "X_test_tensor[4]"
   ]
  },
  {
   "cell_type": "code",
   "execution_count": 52,
   "id": "462ad9fb",
   "metadata": {},
   "outputs": [],
   "source": [
    "model = FixedNeuronsNetwork(num_features=11,num_classes=1,num_hidden_layers=3,hidden_neurons=64).to(device)"
   ]
  },
  {
   "cell_type": "code",
   "execution_count": null,
   "id": "0664f8ec",
   "metadata": {},
   "outputs": [
    {
     "data": {
      "text/plain": [
       "11"
      ]
     },
     "execution_count": 51,
     "metadata": {},
     "output_type": "execute_result"
    }
   ],
   "source": [
    "config = {\n",
    "    \"num_features\" : 11,\n",
    "    \"num_classes\" : 1,\n",
    "    \"num_hidden_layers\" : 3,\n",
    "    \"hidden_neurons\" : 64\n",
    "}"
   ]
  },
  {
   "cell_type": "code",
   "execution_count": 54,
   "id": "d9516ade",
   "metadata": {},
   "outputs": [
    {
     "data": {
      "text/plain": [
       "<All keys matched successfully>"
      ]
     },
     "execution_count": 54,
     "metadata": {},
     "output_type": "execute_result"
    }
   ],
   "source": [
    "model.load_state_dict(torch.load(\"neural_network_model_final.pth\"))"
   ]
  },
  {
   "cell_type": "code",
   "execution_count": null,
   "id": "9acd1fe0",
   "metadata": {},
   "outputs": [],
   "source": [
    "def get_cluster(sample):\n",
    "    sample_scaled = encode_and_scale(sample)\n",
    "    group = kmeans_loaded.predict(sample_scaled)\n",
    "\n",
    "    return group"
   ]
  },
  {
   "cell_type": "code",
   "execution_count": 55,
   "id": "b52cdd9b",
   "metadata": {},
   "outputs": [],
   "source": [
    "def get_churn_label(sample):\n",
    "    sample_tensor = torch.tensor(sample, dtype=torch.float32)\n",
    "    model.eval()\n",
    "    with torch.no_grad():\n",
    "        predictions = model(sample_tensor)\n",
    "        predictions = (predictions > 0.5).float()\n",
    "\n",
    "    return predictions"
   ]
  },
  {
   "cell_type": "code",
   "execution_count": 56,
   "id": "e609416e",
   "metadata": {},
   "outputs": [
    {
     "name": "stderr",
     "output_type": "stream",
     "text": [
      "/var/folders/ph/0dhbgp7j00v4mkj_24jmp3mr0000gn/T/ipykernel_11061/1278522617.py:2: UserWarning: To copy construct from a tensor, it is recommended to use sourceTensor.clone().detach() or sourceTensor.clone().detach().requires_grad_(True), rather than torch.tensor(sourceTensor).\n",
      "  sample_tensor = torch.tensor(sample, dtype=torch.float32)\n"
     ]
    }
   ],
   "source": [
    "preds = get_churn_label(X_test_tensor[4])"
   ]
  },
  {
   "cell_type": "code",
   "execution_count": 57,
   "id": "95cf138a",
   "metadata": {},
   "outputs": [
    {
     "data": {
      "text/plain": [
       "tensor([1.])"
      ]
     },
     "execution_count": 57,
     "metadata": {},
     "output_type": "execute_result"
    }
   ],
   "source": [
    "preds"
   ]
  },
  {
   "cell_type": "code",
   "execution_count": 61,
   "id": "7a92490c",
   "metadata": {},
   "outputs": [
    {
     "data": {
      "text/html": [
       "<div>\n",
       "<style scoped>\n",
       "    .dataframe tbody tr th:only-of-type {\n",
       "        vertical-align: middle;\n",
       "    }\n",
       "\n",
       "    .dataframe tbody tr th {\n",
       "        vertical-align: top;\n",
       "    }\n",
       "\n",
       "    .dataframe thead th {\n",
       "        text-align: right;\n",
       "    }\n",
       "</style>\n",
       "<table border=\"1\" class=\"dataframe\">\n",
       "  <thead>\n",
       "    <tr style=\"text-align: right;\">\n",
       "      <th></th>\n",
       "      <th>Age</th>\n",
       "      <th>Gender</th>\n",
       "      <th>Location</th>\n",
       "      <th>Subscription_Length_Months</th>\n",
       "      <th>Monthly_Bill</th>\n",
       "      <th>Average_Internet_Usage</th>\n",
       "      <th>No_of_Tickets</th>\n",
       "      <th>Average_Talktime_Usage</th>\n",
       "      <th>Social_Class</th>\n",
       "      <th>Subscription_Type</th>\n",
       "      <th>Base_Charge</th>\n",
       "    </tr>\n",
       "  </thead>\n",
       "  <tbody>\n",
       "    <tr>\n",
       "      <th>0</th>\n",
       "      <td>0.835671</td>\n",
       "      <td>1</td>\n",
       "      <td>2</td>\n",
       "      <td>1.088886</td>\n",
       "      <td>-1.489266</td>\n",
       "      <td>-1.096673</td>\n",
       "      <td>-0.859519</td>\n",
       "      <td>-1.109064</td>\n",
       "      <td>-1.480403</td>\n",
       "      <td>0</td>\n",
       "      <td>-1.496581</td>\n",
       "    </tr>\n",
       "    <tr>\n",
       "      <th>1</th>\n",
       "      <td>1.707517</td>\n",
       "      <td>0</td>\n",
       "      <td>0</td>\n",
       "      <td>0.589484</td>\n",
       "      <td>-0.366456</td>\n",
       "      <td>0.409839</td>\n",
       "      <td>0.560000</td>\n",
       "      <td>-0.590169</td>\n",
       "      <td>-0.185326</td>\n",
       "      <td>2</td>\n",
       "      <td>-0.043096</td>\n",
       "    </tr>\n",
       "    <tr>\n",
       "      <th>2</th>\n",
       "      <td>0.165020</td>\n",
       "      <td>0</td>\n",
       "      <td>1</td>\n",
       "      <td>-0.409320</td>\n",
       "      <td>0.608206</td>\n",
       "      <td>0.680030</td>\n",
       "      <td>-0.859519</td>\n",
       "      <td>-0.191265</td>\n",
       "      <td>1.109752</td>\n",
       "      <td>3</td>\n",
       "      <td>0.683647</td>\n",
       "    </tr>\n",
       "    <tr>\n",
       "      <th>3</th>\n",
       "      <td>-0.773891</td>\n",
       "      <td>0</td>\n",
       "      <td>2</td>\n",
       "      <td>-0.409320</td>\n",
       "      <td>-1.350918</td>\n",
       "      <td>-0.988135</td>\n",
       "      <td>1.979519</td>\n",
       "      <td>-0.392746</td>\n",
       "      <td>-1.480403</td>\n",
       "      <td>1</td>\n",
       "      <td>-0.769839</td>\n",
       "    </tr>\n",
       "    <tr>\n",
       "      <th>4</th>\n",
       "      <td>1.103931</td>\n",
       "      <td>1</td>\n",
       "      <td>1</td>\n",
       "      <td>0.689364</td>\n",
       "      <td>-0.020518</td>\n",
       "      <td>-0.413914</td>\n",
       "      <td>-0.859519</td>\n",
       "      <td>0.746462</td>\n",
       "      <td>-0.185326</td>\n",
       "      <td>2</td>\n",
       "      <td>-0.043096</td>\n",
       "    </tr>\n",
       "  </tbody>\n",
       "</table>\n",
       "</div>"
      ],
      "text/plain": [
       "        Age  Gender  Location  Subscription_Length_Months  Monthly_Bill  \\\n",
       "0  0.835671       1         2                    1.088886     -1.489266   \n",
       "1  1.707517       0         0                    0.589484     -0.366456   \n",
       "2  0.165020       0         1                   -0.409320      0.608206   \n",
       "3 -0.773891       0         2                   -0.409320     -1.350918   \n",
       "4  1.103931       1         1                    0.689364     -0.020518   \n",
       "\n",
       "   Average_Internet_Usage  No_of_Tickets  Average_Talktime_Usage  \\\n",
       "0               -1.096673      -0.859519               -1.109064   \n",
       "1                0.409839       0.560000               -0.590169   \n",
       "2                0.680030      -0.859519               -0.191265   \n",
       "3               -0.988135       1.979519               -0.392746   \n",
       "4               -0.413914      -0.859519                0.746462   \n",
       "\n",
       "   Social_Class  Subscription_Type  Base_Charge  \n",
       "0     -1.480403                  0    -1.496581  \n",
       "1     -0.185326                  2    -0.043096  \n",
       "2      1.109752                  3     0.683647  \n",
       "3     -1.480403                  1    -0.769839  \n",
       "4     -0.185326                  2    -0.043096  "
      ]
     },
     "execution_count": 61,
     "metadata": {},
     "output_type": "execute_result"
    }
   ],
   "source": [
    "sample"
   ]
  },
  {
   "cell_type": "code",
   "execution_count": 62,
   "id": "5a718aed",
   "metadata": {},
   "outputs": [
    {
     "data": {
      "text/html": [
       "<div>\n",
       "<style scoped>\n",
       "    .dataframe tbody tr th:only-of-type {\n",
       "        vertical-align: middle;\n",
       "    }\n",
       "\n",
       "    .dataframe tbody tr th {\n",
       "        vertical-align: top;\n",
       "    }\n",
       "\n",
       "    .dataframe thead th {\n",
       "        text-align: right;\n",
       "    }\n",
       "</style>\n",
       "<table border=\"1\" class=\"dataframe\">\n",
       "  <thead>\n",
       "    <tr style=\"text-align: right;\">\n",
       "      <th></th>\n",
       "      <th>CustomerID</th>\n",
       "      <th>Name</th>\n",
       "      <th>Age</th>\n",
       "      <th>Gender</th>\n",
       "      <th>Location</th>\n",
       "      <th>Subscription_Length_Months</th>\n",
       "      <th>Monthly_Bill</th>\n",
       "      <th>Average_Internet_Usage</th>\n",
       "      <th>No_of_Tickets</th>\n",
       "      <th>Average_Talktime_Usage</th>\n",
       "      <th>Social_Class</th>\n",
       "      <th>Subscription_Type</th>\n",
       "      <th>Base_Charge</th>\n",
       "    </tr>\n",
       "  </thead>\n",
       "  <tbody>\n",
       "    <tr>\n",
       "      <th>0</th>\n",
       "      <td>1</td>\n",
       "      <td>Customer_1</td>\n",
       "      <td>56</td>\n",
       "      <td>Male</td>\n",
       "      <td>Urban</td>\n",
       "      <td>29</td>\n",
       "      <td>286.658992</td>\n",
       "      <td>24.945633</td>\n",
       "      <td>0</td>\n",
       "      <td>23.316484</td>\n",
       "      <td>1</td>\n",
       "      <td>A</td>\n",
       "      <td>100</td>\n",
       "    </tr>\n",
       "    <tr>\n",
       "      <th>1</th>\n",
       "      <td>2</td>\n",
       "      <td>Customer_2</td>\n",
       "      <td>69</td>\n",
       "      <td>Female</td>\n",
       "      <td>Rural</td>\n",
       "      <td>24</td>\n",
       "      <td>706.286532</td>\n",
       "      <td>241.090001</td>\n",
       "      <td>1</td>\n",
       "      <td>97.662416</td>\n",
       "      <td>2</td>\n",
       "      <td>C</td>\n",
       "      <td>300</td>\n",
       "    </tr>\n",
       "    <tr>\n",
       "      <th>2</th>\n",
       "      <td>3</td>\n",
       "      <td>Customer_3</td>\n",
       "      <td>46</td>\n",
       "      <td>Female</td>\n",
       "      <td>Suburban</td>\n",
       "      <td>14</td>\n",
       "      <td>1070.546459</td>\n",
       "      <td>279.855149</td>\n",
       "      <td>0</td>\n",
       "      <td>154.816437</td>\n",
       "      <td>3</td>\n",
       "      <td>D</td>\n",
       "      <td>400</td>\n",
       "    </tr>\n",
       "    <tr>\n",
       "      <th>3</th>\n",
       "      <td>4</td>\n",
       "      <td>Customer_4</td>\n",
       "      <td>32</td>\n",
       "      <td>Female</td>\n",
       "      <td>Urban</td>\n",
       "      <td>14</td>\n",
       "      <td>338.363834</td>\n",
       "      <td>40.517955</td>\n",
       "      <td>2</td>\n",
       "      <td>125.948657</td>\n",
       "      <td>1</td>\n",
       "      <td>B</td>\n",
       "      <td>200</td>\n",
       "    </tr>\n",
       "    <tr>\n",
       "      <th>4</th>\n",
       "      <td>5</td>\n",
       "      <td>Customer_5</td>\n",
       "      <td>60</td>\n",
       "      <td>Male</td>\n",
       "      <td>Suburban</td>\n",
       "      <td>25</td>\n",
       "      <td>835.573690</td>\n",
       "      <td>122.903374</td>\n",
       "      <td>0</td>\n",
       "      <td>289.171509</td>\n",
       "      <td>2</td>\n",
       "      <td>C</td>\n",
       "      <td>300</td>\n",
       "    </tr>\n",
       "    <tr>\n",
       "      <th>...</th>\n",
       "      <td>...</td>\n",
       "      <td>...</td>\n",
       "      <td>...</td>\n",
       "      <td>...</td>\n",
       "      <td>...</td>\n",
       "      <td>...</td>\n",
       "      <td>...</td>\n",
       "      <td>...</td>\n",
       "      <td>...</td>\n",
       "      <td>...</td>\n",
       "      <td>...</td>\n",
       "      <td>...</td>\n",
       "      <td>...</td>\n",
       "    </tr>\n",
       "    <tr>\n",
       "      <th>9995</th>\n",
       "      <td>9996</td>\n",
       "      <td>Customer_9996</td>\n",
       "      <td>55</td>\n",
       "      <td>Male</td>\n",
       "      <td>Suburban</td>\n",
       "      <td>34</td>\n",
       "      <td>676.156043</td>\n",
       "      <td>64.540758</td>\n",
       "      <td>3</td>\n",
       "      <td>158.962291</td>\n",
       "      <td>2</td>\n",
       "      <td>C</td>\n",
       "      <td>300</td>\n",
       "    </tr>\n",
       "    <tr>\n",
       "      <th>9996</th>\n",
       "      <td>9997</td>\n",
       "      <td>Customer_9997</td>\n",
       "      <td>51</td>\n",
       "      <td>Female</td>\n",
       "      <td>Rural</td>\n",
       "      <td>16</td>\n",
       "      <td>337.508892</td>\n",
       "      <td>10.041086</td>\n",
       "      <td>0</td>\n",
       "      <td>128.771894</td>\n",
       "      <td>1</td>\n",
       "      <td>B</td>\n",
       "      <td>200</td>\n",
       "    </tr>\n",
       "    <tr>\n",
       "      <th>9997</th>\n",
       "      <td>9998</td>\n",
       "      <td>Customer_9998</td>\n",
       "      <td>57</td>\n",
       "      <td>Female</td>\n",
       "      <td>Rural</td>\n",
       "      <td>27</td>\n",
       "      <td>1483.984362</td>\n",
       "      <td>401.194578</td>\n",
       "      <td>1</td>\n",
       "      <td>397.613115</td>\n",
       "      <td>3</td>\n",
       "      <td>E</td>\n",
       "      <td>500</td>\n",
       "    </tr>\n",
       "    <tr>\n",
       "      <th>9998</th>\n",
       "      <td>9999</td>\n",
       "      <td>Customer_9999</td>\n",
       "      <td>64</td>\n",
       "      <td>Male</td>\n",
       "      <td>Suburban</td>\n",
       "      <td>4</td>\n",
       "      <td>311.640946</td>\n",
       "      <td>87.497384</td>\n",
       "      <td>0</td>\n",
       "      <td>27.245347</td>\n",
       "      <td>1</td>\n",
       "      <td>B</td>\n",
       "      <td>200</td>\n",
       "    </tr>\n",
       "    <tr>\n",
       "      <th>9999</th>\n",
       "      <td>10000</td>\n",
       "      <td>Customer_10000</td>\n",
       "      <td>32</td>\n",
       "      <td>Female</td>\n",
       "      <td>Rural</td>\n",
       "      <td>19</td>\n",
       "      <td>419.187963</td>\n",
       "      <td>58.354579</td>\n",
       "      <td>1</td>\n",
       "      <td>30.201921</td>\n",
       "      <td>1</td>\n",
       "      <td>B</td>\n",
       "      <td>200</td>\n",
       "    </tr>\n",
       "  </tbody>\n",
       "</table>\n",
       "<p>10000 rows × 13 columns</p>\n",
       "</div>"
      ],
      "text/plain": [
       "      CustomerID            Name  Age  Gender  Location  \\\n",
       "0              1      Customer_1   56    Male     Urban   \n",
       "1              2      Customer_2   69  Female     Rural   \n",
       "2              3      Customer_3   46  Female  Suburban   \n",
       "3              4      Customer_4   32  Female     Urban   \n",
       "4              5      Customer_5   60    Male  Suburban   \n",
       "...          ...             ...  ...     ...       ...   \n",
       "9995        9996   Customer_9996   55    Male  Suburban   \n",
       "9996        9997   Customer_9997   51  Female     Rural   \n",
       "9997        9998   Customer_9998   57  Female     Rural   \n",
       "9998        9999   Customer_9999   64    Male  Suburban   \n",
       "9999       10000  Customer_10000   32  Female     Rural   \n",
       "\n",
       "      Subscription_Length_Months  Monthly_Bill  Average_Internet_Usage  \\\n",
       "0                             29    286.658992               24.945633   \n",
       "1                             24    706.286532              241.090001   \n",
       "2                             14   1070.546459              279.855149   \n",
       "3                             14    338.363834               40.517955   \n",
       "4                             25    835.573690              122.903374   \n",
       "...                          ...           ...                     ...   \n",
       "9995                          34    676.156043               64.540758   \n",
       "9996                          16    337.508892               10.041086   \n",
       "9997                          27   1483.984362              401.194578   \n",
       "9998                           4    311.640946               87.497384   \n",
       "9999                          19    419.187963               58.354579   \n",
       "\n",
       "      No_of_Tickets  Average_Talktime_Usage  Social_Class Subscription_Type  \\\n",
       "0                 0               23.316484             1                 A   \n",
       "1                 1               97.662416             2                 C   \n",
       "2                 0              154.816437             3                 D   \n",
       "3                 2              125.948657             1                 B   \n",
       "4                 0              289.171509             2                 C   \n",
       "...             ...                     ...           ...               ...   \n",
       "9995              3              158.962291             2                 C   \n",
       "9996              0              128.771894             1                 B   \n",
       "9997              1              397.613115             3                 E   \n",
       "9998              0               27.245347             1                 B   \n",
       "9999              1               30.201921             1                 B   \n",
       "\n",
       "      Base_Charge  \n",
       "0             100  \n",
       "1             300  \n",
       "2             400  \n",
       "3             200  \n",
       "4             300  \n",
       "...           ...  \n",
       "9995          300  \n",
       "9996          200  \n",
       "9997          500  \n",
       "9998          200  \n",
       "9999          200  \n",
       "\n",
       "[10000 rows x 13 columns]"
      ]
     },
     "execution_count": 62,
     "metadata": {},
     "output_type": "execute_result"
    }
   ],
   "source": [
    "df"
   ]
  },
  {
   "cell_type": "code",
   "execution_count": 68,
   "id": "e8e53f96",
   "metadata": {},
   "outputs": [
    {
     "name": "stdout",
     "output_type": "stream",
     "text": [
      "Gender\n",
      "['Male' 'Female']\n",
      "--------------\n",
      "Location\n",
      "['Urban' 'Rural' 'Suburban']\n",
      "--------------\n",
      "Subscription_Type\n",
      "['A' 'C' 'D' 'B' 'E']\n",
      "--------------\n"
     ]
    }
   ],
   "source": [
    "main_df = df.drop(columns = [\"CustomerID\", \"Name\"])\n",
    "\n",
    "categorical_cols = main_df.select_dtypes(include=['object']).columns\n",
    "\n",
    "for col in categorical_cols:\n",
    "    print(col)\n",
    "    print(main_df[col].unique())\n",
    "    print(\"--------------\")"
   ]
  },
  {
   "cell_type": "code",
   "execution_count": 69,
   "id": "ce20cbee",
   "metadata": {},
   "outputs": [
    {
     "name": "stdout",
     "output_type": "stream",
     "text": [
      "Index(['Age', 'Gender', 'Location', 'Subscription_Length_Months',\n",
      "       'Monthly_Bill', 'Average_Internet_Usage', 'No_of_Tickets',\n",
      "       'Average_Talktime_Usage', 'Social_Class', 'Subscription_Type',\n",
      "       'Base_Charge'],\n",
      "      dtype='object')\n"
     ]
    }
   ],
   "source": [
    "print(main_df.columns)"
   ]
  },
  {
   "cell_type": "code",
   "execution_count": null,
   "id": "280b48f1",
   "metadata": {},
   "outputs": [],
   "source": []
  }
 ],
 "metadata": {
  "kernelspec": {
   "display_name": "Python 3",
   "language": "python",
   "name": "python3"
  },
  "language_info": {
   "codemirror_mode": {
    "name": "ipython",
    "version": 3
   },
   "file_extension": ".py",
   "mimetype": "text/x-python",
   "name": "python",
   "nbconvert_exporter": "python",
   "pygments_lexer": "ipython3",
   "version": "3.11.3"
  }
 },
 "nbformat": 4,
 "nbformat_minor": 5
}
