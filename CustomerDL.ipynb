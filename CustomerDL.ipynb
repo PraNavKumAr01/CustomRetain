{
 "cells": [
  {
   "cell_type": "code",
   "execution_count": 89,
   "id": "74e3832c",
   "metadata": {},
   "outputs": [],
   "source": [
    "import pandas as pd\n",
    "import matplotlib.pyplot as plt\n",
    "import seaborn as sns\n",
    "from sklearn.cluster import KMeans\n",
    "import numpy as np\n",
    "import torch\n",
    "import torch.nn as nn\n",
    "import torch.optim as optim\n",
    "from sklearn.model_selection import train_test_split\n",
    "from sklearn.metrics import confusion_matrix, classification_report\n",
    "import torch\n",
    "from torch.utils.data import DataLoader, TensorDataset, WeightedRandomSampler\n",
    "from torch.optim.lr_scheduler import ReduceLROnPlateau\n",
    "from tqdm import tqdm\n",
    "from sklearn.metrics import f1_score\n",
    "from sklearn.preprocessing import StandardScaler, MinMaxScaler"
   ]
  },
  {
   "cell_type": "code",
   "execution_count": 103,
   "id": "f5e2f3e2",
   "metadata": {
    "scrolled": true
   },
   "outputs": [
    {
     "data": {
      "text/html": [
       "<div>\n",
       "<style scoped>\n",
       "    .dataframe tbody tr th:only-of-type {\n",
       "        vertical-align: middle;\n",
       "    }\n",
       "\n",
       "    .dataframe tbody tr th {\n",
       "        vertical-align: top;\n",
       "    }\n",
       "\n",
       "    .dataframe thead th {\n",
       "        text-align: right;\n",
       "    }\n",
       "</style>\n",
       "<table border=\"1\" class=\"dataframe\">\n",
       "  <thead>\n",
       "    <tr style=\"text-align: right;\">\n",
       "      <th></th>\n",
       "      <th>CustomerID</th>\n",
       "      <th>Name</th>\n",
       "      <th>Age</th>\n",
       "      <th>Gender</th>\n",
       "      <th>Location</th>\n",
       "      <th>Subscription_Length_Months</th>\n",
       "      <th>Monthly_Bill</th>\n",
       "      <th>Average_Internet_Usage</th>\n",
       "      <th>No_of_Tickets</th>\n",
       "      <th>Average_Talktime_Usage</th>\n",
       "      <th>Social_Class</th>\n",
       "      <th>Subscription_Type</th>\n",
       "      <th>Base_Charge</th>\n",
       "    </tr>\n",
       "  </thead>\n",
       "  <tbody>\n",
       "    <tr>\n",
       "      <th>0</th>\n",
       "      <td>1</td>\n",
       "      <td>Customer_1</td>\n",
       "      <td>56</td>\n",
       "      <td>Male</td>\n",
       "      <td>Urban</td>\n",
       "      <td>29</td>\n",
       "      <td>286.658992</td>\n",
       "      <td>24.945633</td>\n",
       "      <td>0</td>\n",
       "      <td>23.316484</td>\n",
       "      <td>1</td>\n",
       "      <td>A</td>\n",
       "      <td>100</td>\n",
       "    </tr>\n",
       "    <tr>\n",
       "      <th>1</th>\n",
       "      <td>2</td>\n",
       "      <td>Customer_2</td>\n",
       "      <td>69</td>\n",
       "      <td>Female</td>\n",
       "      <td>Rural</td>\n",
       "      <td>24</td>\n",
       "      <td>706.286532</td>\n",
       "      <td>241.090001</td>\n",
       "      <td>1</td>\n",
       "      <td>97.662416</td>\n",
       "      <td>2</td>\n",
       "      <td>C</td>\n",
       "      <td>300</td>\n",
       "    </tr>\n",
       "    <tr>\n",
       "      <th>2</th>\n",
       "      <td>3</td>\n",
       "      <td>Customer_3</td>\n",
       "      <td>46</td>\n",
       "      <td>Female</td>\n",
       "      <td>Suburban</td>\n",
       "      <td>14</td>\n",
       "      <td>1070.546459</td>\n",
       "      <td>279.855149</td>\n",
       "      <td>0</td>\n",
       "      <td>154.816437</td>\n",
       "      <td>3</td>\n",
       "      <td>D</td>\n",
       "      <td>400</td>\n",
       "    </tr>\n",
       "    <tr>\n",
       "      <th>3</th>\n",
       "      <td>4</td>\n",
       "      <td>Customer_4</td>\n",
       "      <td>32</td>\n",
       "      <td>Female</td>\n",
       "      <td>Urban</td>\n",
       "      <td>14</td>\n",
       "      <td>338.363834</td>\n",
       "      <td>40.517955</td>\n",
       "      <td>2</td>\n",
       "      <td>125.948657</td>\n",
       "      <td>1</td>\n",
       "      <td>B</td>\n",
       "      <td>200</td>\n",
       "    </tr>\n",
       "    <tr>\n",
       "      <th>4</th>\n",
       "      <td>5</td>\n",
       "      <td>Customer_5</td>\n",
       "      <td>60</td>\n",
       "      <td>Male</td>\n",
       "      <td>Suburban</td>\n",
       "      <td>25</td>\n",
       "      <td>835.573690</td>\n",
       "      <td>122.903374</td>\n",
       "      <td>0</td>\n",
       "      <td>289.171509</td>\n",
       "      <td>2</td>\n",
       "      <td>C</td>\n",
       "      <td>300</td>\n",
       "    </tr>\n",
       "  </tbody>\n",
       "</table>\n",
       "</div>"
      ],
      "text/plain": [
       "   CustomerID        Name  Age  Gender  Location  Subscription_Length_Months  \\\n",
       "0           1  Customer_1   56    Male     Urban                          29   \n",
       "1           2  Customer_2   69  Female     Rural                          24   \n",
       "2           3  Customer_3   46  Female  Suburban                          14   \n",
       "3           4  Customer_4   32  Female     Urban                          14   \n",
       "4           5  Customer_5   60    Male  Suburban                          25   \n",
       "\n",
       "   Monthly_Bill  Average_Internet_Usage  No_of_Tickets  \\\n",
       "0    286.658992               24.945633              0   \n",
       "1    706.286532              241.090001              1   \n",
       "2   1070.546459              279.855149              0   \n",
       "3    338.363834               40.517955              2   \n",
       "4    835.573690              122.903374              0   \n",
       "\n",
       "   Average_Talktime_Usage  Social_Class Subscription_Type  Base_Charge  \n",
       "0               23.316484             1                 A          100  \n",
       "1               97.662416             2                 C          300  \n",
       "2              154.816437             3                 D          400  \n",
       "3              125.948657             1                 B          200  \n",
       "4              289.171509             2                 C          300  "
      ]
     },
     "execution_count": 103,
     "metadata": {},
     "output_type": "execute_result"
    }
   ],
   "source": [
    "# Load the dataset\n",
    "df = pd.read_excel('./CustomRetain.xlsx')\n",
    "df.head(5)"
   ]
  },
  {
   "cell_type": "code",
   "execution_count": 104,
   "id": "d8e79243",
   "metadata": {},
   "outputs": [
    {
     "data": {
      "text/plain": [
       "Rural       3402\n",
       "Suburban    3311\n",
       "Urban       3287\n",
       "Name: Location, dtype: int64"
      ]
     },
     "execution_count": 104,
     "metadata": {},
     "output_type": "execute_result"
    }
   ],
   "source": [
    "df[\"Location\"].value_counts()"
   ]
  },
  {
   "cell_type": "code",
   "execution_count": 105,
   "id": "6fab2fe2",
   "metadata": {},
   "outputs": [
    {
     "data": {
      "text/plain": [
       "2    3833\n",
       "3    3799\n",
       "1    2368\n",
       "Name: Social_Class, dtype: int64"
      ]
     },
     "execution_count": 105,
     "metadata": {},
     "output_type": "execute_result"
    }
   ],
   "source": [
    "df[\"Social_Class\"].value_counts()"
   ]
  },
  {
   "cell_type": "code",
   "execution_count": 106,
   "id": "838e7978",
   "metadata": {},
   "outputs": [
    {
     "data": {
      "text/plain": [
       "B    2402\n",
       "C    2281\n",
       "E    2232\n",
       "D    1567\n",
       "A    1518\n",
       "Name: Subscription_Type, dtype: int64"
      ]
     },
     "execution_count": 106,
     "metadata": {},
     "output_type": "execute_result"
    }
   ],
   "source": [
    "df[\"Subscription_Type\"].value_counts()"
   ]
  },
  {
   "cell_type": "code",
   "execution_count": 79,
   "id": "e6ebe9df",
   "metadata": {},
   "outputs": [
    {
     "name": "stdout",
     "output_type": "stream",
     "text": [
      "   CustomerID        Name  Age  Gender  Location  Subscription_Length_Months  \\\n",
      "0           1  Customer_1   56    Male     Urban                          29   \n",
      "1           2  Customer_2   69  Female     Rural                          24   \n",
      "2           3  Customer_3   46  Female  Suburban                          14   \n",
      "3           4  Customer_4   32  Female     Urban                          14   \n",
      "4           5  Customer_5   60    Male  Suburban                          25   \n",
      "\n",
      "   Monthly_Bill  Average_Internet_Usage  No_of_Tickets  \\\n",
      "0    286.658992               24.945633              0   \n",
      "1    706.286532              241.090001              1   \n",
      "2   1070.546459              279.855149              0   \n",
      "3    338.363834               40.517955              2   \n",
      "4    835.573690              122.903374              0   \n",
      "\n",
      "   Average_Talktime_Usage  Social_Class Subscription_Type  Base_Charge  \\\n",
      "0               23.316484             1                 A          100   \n",
      "1               97.662416             2                 C          300   \n",
      "2              154.816437             3                 D          400   \n",
      "3              125.948657             1                 B          200   \n",
      "4              289.171509             2                 C          300   \n",
      "\n",
      "   Subscription_Type_Encoded  \n",
      "0                          0  \n",
      "1                          2  \n",
      "2                          3  \n",
      "3                          1  \n",
      "4                          2  \n",
      "Classes and their corresponding labels:\n",
      "A: 0\n",
      "B: 1\n",
      "C: 2\n",
      "D: 3\n",
      "E: 4\n"
     ]
    }
   ],
   "source": [
    "import pandas as pd\n",
    "from sklearn.preprocessing import LabelEncoder\n",
    "\n",
    "# Assuming df is your DataFrame\n",
    "\n",
    "# Initialize the LabelEncoder\n",
    "label_encoder = LabelEncoder()\n",
    "\n",
    "# Fit and transform the Subscription_Type column\n",
    "df['Subscription_Type_Encoded'] = label_encoder.fit_transform(df['Subscription_Type'])\n",
    "\n",
    "# Display the first few rows to verify the encoding\n",
    "print(df.head())\n",
    "\n",
    "# Optionally, you can check the classes and their corresponding labels\n",
    "print(\"Classes and their corresponding labels:\")\n",
    "for i, class_label in enumerate(label_encoder.classes_):\n",
    "    print(f\"{class_label}: {i}\")\n"
   ]
  },
  {
   "cell_type": "code",
   "execution_count": 80,
   "id": "0acf44ef",
   "metadata": {},
   "outputs": [
    {
     "data": {
      "text/html": [
       "<div>\n",
       "<style scoped>\n",
       "    .dataframe tbody tr th:only-of-type {\n",
       "        vertical-align: middle;\n",
       "    }\n",
       "\n",
       "    .dataframe tbody tr th {\n",
       "        vertical-align: top;\n",
       "    }\n",
       "\n",
       "    .dataframe thead th {\n",
       "        text-align: right;\n",
       "    }\n",
       "</style>\n",
       "<table border=\"1\" class=\"dataframe\">\n",
       "  <thead>\n",
       "    <tr style=\"text-align: right;\">\n",
       "      <th></th>\n",
       "      <th>CustomerID</th>\n",
       "      <th>Name</th>\n",
       "      <th>Age</th>\n",
       "      <th>Gender</th>\n",
       "      <th>Location</th>\n",
       "      <th>Subscription_Length_Months</th>\n",
       "      <th>Monthly_Bill</th>\n",
       "      <th>Average_Internet_Usage</th>\n",
       "      <th>No_of_Tickets</th>\n",
       "      <th>Average_Talktime_Usage</th>\n",
       "      <th>Social_Class</th>\n",
       "      <th>Subscription_Type</th>\n",
       "      <th>Base_Charge</th>\n",
       "      <th>Subscription_Type_Encoded</th>\n",
       "    </tr>\n",
       "  </thead>\n",
       "  <tbody>\n",
       "    <tr>\n",
       "      <th>0</th>\n",
       "      <td>1</td>\n",
       "      <td>Customer_1</td>\n",
       "      <td>56</td>\n",
       "      <td>Male</td>\n",
       "      <td>Urban</td>\n",
       "      <td>29</td>\n",
       "      <td>286.658992</td>\n",
       "      <td>24.945633</td>\n",
       "      <td>0</td>\n",
       "      <td>23.316484</td>\n",
       "      <td>1</td>\n",
       "      <td>A</td>\n",
       "      <td>100</td>\n",
       "      <td>0</td>\n",
       "    </tr>\n",
       "    <tr>\n",
       "      <th>1</th>\n",
       "      <td>2</td>\n",
       "      <td>Customer_2</td>\n",
       "      <td>69</td>\n",
       "      <td>Female</td>\n",
       "      <td>Rural</td>\n",
       "      <td>24</td>\n",
       "      <td>706.286532</td>\n",
       "      <td>241.090001</td>\n",
       "      <td>1</td>\n",
       "      <td>97.662416</td>\n",
       "      <td>2</td>\n",
       "      <td>C</td>\n",
       "      <td>300</td>\n",
       "      <td>2</td>\n",
       "    </tr>\n",
       "    <tr>\n",
       "      <th>2</th>\n",
       "      <td>3</td>\n",
       "      <td>Customer_3</td>\n",
       "      <td>46</td>\n",
       "      <td>Female</td>\n",
       "      <td>Suburban</td>\n",
       "      <td>14</td>\n",
       "      <td>1070.546459</td>\n",
       "      <td>279.855149</td>\n",
       "      <td>0</td>\n",
       "      <td>154.816437</td>\n",
       "      <td>3</td>\n",
       "      <td>D</td>\n",
       "      <td>400</td>\n",
       "      <td>3</td>\n",
       "    </tr>\n",
       "    <tr>\n",
       "      <th>3</th>\n",
       "      <td>4</td>\n",
       "      <td>Customer_4</td>\n",
       "      <td>32</td>\n",
       "      <td>Female</td>\n",
       "      <td>Urban</td>\n",
       "      <td>14</td>\n",
       "      <td>338.363834</td>\n",
       "      <td>40.517955</td>\n",
       "      <td>2</td>\n",
       "      <td>125.948657</td>\n",
       "      <td>1</td>\n",
       "      <td>B</td>\n",
       "      <td>200</td>\n",
       "      <td>1</td>\n",
       "    </tr>\n",
       "    <tr>\n",
       "      <th>4</th>\n",
       "      <td>5</td>\n",
       "      <td>Customer_5</td>\n",
       "      <td>60</td>\n",
       "      <td>Male</td>\n",
       "      <td>Suburban</td>\n",
       "      <td>25</td>\n",
       "      <td>835.573690</td>\n",
       "      <td>122.903374</td>\n",
       "      <td>0</td>\n",
       "      <td>289.171509</td>\n",
       "      <td>2</td>\n",
       "      <td>C</td>\n",
       "      <td>300</td>\n",
       "      <td>2</td>\n",
       "    </tr>\n",
       "  </tbody>\n",
       "</table>\n",
       "</div>"
      ],
      "text/plain": [
       "   CustomerID        Name  Age  Gender  Location  Subscription_Length_Months  \\\n",
       "0           1  Customer_1   56    Male     Urban                          29   \n",
       "1           2  Customer_2   69  Female     Rural                          24   \n",
       "2           3  Customer_3   46  Female  Suburban                          14   \n",
       "3           4  Customer_4   32  Female     Urban                          14   \n",
       "4           5  Customer_5   60    Male  Suburban                          25   \n",
       "\n",
       "   Monthly_Bill  Average_Internet_Usage  No_of_Tickets  \\\n",
       "0    286.658992               24.945633              0   \n",
       "1    706.286532              241.090001              1   \n",
       "2   1070.546459              279.855149              0   \n",
       "3    338.363834               40.517955              2   \n",
       "4    835.573690              122.903374              0   \n",
       "\n",
       "   Average_Talktime_Usage  Social_Class Subscription_Type  Base_Charge  \\\n",
       "0               23.316484             1                 A          100   \n",
       "1               97.662416             2                 C          300   \n",
       "2              154.816437             3                 D          400   \n",
       "3              125.948657             1                 B          200   \n",
       "4              289.171509             2                 C          300   \n",
       "\n",
       "   Subscription_Type_Encoded  \n",
       "0                          0  \n",
       "1                          2  \n",
       "2                          3  \n",
       "3                          1  \n",
       "4                          2  "
      ]
     },
     "execution_count": 80,
     "metadata": {},
     "output_type": "execute_result"
    }
   ],
   "source": [
    "df.head(5)"
   ]
  },
  {
   "cell_type": "code",
   "execution_count": 81,
   "id": "45e3c4ce",
   "metadata": {},
   "outputs": [
    {
     "name": "stderr",
     "output_type": "stream",
     "text": [
      "/Users/pranav/miniforge3/lib/python3.10/site-packages/sklearn/cluster/_kmeans.py:1412: FutureWarning: The default value of `n_init` will change from 10 to 'auto' in 1.4. Set the value of `n_init` explicitly to suppress the warning\n",
      "  super()._check_params_vs_input(X, default_n_init=10)\n",
      "/Users/pranav/miniforge3/lib/python3.10/site-packages/sklearn/cluster/_kmeans.py:1412: FutureWarning: The default value of `n_init` will change from 10 to 'auto' in 1.4. Set the value of `n_init` explicitly to suppress the warning\n",
      "  super()._check_params_vs_input(X, default_n_init=10)\n",
      "/Users/pranav/miniforge3/lib/python3.10/site-packages/sklearn/cluster/_kmeans.py:1412: FutureWarning: The default value of `n_init` will change from 10 to 'auto' in 1.4. Set the value of `n_init` explicitly to suppress the warning\n",
      "  super()._check_params_vs_input(X, default_n_init=10)\n",
      "/Users/pranav/miniforge3/lib/python3.10/site-packages/sklearn/cluster/_kmeans.py:1412: FutureWarning: The default value of `n_init` will change from 10 to 'auto' in 1.4. Set the value of `n_init` explicitly to suppress the warning\n",
      "  super()._check_params_vs_input(X, default_n_init=10)\n",
      "/Users/pranav/miniforge3/lib/python3.10/site-packages/sklearn/cluster/_kmeans.py:1412: FutureWarning: The default value of `n_init` will change from 10 to 'auto' in 1.4. Set the value of `n_init` explicitly to suppress the warning\n",
      "  super()._check_params_vs_input(X, default_n_init=10)\n",
      "/Users/pranav/miniforge3/lib/python3.10/site-packages/sklearn/cluster/_kmeans.py:1412: FutureWarning: The default value of `n_init` will change from 10 to 'auto' in 1.4. Set the value of `n_init` explicitly to suppress the warning\n",
      "  super()._check_params_vs_input(X, default_n_init=10)\n",
      "/Users/pranav/miniforge3/lib/python3.10/site-packages/sklearn/cluster/_kmeans.py:1412: FutureWarning: The default value of `n_init` will change from 10 to 'auto' in 1.4. Set the value of `n_init` explicitly to suppress the warning\n",
      "  super()._check_params_vs_input(X, default_n_init=10)\n",
      "/Users/pranav/miniforge3/lib/python3.10/site-packages/sklearn/cluster/_kmeans.py:1412: FutureWarning: The default value of `n_init` will change from 10 to 'auto' in 1.4. Set the value of `n_init` explicitly to suppress the warning\n",
      "  super()._check_params_vs_input(X, default_n_init=10)\n",
      "/Users/pranav/miniforge3/lib/python3.10/site-packages/sklearn/cluster/_kmeans.py:1412: FutureWarning: The default value of `n_init` will change from 10 to 'auto' in 1.4. Set the value of `n_init` explicitly to suppress the warning\n",
      "  super()._check_params_vs_input(X, default_n_init=10)\n",
      "/Users/pranav/miniforge3/lib/python3.10/site-packages/sklearn/cluster/_kmeans.py:1412: FutureWarning: The default value of `n_init` will change from 10 to 'auto' in 1.4. Set the value of `n_init` explicitly to suppress the warning\n",
      "  super()._check_params_vs_input(X, default_n_init=10)\n"
     ]
    },
    {
     "data": {
      "image/png": "[encoded data removed]",
      "text/plain": [
       "<Figure size 800x600 with 1 Axes>"
      ]
     },
     "metadata": {},
     "output_type": "display_data"
    }
   ],
   "source": [
    "\n",
    "# Select the features for clustering\n",
    "#features = df[['Average_Internet_Usage', 'Average_Talktime_Usage', 'Monthly_Bill', \n",
    " #              'Subscription_Length_Months', 'Social_Class']]\n",
    "features = df[['Average_Internet_Usage', 'Average_Talktime_Usage', 'Monthly_Bill', \n",
    "               'Subscription_Type_Encoded']]\n",
    "# Initialize the scaler\n",
    "scaler = StandardScaler()\n",
    "\n",
    "# Scale the features\n",
    "scaled_features = scaler.fit_transform(features)\n",
    "\n",
    "# Convert scaled features back to a DataFrame for ease of use\n",
    "scaled_df = pd.DataFrame(scaled_features, columns=features.columns)\n",
    "\n",
    "# Use the Elbow method to determine the optimal number of clusters\n",
    "inertia = []\n",
    "K = range(1, 11)\n",
    "\n",
    "for k in K:\n",
    "    kmeans = KMeans(n_clusters=k, random_state=42)\n",
    "    kmeans.fit(scaled_df)\n",
    "    inertia.append(kmeans.inertia_)\n",
    "\n",
    "# Plot the Elbow graph\n",
    "plt.figure(figsize=(8, 6))\n",
    "plt.plot(K, inertia, 'bo-')\n",
    "plt.xlabel('Number of Clusters')\n",
    "plt.ylabel('Inertia')\n",
    "plt.title('Elbow Method For Optimal Number of Clusters')\n",
    "plt.show()\n"
   ]
  },
  {
   "cell_type": "code",
   "execution_count": 82,
   "id": "dd4ee880",
   "metadata": {},
   "outputs": [
    {
     "name": "stderr",
     "output_type": "stream",
     "text": [
      "/Users/pranav/miniforge3/lib/python3.10/site-packages/sklearn/cluster/_kmeans.py:1412: FutureWarning: The default value of `n_init` will change from 10 to 'auto' in 1.4. Set the value of `n_init` explicitly to suppress the warning\n",
      "  super()._check_params_vs_input(X, default_n_init=10)\n"
     ]
    },
    {
     "name": "stdout",
     "output_type": "stream",
     "text": [
      "   CustomerID        Name  Age  Gender  Location  Subscription_Length_Months  \\\n",
      "0           1  Customer_1   56    Male     Urban                          29   \n",
      "1           2  Customer_2   69  Female     Rural                          24   \n",
      "2           3  Customer_3   46  Female  Suburban                          14   \n",
      "3           4  Customer_4   32  Female     Urban                          14   \n",
      "4           5  Customer_5   60    Male  Suburban                          25   \n",
      "\n",
      "   Monthly_Bill  Average_Internet_Usage  No_of_Tickets  \\\n",
      "0    286.658992               24.945633              0   \n",
      "1    706.286532              241.090001              1   \n",
      "2   1070.546459              279.855149              0   \n",
      "3    338.363834               40.517955              2   \n",
      "4    835.573690              122.903374              0   \n",
      "\n",
      "   Average_Talktime_Usage  Social_Class Subscription_Type  Base_Charge  \\\n",
      "0               23.316484             1                 A          100   \n",
      "1               97.662416             2                 C          300   \n",
      "2              154.816437             3                 D          400   \n",
      "3              125.948657             1                 B          200   \n",
      "4              289.171509             2                 C          300   \n",
      "\n",
      "   Subscription_Type_Encoded  Cluster  \n",
      "0                          0        5  \n",
      "1                          2        3  \n",
      "2                          3        0  \n",
      "3                          1        7  \n",
      "4                          2        6  \n"
     ]
    }
   ],
   "source": [
    "from sklearn.cluster import KMeans\n",
    "\n",
    "# Apply K-means clustering with 7 clusters\n",
    "kmeans = KMeans(n_clusters=8, random_state=42)\n",
    "kmeans.fit(scaled_df)\n",
    "\n",
    "# Add the cluster labels to the original dataframe\n",
    "df['Cluster'] = kmeans.labels_\n",
    "\n",
    "# Display the first few rows to check the clusters\n",
    "print(df.head())"
   ]
  },
  {
   "cell_type": "code",
   "execution_count": 83,
   "id": "2f9ddda2",
   "metadata": {},
   "outputs": [
    {
     "data": {
      "text/html": [
       "<div>\n",
       "<style scoped>\n",
       "    .dataframe tbody tr th:only-of-type {\n",
       "        vertical-align: middle;\n",
       "    }\n",
       "\n",
       "    .dataframe tbody tr th {\n",
       "        vertical-align: top;\n",
       "    }\n",
       "\n",
       "    .dataframe thead th {\n",
       "        text-align: right;\n",
       "    }\n",
       "</style>\n",
       "<table border=\"1\" class=\"dataframe\">\n",
       "  <thead>\n",
       "    <tr style=\"text-align: right;\">\n",
       "      <th></th>\n",
       "      <th>CustomerID</th>\n",
       "      <th>Name</th>\n",
       "      <th>Age</th>\n",
       "      <th>Gender</th>\n",
       "      <th>Location</th>\n",
       "      <th>Subscription_Length_Months</th>\n",
       "      <th>Monthly_Bill</th>\n",
       "      <th>Average_Internet_Usage</th>\n",
       "      <th>No_of_Tickets</th>\n",
       "      <th>Average_Talktime_Usage</th>\n",
       "      <th>Social_Class</th>\n",
       "      <th>Subscription_Type</th>\n",
       "      <th>Base_Charge</th>\n",
       "      <th>Subscription_Type_Encoded</th>\n",
       "      <th>Cluster</th>\n",
       "    </tr>\n",
       "  </thead>\n",
       "  <tbody>\n",
       "    <tr>\n",
       "      <th>0</th>\n",
       "      <td>1</td>\n",
       "      <td>Customer_1</td>\n",
       "      <td>56</td>\n",
       "      <td>Male</td>\n",
       "      <td>Urban</td>\n",
       "      <td>29</td>\n",
       "      <td>286.658992</td>\n",
       "      <td>24.945633</td>\n",
       "      <td>0</td>\n",
       "      <td>23.316484</td>\n",
       "      <td>1</td>\n",
       "      <td>A</td>\n",
       "      <td>100</td>\n",
       "      <td>0</td>\n",
       "      <td>5</td>\n",
       "    </tr>\n",
       "    <tr>\n",
       "      <th>1</th>\n",
       "      <td>2</td>\n",
       "      <td>Customer_2</td>\n",
       "      <td>69</td>\n",
       "      <td>Female</td>\n",
       "      <td>Rural</td>\n",
       "      <td>24</td>\n",
       "      <td>706.286532</td>\n",
       "      <td>241.090001</td>\n",
       "      <td>1</td>\n",
       "      <td>97.662416</td>\n",
       "      <td>2</td>\n",
       "      <td>C</td>\n",
       "      <td>300</td>\n",
       "      <td>2</td>\n",
       "      <td>3</td>\n",
       "    </tr>\n",
       "    <tr>\n",
       "      <th>2</th>\n",
       "      <td>3</td>\n",
       "      <td>Customer_3</td>\n",
       "      <td>46</td>\n",
       "      <td>Female</td>\n",
       "      <td>Suburban</td>\n",
       "      <td>14</td>\n",
       "      <td>1070.546459</td>\n",
       "      <td>279.855149</td>\n",
       "      <td>0</td>\n",
       "      <td>154.816437</td>\n",
       "      <td>3</td>\n",
       "      <td>D</td>\n",
       "      <td>400</td>\n",
       "      <td>3</td>\n",
       "      <td>0</td>\n",
       "    </tr>\n",
       "    <tr>\n",
       "      <th>3</th>\n",
       "      <td>4</td>\n",
       "      <td>Customer_4</td>\n",
       "      <td>32</td>\n",
       "      <td>Female</td>\n",
       "      <td>Urban</td>\n",
       "      <td>14</td>\n",
       "      <td>338.363834</td>\n",
       "      <td>40.517955</td>\n",
       "      <td>2</td>\n",
       "      <td>125.948657</td>\n",
       "      <td>1</td>\n",
       "      <td>B</td>\n",
       "      <td>200</td>\n",
       "      <td>1</td>\n",
       "      <td>7</td>\n",
       "    </tr>\n",
       "    <tr>\n",
       "      <th>4</th>\n",
       "      <td>5</td>\n",
       "      <td>Customer_5</td>\n",
       "      <td>60</td>\n",
       "      <td>Male</td>\n",
       "      <td>Suburban</td>\n",
       "      <td>25</td>\n",
       "      <td>835.573690</td>\n",
       "      <td>122.903374</td>\n",
       "      <td>0</td>\n",
       "      <td>289.171509</td>\n",
       "      <td>2</td>\n",
       "      <td>C</td>\n",
       "      <td>300</td>\n",
       "      <td>2</td>\n",
       "      <td>6</td>\n",
       "    </tr>\n",
       "    <tr>\n",
       "      <th>...</th>\n",
       "      <td>...</td>\n",
       "      <td>...</td>\n",
       "      <td>...</td>\n",
       "      <td>...</td>\n",
       "      <td>...</td>\n",
       "      <td>...</td>\n",
       "      <td>...</td>\n",
       "      <td>...</td>\n",
       "      <td>...</td>\n",
       "      <td>...</td>\n",
       "      <td>...</td>\n",
       "      <td>...</td>\n",
       "      <td>...</td>\n",
       "      <td>...</td>\n",
       "      <td>...</td>\n",
       "    </tr>\n",
       "    <tr>\n",
       "      <th>9995</th>\n",
       "      <td>9996</td>\n",
       "      <td>Customer_9996</td>\n",
       "      <td>55</td>\n",
       "      <td>Male</td>\n",
       "      <td>Suburban</td>\n",
       "      <td>34</td>\n",
       "      <td>676.156043</td>\n",
       "      <td>64.540758</td>\n",
       "      <td>3</td>\n",
       "      <td>158.962291</td>\n",
       "      <td>2</td>\n",
       "      <td>C</td>\n",
       "      <td>300</td>\n",
       "      <td>2</td>\n",
       "      <td>6</td>\n",
       "    </tr>\n",
       "    <tr>\n",
       "      <th>9996</th>\n",
       "      <td>9997</td>\n",
       "      <td>Customer_9997</td>\n",
       "      <td>51</td>\n",
       "      <td>Female</td>\n",
       "      <td>Rural</td>\n",
       "      <td>16</td>\n",
       "      <td>337.508892</td>\n",
       "      <td>10.041086</td>\n",
       "      <td>0</td>\n",
       "      <td>128.771894</td>\n",
       "      <td>1</td>\n",
       "      <td>B</td>\n",
       "      <td>200</td>\n",
       "      <td>1</td>\n",
       "      <td>7</td>\n",
       "    </tr>\n",
       "    <tr>\n",
       "      <th>9997</th>\n",
       "      <td>9998</td>\n",
       "      <td>Customer_9998</td>\n",
       "      <td>57</td>\n",
       "      <td>Female</td>\n",
       "      <td>Rural</td>\n",
       "      <td>27</td>\n",
       "      <td>1483.984362</td>\n",
       "      <td>401.194578</td>\n",
       "      <td>1</td>\n",
       "      <td>397.613115</td>\n",
       "      <td>3</td>\n",
       "      <td>E</td>\n",
       "      <td>500</td>\n",
       "      <td>4</td>\n",
       "      <td>2</td>\n",
       "    </tr>\n",
       "    <tr>\n",
       "      <th>9998</th>\n",
       "      <td>9999</td>\n",
       "      <td>Customer_9999</td>\n",
       "      <td>64</td>\n",
       "      <td>Male</td>\n",
       "      <td>Suburban</td>\n",
       "      <td>4</td>\n",
       "      <td>311.640946</td>\n",
       "      <td>87.497384</td>\n",
       "      <td>0</td>\n",
       "      <td>27.245347</td>\n",
       "      <td>1</td>\n",
       "      <td>B</td>\n",
       "      <td>200</td>\n",
       "      <td>1</td>\n",
       "      <td>1</td>\n",
       "    </tr>\n",
       "    <tr>\n",
       "      <th>9999</th>\n",
       "      <td>10000</td>\n",
       "      <td>Customer_10000</td>\n",
       "      <td>32</td>\n",
       "      <td>Female</td>\n",
       "      <td>Rural</td>\n",
       "      <td>19</td>\n",
       "      <td>419.187963</td>\n",
       "      <td>58.354579</td>\n",
       "      <td>1</td>\n",
       "      <td>30.201921</td>\n",
       "      <td>1</td>\n",
       "      <td>B</td>\n",
       "      <td>200</td>\n",
       "      <td>1</td>\n",
       "      <td>1</td>\n",
       "    </tr>\n",
       "  </tbody>\n",
       "</table>\n",
       "<p>10000 rows × 15 columns</p>\n",
       "</div>"
      ],
      "text/plain": [
       "      CustomerID            Name  Age  Gender  Location  \\\n",
       "0              1      Customer_1   56    Male     Urban   \n",
       "1              2      Customer_2   69  Female     Rural   \n",
       "2              3      Customer_3   46  Female  Suburban   \n",
       "3              4      Customer_4   32  Female     Urban   \n",
       "4              5      Customer_5   60    Male  Suburban   \n",
       "...          ...             ...  ...     ...       ...   \n",
       "9995        9996   Customer_9996   55    Male  Suburban   \n",
       "9996        9997   Customer_9997   51  Female     Rural   \n",
       "9997        9998   Customer_9998   57  Female     Rural   \n",
       "9998        9999   Customer_9999   64    Male  Suburban   \n",
       "9999       10000  Customer_10000   32  Female     Rural   \n",
       "\n",
       "      Subscription_Length_Months  Monthly_Bill  Average_Internet_Usage  \\\n",
       "0                             29    286.658992               24.945633   \n",
       "1                             24    706.286532              241.090001   \n",
       "2                             14   1070.546459              279.855149   \n",
       "3                             14    338.363834               40.517955   \n",
       "4                             25    835.573690              122.903374   \n",
       "...                          ...           ...                     ...   \n",
       "9995                          34    676.156043               64.540758   \n",
       "9996                          16    337.508892               10.041086   \n",
       "9997                          27   1483.984362              401.194578   \n",
       "9998                           4    311.640946               87.497384   \n",
       "9999                          19    419.187963               58.354579   \n",
       "\n",
       "      No_of_Tickets  Average_Talktime_Usage  Social_Class Subscription_Type  \\\n",
       "0                 0               23.316484             1                 A   \n",
       "1                 1               97.662416             2                 C   \n",
       "2                 0              154.816437             3                 D   \n",
       "3                 2              125.948657             1                 B   \n",
       "4                 0              289.171509             2                 C   \n",
       "...             ...                     ...           ...               ...   \n",
       "9995              3              158.962291             2                 C   \n",
       "9996              0              128.771894             1                 B   \n",
       "9997              1              397.613115             3                 E   \n",
       "9998              0               27.245347             1                 B   \n",
       "9999              1               30.201921             1                 B   \n",
       "\n",
       "      Base_Charge  Subscription_Type_Encoded  Cluster  \n",
       "0             100                          0        5  \n",
       "1             300                          2        3  \n",
       "2             400                          3        0  \n",
       "3             200                          1        7  \n",
       "4             300                          2        6  \n",
       "...           ...                        ...      ...  \n",
       "9995          300                          2        6  \n",
       "9996          200                          1        7  \n",
       "9997          500                          4        2  \n",
       "9998          200                          1        1  \n",
       "9999          200                          1        1  \n",
       "\n",
       "[10000 rows x 15 columns]"
      ]
     },
     "execution_count": 83,
     "metadata": {},
     "output_type": "execute_result"
    }
   ],
   "source": [
    "df"
   ]
  },
  {
   "cell_type": "code",
   "execution_count": 102,
   "id": "687c134e",
   "metadata": {},
   "outputs": [
    {
     "data": {
      "text/plain": [
       "Rural       3402\n",
       "Suburban    3311\n",
       "Urban       3287\n",
       "Name: Location, dtype: int64"
      ]
     },
     "execution_count": 102,
     "metadata": {},
     "output_type": "execute_result"
    }
   ],
   "source": [
    "df[\"Location\"].value_counts()"
   ]
  },
  {
   "cell_type": "code",
   "execution_count": 84,
   "id": "40bc85af",
   "metadata": {},
   "outputs": [],
   "source": [
    "df['churn_label'] = np.random.choice([0, 1], size=len(df), p=[0.65, 0.35])"
   ]
  },
  {
   "cell_type": "code",
   "execution_count": 85,
   "id": "396b8376",
   "metadata": {},
   "outputs": [
    {
     "data": {
      "text/html": [
       "<div>\n",
       "<style scoped>\n",
       "    .dataframe tbody tr th:only-of-type {\n",
       "        vertical-align: middle;\n",
       "    }\n",
       "\n",
       "    .dataframe tbody tr th {\n",
       "        vertical-align: top;\n",
       "    }\n",
       "\n",
       "    .dataframe thead th {\n",
       "        text-align: right;\n",
       "    }\n",
       "</style>\n",
       "<table border=\"1\" class=\"dataframe\">\n",
       "  <thead>\n",
       "    <tr style=\"text-align: right;\">\n",
       "      <th></th>\n",
       "      <th>CustomerID</th>\n",
       "      <th>Name</th>\n",
       "      <th>Age</th>\n",
       "      <th>Gender</th>\n",
       "      <th>Location</th>\n",
       "      <th>Subscription_Length_Months</th>\n",
       "      <th>Monthly_Bill</th>\n",
       "      <th>Average_Internet_Usage</th>\n",
       "      <th>No_of_Tickets</th>\n",
       "      <th>Average_Talktime_Usage</th>\n",
       "      <th>Social_Class</th>\n",
       "      <th>Subscription_Type</th>\n",
       "      <th>Base_Charge</th>\n",
       "      <th>Subscription_Type_Encoded</th>\n",
       "      <th>Cluster</th>\n",
       "      <th>churn_label</th>\n",
       "    </tr>\n",
       "  </thead>\n",
       "  <tbody>\n",
       "    <tr>\n",
       "      <th>0</th>\n",
       "      <td>1</td>\n",
       "      <td>Customer_1</td>\n",
       "      <td>56</td>\n",
       "      <td>Male</td>\n",
       "      <td>Urban</td>\n",
       "      <td>29</td>\n",
       "      <td>286.658992</td>\n",
       "      <td>24.945633</td>\n",
       "      <td>0</td>\n",
       "      <td>23.316484</td>\n",
       "      <td>1</td>\n",
       "      <td>A</td>\n",
       "      <td>100</td>\n",
       "      <td>0</td>\n",
       "      <td>5</td>\n",
       "      <td>1</td>\n",
       "    </tr>\n",
       "    <tr>\n",
       "      <th>1</th>\n",
       "      <td>2</td>\n",
       "      <td>Customer_2</td>\n",
       "      <td>69</td>\n",
       "      <td>Female</td>\n",
       "      <td>Rural</td>\n",
       "      <td>24</td>\n",
       "      <td>706.286532</td>\n",
       "      <td>241.090001</td>\n",
       "      <td>1</td>\n",
       "      <td>97.662416</td>\n",
       "      <td>2</td>\n",
       "      <td>C</td>\n",
       "      <td>300</td>\n",
       "      <td>2</td>\n",
       "      <td>3</td>\n",
       "      <td>0</td>\n",
       "    </tr>\n",
       "    <tr>\n",
       "      <th>2</th>\n",
       "      <td>3</td>\n",
       "      <td>Customer_3</td>\n",
       "      <td>46</td>\n",
       "      <td>Female</td>\n",
       "      <td>Suburban</td>\n",
       "      <td>14</td>\n",
       "      <td>1070.546459</td>\n",
       "      <td>279.855149</td>\n",
       "      <td>0</td>\n",
       "      <td>154.816437</td>\n",
       "      <td>3</td>\n",
       "      <td>D</td>\n",
       "      <td>400</td>\n",
       "      <td>3</td>\n",
       "      <td>0</td>\n",
       "      <td>0</td>\n",
       "    </tr>\n",
       "    <tr>\n",
       "      <th>3</th>\n",
       "      <td>4</td>\n",
       "      <td>Customer_4</td>\n",
       "      <td>32</td>\n",
       "      <td>Female</td>\n",
       "      <td>Urban</td>\n",
       "      <td>14</td>\n",
       "      <td>338.363834</td>\n",
       "      <td>40.517955</td>\n",
       "      <td>2</td>\n",
       "      <td>125.948657</td>\n",
       "      <td>1</td>\n",
       "      <td>B</td>\n",
       "      <td>200</td>\n",
       "      <td>1</td>\n",
       "      <td>7</td>\n",
       "      <td>0</td>\n",
       "    </tr>\n",
       "    <tr>\n",
       "      <th>4</th>\n",
       "      <td>5</td>\n",
       "      <td>Customer_5</td>\n",
       "      <td>60</td>\n",
       "      <td>Male</td>\n",
       "      <td>Suburban</td>\n",
       "      <td>25</td>\n",
       "      <td>835.573690</td>\n",
       "      <td>122.903374</td>\n",
       "      <td>0</td>\n",
       "      <td>289.171509</td>\n",
       "      <td>2</td>\n",
       "      <td>C</td>\n",
       "      <td>300</td>\n",
       "      <td>2</td>\n",
       "      <td>6</td>\n",
       "      <td>1</td>\n",
       "    </tr>\n",
       "    <tr>\n",
       "      <th>...</th>\n",
       "      <td>...</td>\n",
       "      <td>...</td>\n",
       "      <td>...</td>\n",
       "      <td>...</td>\n",
       "      <td>...</td>\n",
       "      <td>...</td>\n",
       "      <td>...</td>\n",
       "      <td>...</td>\n",
       "      <td>...</td>\n",
       "      <td>...</td>\n",
       "      <td>...</td>\n",
       "      <td>...</td>\n",
       "      <td>...</td>\n",
       "      <td>...</td>\n",
       "      <td>...</td>\n",
       "      <td>...</td>\n",
       "    </tr>\n",
       "    <tr>\n",
       "      <th>9995</th>\n",
       "      <td>9996</td>\n",
       "      <td>Customer_9996</td>\n",
       "      <td>55</td>\n",
       "      <td>Male</td>\n",
       "      <td>Suburban</td>\n",
       "      <td>34</td>\n",
       "      <td>676.156043</td>\n",
       "      <td>64.540758</td>\n",
       "      <td>3</td>\n",
       "      <td>158.962291</td>\n",
       "      <td>2</td>\n",
       "      <td>C</td>\n",
       "      <td>300</td>\n",
       "      <td>2</td>\n",
       "      <td>6</td>\n",
       "      <td>0</td>\n",
       "    </tr>\n",
       "    <tr>\n",
       "      <th>9996</th>\n",
       "      <td>9997</td>\n",
       "      <td>Customer_9997</td>\n",
       "      <td>51</td>\n",
       "      <td>Female</td>\n",
       "      <td>Rural</td>\n",
       "      <td>16</td>\n",
       "      <td>337.508892</td>\n",
       "      <td>10.041086</td>\n",
       "      <td>0</td>\n",
       "      <td>128.771894</td>\n",
       "      <td>1</td>\n",
       "      <td>B</td>\n",
       "      <td>200</td>\n",
       "      <td>1</td>\n",
       "      <td>7</td>\n",
       "      <td>1</td>\n",
       "    </tr>\n",
       "    <tr>\n",
       "      <th>9997</th>\n",
       "      <td>9998</td>\n",
       "      <td>Customer_9998</td>\n",
       "      <td>57</td>\n",
       "      <td>Female</td>\n",
       "      <td>Rural</td>\n",
       "      <td>27</td>\n",
       "      <td>1483.984362</td>\n",
       "      <td>401.194578</td>\n",
       "      <td>1</td>\n",
       "      <td>397.613115</td>\n",
       "      <td>3</td>\n",
       "      <td>E</td>\n",
       "      <td>500</td>\n",
       "      <td>4</td>\n",
       "      <td>2</td>\n",
       "      <td>0</td>\n",
       "    </tr>\n",
       "    <tr>\n",
       "      <th>9998</th>\n",
       "      <td>9999</td>\n",
       "      <td>Customer_9999</td>\n",
       "      <td>64</td>\n",
       "      <td>Male</td>\n",
       "      <td>Suburban</td>\n",
       "      <td>4</td>\n",
       "      <td>311.640946</td>\n",
       "      <td>87.497384</td>\n",
       "      <td>0</td>\n",
       "      <td>27.245347</td>\n",
       "      <td>1</td>\n",
       "      <td>B</td>\n",
       "      <td>200</td>\n",
       "      <td>1</td>\n",
       "      <td>1</td>\n",
       "      <td>1</td>\n",
       "    </tr>\n",
       "    <tr>\n",
       "      <th>9999</th>\n",
       "      <td>10000</td>\n",
       "      <td>Customer_10000</td>\n",
       "      <td>32</td>\n",
       "      <td>Female</td>\n",
       "      <td>Rural</td>\n",
       "      <td>19</td>\n",
       "      <td>419.187963</td>\n",
       "      <td>58.354579</td>\n",
       "      <td>1</td>\n",
       "      <td>30.201921</td>\n",
       "      <td>1</td>\n",
       "      <td>B</td>\n",
       "      <td>200</td>\n",
       "      <td>1</td>\n",
       "      <td>1</td>\n",
       "      <td>0</td>\n",
       "    </tr>\n",
       "  </tbody>\n",
       "</table>\n",
       "<p>10000 rows × 16 columns</p>\n",
       "</div>"
      ],
      "text/plain": [
       "      CustomerID            Name  Age  Gender  Location  \\\n",
       "0              1      Customer_1   56    Male     Urban   \n",
       "1              2      Customer_2   69  Female     Rural   \n",
       "2              3      Customer_3   46  Female  Suburban   \n",
       "3              4      Customer_4   32  Female     Urban   \n",
       "4              5      Customer_5   60    Male  Suburban   \n",
       "...          ...             ...  ...     ...       ...   \n",
       "9995        9996   Customer_9996   55    Male  Suburban   \n",
       "9996        9997   Customer_9997   51  Female     Rural   \n",
       "9997        9998   Customer_9998   57  Female     Rural   \n",
       "9998        9999   Customer_9999   64    Male  Suburban   \n",
       "9999       10000  Customer_10000   32  Female     Rural   \n",
       "\n",
       "      Subscription_Length_Months  Monthly_Bill  Average_Internet_Usage  \\\n",
       "0                             29    286.658992               24.945633   \n",
       "1                             24    706.286532              241.090001   \n",
       "2                             14   1070.546459              279.855149   \n",
       "3                             14    338.363834               40.517955   \n",
       "4                             25    835.573690              122.903374   \n",
       "...                          ...           ...                     ...   \n",
       "9995                          34    676.156043               64.540758   \n",
       "9996                          16    337.508892               10.041086   \n",
       "9997                          27   1483.984362              401.194578   \n",
       "9998                           4    311.640946               87.497384   \n",
       "9999                          19    419.187963               58.354579   \n",
       "\n",
       "      No_of_Tickets  Average_Talktime_Usage  Social_Class Subscription_Type  \\\n",
       "0                 0               23.316484             1                 A   \n",
       "1                 1               97.662416             2                 C   \n",
       "2                 0              154.816437             3                 D   \n",
       "3                 2              125.948657             1                 B   \n",
       "4                 0              289.171509             2                 C   \n",
       "...             ...                     ...           ...               ...   \n",
       "9995              3              158.962291             2                 C   \n",
       "9996              0              128.771894             1                 B   \n",
       "9997              1              397.613115             3                 E   \n",
       "9998              0               27.245347             1                 B   \n",
       "9999              1               30.201921             1                 B   \n",
       "\n",
       "      Base_Charge  Subscription_Type_Encoded  Cluster  churn_label  \n",
       "0             100                          0        5            1  \n",
       "1             300                          2        3            0  \n",
       "2             400                          3        0            0  \n",
       "3             200                          1        7            0  \n",
       "4             300                          2        6            1  \n",
       "...           ...                        ...      ...          ...  \n",
       "9995          300                          2        6            0  \n",
       "9996          200                          1        7            1  \n",
       "9997          500                          4        2            0  \n",
       "9998          200                          1        1            1  \n",
       "9999          200                          1        1            0  \n",
       "\n",
       "[10000 rows x 16 columns]"
      ]
     },
     "execution_count": 85,
     "metadata": {},
     "output_type": "execute_result"
    }
   ],
   "source": [
    "df"
   ]
  },
  {
   "cell_type": "code",
   "execution_count": 86,
   "id": "f8f57cfa",
   "metadata": {},
   "outputs": [
    {
     "data": {
      "text/plain": [
       "0    6422\n",
       "1    3578\n",
       "Name: churn_label, dtype: int64"
      ]
     },
     "execution_count": 86,
     "metadata": {},
     "output_type": "execute_result"
    }
   ],
   "source": [
    "df['churn_label'].value_counts()"
   ]
  },
  {
   "cell_type": "code",
   "execution_count": 87,
   "id": "0b2da069",
   "metadata": {},
   "outputs": [
    {
     "data": {
      "text/plain": [
       "Index(['CustomerID', 'Name', 'Age', 'Gender', 'Location',\n",
       "       'Subscription_Length_Months', 'Monthly_Bill', 'Average_Internet_Usage',\n",
       "       'No_of_Tickets', 'Average_Talktime_Usage', 'Social_Class',\n",
       "       'Subscription_Type', 'Base_Charge', 'Subscription_Type_Encoded',\n",
       "       'Cluster', 'churn_label'],\n",
       "      dtype='object')"
      ]
     },
     "execution_count": 87,
     "metadata": {},
     "output_type": "execute_result"
    }
   ],
   "source": [
    "df.columns"
   ]
  },
  {
   "cell_type": "code",
   "execution_count": 88,
   "id": "9f298b93",
   "metadata": {},
   "outputs": [
    {
     "data": {
      "text/plain": [
       "CustomerID                      int64\n",
       "Name                           object\n",
       "Age                             int64\n",
       "Gender                         object\n",
       "Location                       object\n",
       "Subscription_Length_Months      int64\n",
       "Monthly_Bill                  float64\n",
       "Average_Internet_Usage        float64\n",
       "No_of_Tickets                   int64\n",
       "Average_Talktime_Usage        float64\n",
       "Social_Class                    int64\n",
       "Subscription_Type              object\n",
       "Base_Charge                     int64\n",
       "Subscription_Type_Encoded       int64\n",
       "Cluster                         int32\n",
       "churn_label                     int64\n",
       "dtype: object"
      ]
     },
     "execution_count": 88,
     "metadata": {},
     "output_type": "execute_result"
    }
   ],
   "source": [
    "df.dtypes"
   ]
  },
  {
   "cell_type": "code",
   "execution_count": 100,
   "id": "16dd6115",
   "metadata": {},
   "outputs": [
    {
     "data": {
      "text/plain": [
       "Index(['Age', 'Subscription_Length_Months', 'Monthly_Bill',\n",
       "       'Average_Internet_Usage', 'No_of_Tickets', 'Average_Talktime_Usage',\n",
       "       'Social_Class', 'Base_Charge', 'Subscription_Type_Encoded', 'Cluster',\n",
       "       'Location_Encoded', 'Gender_Encoded'],\n",
       "      dtype='object')"
      ]
     },
     "execution_count": 100,
     "metadata": {},
     "output_type": "execute_result"
    }
   ],
   "source": [
    "X.columns"
   ]
  },
  {
   "cell_type": "code",
   "execution_count": 90,
   "id": "19c7bbf1",
   "metadata": {},
   "outputs": [],
   "source": [
    "# Initialize the LabelEncoder\n",
    "label_encoder = LabelEncoder()\n",
    "\n",
    "# Fit and transform the Subscription_Type column\n",
    "df['Location_Encoded'] = label_encoder.fit_transform(df['Location'])\n",
    "df[\"Gender_Encoded\"] = label_encoder.fit_transform(df['Gender'])\n",
    "\n",
    "X = df.drop(columns=['churn_label', 'CustomerID', 'Name', 'Subscription_Type', 'Gender', 'Location'])\n",
    "y = df['churn_label']\n",
    "\n",
    "X_train, X_test, y_train, y_test = train_test_split(X, y, test_size=0.2, random_state=42)\n",
    "\n",
    "scaler = StandardScaler()\n",
    "X_train_scaled = scaler.fit_transform(X_train)\n",
    "X_test_scaled = scaler.transform(X_test)\n",
    "\n",
    "X_train_tensor = torch.tensor(X_train_scaled, dtype=torch.float32)\n",
    "X_test_tensor = torch.tensor(X_test_scaled, dtype=torch.float32)\n",
    "y_train_tensor = torch.tensor(y_train.values, dtype=torch.float32).unsqueeze(1)\n",
    "y_test_tensor = torch.tensor(y_test.values, dtype=torch.float32).unsqueeze(1)"
   ]
  },
  {
   "cell_type": "code",
   "execution_count": 91,
   "id": "cc8cee57",
   "metadata": {},
   "outputs": [],
   "source": [
    "class FixedNeuronsNetwork(nn.Module):\n",
    "    def __init__(self, num_features, num_classes, num_hidden_layers, hidden_neurons, layer_activation=nn.ReLU, final_activation=nn.Sigmoid):\n",
    "        super(FixedNeuronsNetwork, self).__init__()\n",
    "        \n",
    "        layers = []\n",
    "        \n",
    "        layers.append(nn.Linear(num_features, hidden_neurons))\n",
    "        layers.append(layer_activation())\n",
    "        \n",
    "        for _ in range(num_hidden_layers - 1):\n",
    "            layers.append(nn.Linear(hidden_neurons, hidden_neurons))\n",
    "            layers.append(layer_activation())\n",
    "        \n",
    "        layers.append(nn.Linear(hidden_neurons, num_classes))\n",
    "        \n",
    "        self.final_activation = final_activation()\n",
    "        \n",
    "        self.network = nn.Sequential(*layers)\n",
    "        \n",
    "    def forward(self, x):\n",
    "        x = self.network(x)\n",
    "        output = self.final_activation(x)\n",
    "        return output"
   ]
  },
  {
   "cell_type": "code",
   "execution_count": 92,
   "id": "1ddf1120",
   "metadata": {},
   "outputs": [],
   "source": [
    "def train_model(model, criterion, optimizer, scheduler, train_loader, test_loader, num_epochs, device,patience):\n",
    "    train_loss_history = []\n",
    "    val_loss_history = []\n",
    "    best_val_loss = float('inf')\n",
    "    patience = patience  # Number of epochs to wait before stopping\n",
    "    patience_counter = 0\n",
    "    best_model = None\n",
    "\n",
    "    model.to(device)\n",
    "\n",
    "    for epoch in range(num_epochs):\n",
    "        model.train()\n",
    "        total_train_loss = 0.0\n",
    "        all_train_targets = []\n",
    "        all_train_preds = []\n",
    "\n",
    "        # Training loop\n",
    "        with tqdm(total=len(train_loader), desc=f'Epoch [{epoch + 1}/{num_epochs}]', unit='batch') as pbar:\n",
    "            for inputs, targets in train_loader:\n",
    "                inputs, targets = inputs.to(device), targets.to(device)\n",
    "                outputs = model(inputs)\n",
    "                \n",
    "                # Calculate loss\n",
    "                loss = criterion(outputs, targets)\n",
    "                optimizer.zero_grad()\n",
    "                loss.backward()\n",
    "                optimizer.step()\n",
    "\n",
    "                total_train_loss += loss.item() * inputs.size(0)\n",
    "\n",
    "                # Store targets and predictions for F1 score calculation\n",
    "                all_train_targets.extend(targets.cpu().numpy())\n",
    "                all_train_preds.extend(outputs.cpu().detach().numpy())\n",
    "\n",
    "                # Update the progress bar\n",
    "                pbar.set_postfix(loss=loss.item())\n",
    "                pbar.update(1)\n",
    "\n",
    "        # Calculate average training loss and F1 score for training\n",
    "        avg_train_loss = total_train_loss / len(train_loader.dataset)\n",
    "        train_loss_history.append(avg_train_loss)\n",
    "\n",
    "        train_f1 = f1_score(np.squeeze(all_train_targets), np.where(np.squeeze(all_train_preds) > 0.5, 1, 0), pos_label=1, average='binary')\n",
    "\n",
    "        # Validation phase\n",
    "        model.eval()\n",
    "        total_val_loss = 0.0\n",
    "        all_val_targets = []\n",
    "        all_val_preds = []\n",
    "\n",
    "        with torch.no_grad():\n",
    "            for inputs, targets in test_loader:\n",
    "                inputs, targets = inputs.to(device), targets.to(device)\n",
    "                outputs = model(inputs)\n",
    "\n",
    "                loss = criterion(outputs, targets)\n",
    "                total_val_loss += loss.item() * inputs.size(0)\n",
    "\n",
    "                all_val_targets.extend(targets.cpu().numpy())\n",
    "                all_val_preds.extend(outputs.cpu().detach().numpy())\n",
    "\n",
    "        # Calculate average validation loss and F1 score\n",
    "        avg_val_loss = total_val_loss / len(test_loader.dataset)\n",
    "        val_loss_history.append(avg_val_loss)\n",
    "\n",
    "        val_f1 = f1_score(np.squeeze(all_val_targets), np.where(np.squeeze(all_val_preds) > 0.5, 1, 0), pos_label=1, average='binary')\n",
    "\n",
    "        # Print training and validation results\n",
    "        print(f\"Epoch [{epoch + 1}/{num_epochs}] - Avg Train Loss: {avg_train_loss:.4f} | Train F1: {train_f1:.4f} | Avg Val Loss: {avg_val_loss:.4f} | Val F1: {val_f1:.4f}\")\n",
    "\n",
    "        # Step the learning rate scheduler\n",
    "        scheduler.step(avg_train_loss)\n",
    "\n",
    "        # Early stopping based on F1 score and patience counter\n",
    "        if val_f1 > 0.8:\n",
    "            print(f\"Stopping training early at epoch {epoch + 1} as validation F1 score exceeded 0.8.\")\n",
    "            break\n",
    "\n",
    "        if avg_val_loss < best_val_loss:\n",
    "            best_val_loss = avg_val_loss\n",
    "            best_model = model.state_dict()  # Save best model weights\n",
    "            patience_counter = 0\n",
    "        else:\n",
    "            patience_counter += 1\n",
    "\n",
    "        if patience_counter >= patience:\n",
    "            print(f\"Early stopping triggered after {patience} epochs with no improvement.\")\n",
    "            break\n",
    "\n",
    "    model.load_state_dict(best_model)  # Load the best model before returning\n",
    "    return model, train_loss_history, val_loss_history, train_f1, val_f1"
   ]
  },
  {
   "cell_type": "code",
   "execution_count": 93,
   "id": "7efa3f61",
   "metadata": {},
   "outputs": [],
   "source": [
    "def create_data_loader(x_train, x_test, y_train, y_test, batch_size, sampling = True):\n",
    "    \"\"\"\n",
    "    Takes input as torch tensors and creates data loaders.\n",
    "    \"\"\"\n",
    "    \n",
    "    # Create TensorDatasets and move them to the specified device\n",
    "    train_dataset = TensorDataset(x_train, y_train.reshape(-1,1))\n",
    "    test_dataset = TensorDataset(x_test, y_test.reshape(-1,1))\n",
    "    \n",
    "    test_loader = DataLoader(test_dataset, batch_size=batch_size, shuffle=False)\n",
    "\n",
    "    if sampling:\n",
    "        class_counts = torch.bincount(y_train.long().view(-1))\n",
    "        total_samples = len(y_train)\n",
    "        class_weights = total_samples / (len(class_counts) * class_counts.float())\n",
    "        sample_weights = class_weights[y_train.long().view(-1)]\n",
    "        \n",
    "        sampler = WeightedRandomSampler(weights=sample_weights, num_samples=len(y_train), replacement=True)\n",
    "\n",
    "        # Create DataLoaders\n",
    "        train_loader = DataLoader(train_dataset, batch_size=batch_size, sampler = sampler, shuffle=False)\n",
    "    else:\n",
    "        # Create DataLoaders\n",
    "        train_loader = DataLoader(train_dataset, batch_size=batch_size, shuffle=False)\n",
    "\n",
    "    return train_loader, test_loader\n",
    "\n",
    "train_loader, test_loader = create_data_loader(X_train_tensor,X_test_tensor,y_train_tensor,y_test_tensor,batch_size=512)"
   ]
  },
  {
   "cell_type": "code",
   "execution_count": 98,
   "id": "e0e6d79c",
   "metadata": {},
   "outputs": [
    {
     "data": {
      "text/plain": [
       "12"
      ]
     },
     "execution_count": 98,
     "metadata": {},
     "output_type": "execute_result"
    }
   ],
   "source": [
    "input_size"
   ]
  },
  {
   "cell_type": "code",
   "execution_count": 94,
   "id": "c97f9a0f",
   "metadata": {},
   "outputs": [
    {
     "name": "stderr",
     "output_type": "stream",
     "text": [
      "Epoch [1/100]: 100%|████████████| 16/16 [00:00<00:00, 277.04batch/s, loss=0.694]\n"
     ]
    },
    {
     "name": "stdout",
     "output_type": "stream",
     "text": [
      "Epoch [1/100] - Avg Train Loss: 0.6936 | Train F1: 0.5648 | Avg Val Loss: 0.6960 | Val F1: 0.4943\n"
     ]
    },
    {
     "name": "stderr",
     "output_type": "stream",
     "text": [
      "Epoch [2/100]: 100%|████████████| 16/16 [00:00<00:00, 456.45batch/s, loss=0.693]\n"
     ]
    },
    {
     "name": "stdout",
     "output_type": "stream",
     "text": [
      "Epoch [2/100] - Avg Train Loss: 0.6930 | Train F1: 0.5120 | Avg Val Loss: 0.6922 | Val F1: 0.3732\n"
     ]
    },
    {
     "name": "stderr",
     "output_type": "stream",
     "text": [
      "Epoch [3/100]: 100%|████████████| 16/16 [00:00<00:00, 458.57batch/s, loss=0.693]\n"
     ]
    },
    {
     "name": "stdout",
     "output_type": "stream",
     "text": [
      "Epoch [3/100] - Avg Train Loss: 0.6928 | Train F1: 0.5017 | Avg Val Loss: 0.6973 | Val F1: 0.4847\n"
     ]
    },
    {
     "name": "stderr",
     "output_type": "stream",
     "text": [
      "Epoch [4/100]: 100%|████████████| 16/16 [00:00<00:00, 463.29batch/s, loss=0.693]\n"
     ]
    },
    {
     "name": "stdout",
     "output_type": "stream",
     "text": [
      "Epoch [4/100] - Avg Train Loss: 0.6929 | Train F1: 0.6371 | Avg Val Loss: 0.6941 | Val F1: 0.4294\n"
     ]
    },
    {
     "name": "stderr",
     "output_type": "stream",
     "text": [
      "Epoch [5/100]: 100%|████████████| 16/16 [00:00<00:00, 464.80batch/s, loss=0.696]\n"
     ]
    },
    {
     "name": "stdout",
     "output_type": "stream",
     "text": [
      "Epoch [5/100] - Avg Train Loss: 0.6929 | Train F1: 0.2142 | Avg Val Loss: 0.6841 | Val F1: 0.0220\n"
     ]
    },
    {
     "name": "stderr",
     "output_type": "stream",
     "text": [
      "Epoch [6/100]: 100%|█████████████| 16/16 [00:00<00:00, 471.96batch/s, loss=0.69]\n"
     ]
    },
    {
     "name": "stdout",
     "output_type": "stream",
     "text": [
      "Epoch [6/100] - Avg Train Loss: 0.6927 | Train F1: 0.3215 | Avg Val Loss: 0.6932 | Val F1: 0.4180\n"
     ]
    },
    {
     "name": "stderr",
     "output_type": "stream",
     "text": [
      "Epoch [7/100]: 100%|████████████| 16/16 [00:00<00:00, 149.15batch/s, loss=0.692]\n"
     ]
    },
    {
     "name": "stdout",
     "output_type": "stream",
     "text": [
      "Epoch [7/100] - Avg Train Loss: 0.6926 | Train F1: 0.4639 | Avg Val Loss: 0.6958 | Val F1: 0.4485\n"
     ]
    },
    {
     "name": "stderr",
     "output_type": "stream",
     "text": [
      "Epoch [8/100]: 100%|████████████| 16/16 [00:00<00:00, 488.37batch/s, loss=0.692]\n"
     ]
    },
    {
     "name": "stdout",
     "output_type": "stream",
     "text": [
      "Epoch [8/100] - Avg Train Loss: 0.6926 | Train F1: 0.6206 | Avg Val Loss: 0.6984 | Val F1: 0.4795\n"
     ]
    },
    {
     "name": "stderr",
     "output_type": "stream",
     "text": [
      "Epoch [9/100]: 100%|████████████| 16/16 [00:00<00:00, 476.16batch/s, loss=0.692]\n"
     ]
    },
    {
     "name": "stdout",
     "output_type": "stream",
     "text": [
      "Epoch [9/100] - Avg Train Loss: 0.6922 | Train F1: 0.5844 | Avg Val Loss: 0.6926 | Val F1: 0.3914\n"
     ]
    },
    {
     "name": "stderr",
     "output_type": "stream",
     "text": [
      "Epoch [10/100]: 100%|███████████| 16/16 [00:00<00:00, 486.77batch/s, loss=0.694]\n"
     ]
    },
    {
     "name": "stdout",
     "output_type": "stream",
     "text": [
      "Epoch [10/100] - Avg Train Loss: 0.6928 | Train F1: 0.4974 | Avg Val Loss: 0.6933 | Val F1: 0.4085\n"
     ]
    },
    {
     "name": "stderr",
     "output_type": "stream",
     "text": [
      "Epoch [11/100]: 100%|███████████| 16/16 [00:00<00:00, 480.54batch/s, loss=0.695]\n"
     ]
    },
    {
     "name": "stdout",
     "output_type": "stream",
     "text": [
      "Epoch [11/100] - Avg Train Loss: 0.6921 | Train F1: 0.5784 | Avg Val Loss: 0.6970 | Val F1: 0.4551\n"
     ]
    },
    {
     "name": "stderr",
     "output_type": "stream",
     "text": [
      "Epoch [12/100]: 100%|███████████| 16/16 [00:00<00:00, 477.47batch/s, loss=0.691]\n"
     ]
    },
    {
     "name": "stdout",
     "output_type": "stream",
     "text": [
      "Epoch [12/100] - Avg Train Loss: 0.6922 | Train F1: 0.4894 | Avg Val Loss: 0.6901 | Val F1: 0.3477\n"
     ]
    },
    {
     "name": "stderr",
     "output_type": "stream",
     "text": [
      "Epoch [13/100]: 100%|████████████| 16/16 [00:00<00:00, 488.27batch/s, loss=0.69]\n"
     ]
    },
    {
     "name": "stdout",
     "output_type": "stream",
     "text": [
      "Epoch [13/100] - Avg Train Loss: 0.6917 | Train F1: 0.5479 | Avg Val Loss: 0.6964 | Val F1: 0.4433\n"
     ]
    },
    {
     "name": "stderr",
     "output_type": "stream",
     "text": [
      "Epoch [14/100]: 100%|███████████| 16/16 [00:00<00:00, 485.76batch/s, loss=0.689]\n"
     ]
    },
    {
     "name": "stdout",
     "output_type": "stream",
     "text": [
      "Epoch [14/100] - Avg Train Loss: 0.6923 | Train F1: 0.5564 | Avg Val Loss: 0.6986 | Val F1: 0.4561\n"
     ]
    },
    {
     "name": "stderr",
     "output_type": "stream",
     "text": [
      "Epoch [15/100]: 100%|███████████| 16/16 [00:00<00:00, 471.57batch/s, loss=0.693]\n"
     ]
    },
    {
     "name": "stdout",
     "output_type": "stream",
     "text": [
      "Epoch [15/100] - Avg Train Loss: 0.6922 | Train F1: 0.5204 | Avg Val Loss: 0.6983 | Val F1: 0.4645\n"
     ]
    },
    {
     "name": "stderr",
     "output_type": "stream",
     "text": [
      "Epoch [16/100]: 100%|███████████| 16/16 [00:00<00:00, 478.84batch/s, loss=0.691]\n"
     ]
    },
    {
     "name": "stdout",
     "output_type": "stream",
     "text": [
      "Epoch [16/100] - Avg Train Loss: 0.6920 | Train F1: 0.6022 | Avg Val Loss: 0.6872 | Val F1: 0.3079\n"
     ]
    },
    {
     "name": "stderr",
     "output_type": "stream",
     "text": [
      "Epoch [17/100]: 100%|███████████| 16/16 [00:00<00:00, 492.22batch/s, loss=0.689]\n"
     ]
    },
    {
     "name": "stdout",
     "output_type": "stream",
     "text": [
      "Epoch [17/100] - Avg Train Loss: 0.6912 | Train F1: 0.5296 | Avg Val Loss: 0.6937 | Val F1: 0.4134\n"
     ]
    },
    {
     "name": "stderr",
     "output_type": "stream",
     "text": [
      "Epoch [18/100]: 100%|███████████| 16/16 [00:00<00:00, 355.37batch/s, loss=0.691]\n"
     ]
    },
    {
     "name": "stdout",
     "output_type": "stream",
     "text": [
      "Epoch [18/100] - Avg Train Loss: 0.6913 | Train F1: 0.4653 | Avg Val Loss: 0.6936 | Val F1: 0.3919\n"
     ]
    },
    {
     "name": "stderr",
     "output_type": "stream",
     "text": [
      "Epoch [19/100]: 100%|███████████| 16/16 [00:00<00:00, 452.13batch/s, loss=0.691]\n"
     ]
    },
    {
     "name": "stdout",
     "output_type": "stream",
     "text": [
      "Epoch [19/100] - Avg Train Loss: 0.6907 | Train F1: 0.6234 | Avg Val Loss: 0.6955 | Val F1: 0.4397\n"
     ]
    },
    {
     "name": "stderr",
     "output_type": "stream",
     "text": [
      "Epoch [20/100]: 100%|███████████| 16/16 [00:00<00:00, 477.44batch/s, loss=0.697]\n"
     ]
    },
    {
     "name": "stdout",
     "output_type": "stream",
     "text": [
      "Epoch [20/100] - Avg Train Loss: 0.6905 | Train F1: 0.4927 | Avg Val Loss: 0.6880 | Val F1: 0.3422\n"
     ]
    },
    {
     "name": "stderr",
     "output_type": "stream",
     "text": [
      "Epoch [21/100]: 100%|████████████| 16/16 [00:00<00:00, 483.82batch/s, loss=0.69]\n"
     ]
    },
    {
     "name": "stdout",
     "output_type": "stream",
     "text": [
      "Epoch [21/100] - Avg Train Loss: 0.6917 | Train F1: 0.5183 | Avg Val Loss: 0.6951 | Val F1: 0.4153\n"
     ]
    },
    {
     "name": "stderr",
     "output_type": "stream",
     "text": [
      "Epoch [22/100]: 100%|███████████| 16/16 [00:00<00:00, 480.12batch/s, loss=0.694]\n"
     ]
    },
    {
     "name": "stdout",
     "output_type": "stream",
     "text": [
      "Epoch [22/100] - Avg Train Loss: 0.6899 | Train F1: 0.5674 | Avg Val Loss: 0.6906 | Val F1: 0.3671\n"
     ]
    },
    {
     "name": "stderr",
     "output_type": "stream",
     "text": [
      "Epoch [23/100]: 100%|███████████| 16/16 [00:00<00:00, 463.93batch/s, loss=0.685]\n"
     ]
    },
    {
     "name": "stdout",
     "output_type": "stream",
     "text": [
      "Epoch [23/100] - Avg Train Loss: 0.6884 | Train F1: 0.4910 | Avg Val Loss: 0.6943 | Val F1: 0.4053\n"
     ]
    },
    {
     "name": "stderr",
     "output_type": "stream",
     "text": [
      "Epoch [24/100]: 100%|███████████| 16/16 [00:00<00:00, 472.84batch/s, loss=0.684]\n"
     ]
    },
    {
     "name": "stdout",
     "output_type": "stream",
     "text": [
      "Epoch [24/100] - Avg Train Loss: 0.6874 | Train F1: 0.5602 | Avg Val Loss: 0.6932 | Val F1: 0.3978\n"
     ]
    },
    {
     "name": "stderr",
     "output_type": "stream",
     "text": [
      "Epoch [25/100]: 100%|███████████| 16/16 [00:00<00:00, 477.28batch/s, loss=0.685]\n"
     ]
    },
    {
     "name": "stdout",
     "output_type": "stream",
     "text": [
      "Epoch [25/100] - Avg Train Loss: 0.6875 | Train F1: 0.5835 | Avg Val Loss: 0.7009 | Val F1: 0.4330\n"
     ]
    },
    {
     "name": "stderr",
     "output_type": "stream",
     "text": [
      "Epoch [26/100]: 100%|███████████| 16/16 [00:00<00:00, 460.27batch/s, loss=0.677]\n"
     ]
    },
    {
     "name": "stdout",
     "output_type": "stream",
     "text": [
      "Epoch [26/100] - Avg Train Loss: 0.6890 | Train F1: 0.5215 | Avg Val Loss: 0.7065 | Val F1: 0.4625\n"
     ]
    },
    {
     "name": "stderr",
     "output_type": "stream",
     "text": [
      "Epoch [27/100]: 100%|███████████| 16/16 [00:00<00:00, 471.88batch/s, loss=0.685]\n"
     ]
    },
    {
     "name": "stdout",
     "output_type": "stream",
     "text": [
      "Epoch [27/100] - Avg Train Loss: 0.6881 | Train F1: 0.5462 | Avg Val Loss: 0.6904 | Val F1: 0.3586\n"
     ]
    },
    {
     "name": "stderr",
     "output_type": "stream",
     "text": [
      "Epoch [28/100]: 100%|███████████| 16/16 [00:00<00:00, 467.26batch/s, loss=0.692]\n"
     ]
    },
    {
     "name": "stdout",
     "output_type": "stream",
     "text": [
      "Epoch [28/100] - Avg Train Loss: 0.6861 | Train F1: 0.5365 | Avg Val Loss: 0.6929 | Val F1: 0.3835\n"
     ]
    },
    {
     "name": "stderr",
     "output_type": "stream",
     "text": [
      "Epoch [29/100]: 100%|███████████| 16/16 [00:00<00:00, 457.73batch/s, loss=0.685]\n"
     ]
    },
    {
     "name": "stdout",
     "output_type": "stream",
     "text": [
      "Epoch [29/100] - Avg Train Loss: 0.6867 | Train F1: 0.5691 | Avg Val Loss: 0.6997 | Val F1: 0.4264\n"
     ]
    },
    {
     "name": "stderr",
     "output_type": "stream",
     "text": [
      "Epoch [30/100]: 100%|███████████| 16/16 [00:00<00:00, 475.61batch/s, loss=0.689]\n"
     ]
    },
    {
     "name": "stdout",
     "output_type": "stream",
     "text": [
      "Epoch [30/100] - Avg Train Loss: 0.6853 | Train F1: 0.5747 | Avg Val Loss: 0.6870 | Val F1: 0.3494\n"
     ]
    },
    {
     "name": "stderr",
     "output_type": "stream",
     "text": [
      "Epoch [31/100]: 100%|███████████| 16/16 [00:00<00:00, 459.03batch/s, loss=0.674]\n"
     ]
    },
    {
     "name": "stdout",
     "output_type": "stream",
     "text": [
      "Epoch [31/100] - Avg Train Loss: 0.6860 | Train F1: 0.5165 | Avg Val Loss: 0.6859 | Val F1: 0.3208\n"
     ]
    },
    {
     "name": "stderr",
     "output_type": "stream",
     "text": [
      "Epoch [32/100]: 100%|███████████| 16/16 [00:00<00:00, 457.37batch/s, loss=0.686]\n"
     ]
    },
    {
     "name": "stdout",
     "output_type": "stream",
     "text": [
      "Epoch [32/100] - Avg Train Loss: 0.6845 | Train F1: 0.5597 | Avg Val Loss: 0.6965 | Val F1: 0.3981\n"
     ]
    },
    {
     "name": "stderr",
     "output_type": "stream",
     "text": [
      "Epoch [33/100]: 100%|███████████| 16/16 [00:00<00:00, 471.87batch/s, loss=0.684]\n"
     ]
    },
    {
     "name": "stdout",
     "output_type": "stream",
     "text": [
      "Epoch [33/100] - Avg Train Loss: 0.6825 | Train F1: 0.5966 | Avg Val Loss: 0.6889 | Val F1: 0.3536\n"
     ]
    },
    {
     "name": "stderr",
     "output_type": "stream",
     "text": [
      "Epoch [34/100]: 100%|███████████| 16/16 [00:00<00:00, 478.21batch/s, loss=0.678]\n"
     ]
    },
    {
     "name": "stdout",
     "output_type": "stream",
     "text": [
      "Epoch [34/100] - Avg Train Loss: 0.6831 | Train F1: 0.5534 | Avg Val Loss: 0.6908 | Val F1: 0.3641\n"
     ]
    },
    {
     "name": "stderr",
     "output_type": "stream",
     "text": [
      "Epoch [35/100]: 100%|███████████| 16/16 [00:00<00:00, 489.19batch/s, loss=0.692]\n"
     ]
    },
    {
     "name": "stdout",
     "output_type": "stream",
     "text": [
      "Epoch [35/100] - Avg Train Loss: 0.6847 | Train F1: 0.5164 | Avg Val Loss: 0.6972 | Val F1: 0.3796\n"
     ]
    },
    {
     "name": "stderr",
     "output_type": "stream",
     "text": [
      "Epoch [36/100]: 100%|███████████| 16/16 [00:00<00:00, 479.77batch/s, loss=0.683]\n"
     ]
    },
    {
     "name": "stdout",
     "output_type": "stream",
     "text": [
      "Epoch [36/100] - Avg Train Loss: 0.6819 | Train F1: 0.5488 | Avg Val Loss: 0.6988 | Val F1: 0.4108\n"
     ]
    },
    {
     "name": "stderr",
     "output_type": "stream",
     "text": [
      "Epoch [37/100]: 100%|███████████| 16/16 [00:00<00:00, 490.19batch/s, loss=0.677]\n"
     ]
    },
    {
     "name": "stdout",
     "output_type": "stream",
     "text": [
      "Epoch [37/100] - Avg Train Loss: 0.6812 | Train F1: 0.5556 | Avg Val Loss: 0.7075 | Val F1: 0.4272\n"
     ]
    },
    {
     "name": "stderr",
     "output_type": "stream",
     "text": [
      "Epoch [38/100]: 100%|███████████| 16/16 [00:00<00:00, 484.91batch/s, loss=0.678]\n"
     ]
    },
    {
     "name": "stdout",
     "output_type": "stream",
     "text": [
      "Epoch [38/100] - Avg Train Loss: 0.6805 | Train F1: 0.5434 | Avg Val Loss: 0.7220 | Val F1: 0.4658\n"
     ]
    },
    {
     "name": "stderr",
     "output_type": "stream",
     "text": [
      "Epoch [39/100]: 100%|███████████| 16/16 [00:00<00:00, 489.97batch/s, loss=0.684]\n"
     ]
    },
    {
     "name": "stdout",
     "output_type": "stream",
     "text": [
      "Epoch [39/100] - Avg Train Loss: 0.6800 | Train F1: 0.5636 | Avg Val Loss: 0.7117 | Val F1: 0.4470\n"
     ]
    },
    {
     "name": "stderr",
     "output_type": "stream",
     "text": [
      "Epoch [40/100]: 100%|███████████| 16/16 [00:00<00:00, 486.33batch/s, loss=0.678]\n"
     ]
    },
    {
     "name": "stdout",
     "output_type": "stream",
     "text": [
      "Epoch [40/100] - Avg Train Loss: 0.6792 | Train F1: 0.5390 | Avg Val Loss: 0.7057 | Val F1: 0.4211\n"
     ]
    },
    {
     "name": "stderr",
     "output_type": "stream",
     "text": [
      "Epoch [41/100]: 100%|███████████| 16/16 [00:00<00:00, 500.72batch/s, loss=0.671]\n"
     ]
    },
    {
     "name": "stdout",
     "output_type": "stream",
     "text": [
      "Epoch [41/100] - Avg Train Loss: 0.6777 | Train F1: 0.5459 | Avg Val Loss: 0.7085 | Val F1: 0.4397\n"
     ]
    },
    {
     "name": "stderr",
     "output_type": "stream",
     "text": [
      "Epoch [42/100]: 100%|███████████| 16/16 [00:00<00:00, 493.51batch/s, loss=0.667]\n"
     ]
    },
    {
     "name": "stdout",
     "output_type": "stream",
     "text": [
      "Epoch [42/100] - Avg Train Loss: 0.6782 | Train F1: 0.5361 | Avg Val Loss: 0.7093 | Val F1: 0.4275\n"
     ]
    },
    {
     "name": "stderr",
     "output_type": "stream",
     "text": [
      "Epoch [43/100]: 100%|███████████| 16/16 [00:00<00:00, 488.59batch/s, loss=0.671]\n"
     ]
    },
    {
     "name": "stdout",
     "output_type": "stream",
     "text": [
      "Epoch [43/100] - Avg Train Loss: 0.6795 | Train F1: 0.5808 | Avg Val Loss: 0.6999 | Val F1: 0.3960\n"
     ]
    },
    {
     "name": "stderr",
     "output_type": "stream",
     "text": [
      "Epoch [44/100]: 100%|███████████| 16/16 [00:00<00:00, 482.34batch/s, loss=0.683]\n"
     ]
    },
    {
     "name": "stdout",
     "output_type": "stream",
     "text": [
      "Epoch [44/100] - Avg Train Loss: 0.6789 | Train F1: 0.5572 | Avg Val Loss: 0.6957 | Val F1: 0.3706\n"
     ]
    },
    {
     "name": "stderr",
     "output_type": "stream",
     "text": [
      "Epoch [45/100]: 100%|███████████| 16/16 [00:00<00:00, 484.83batch/s, loss=0.688]\n"
     ]
    },
    {
     "name": "stdout",
     "output_type": "stream",
     "text": [
      "Epoch [45/100] - Avg Train Loss: 0.6779 | Train F1: 0.5134 | Avg Val Loss: 0.6952 | Val F1: 0.3598\n"
     ]
    },
    {
     "name": "stderr",
     "output_type": "stream",
     "text": [
      "Epoch [46/100]: 100%|███████████| 16/16 [00:00<00:00, 150.54batch/s, loss=0.678]\n"
     ]
    },
    {
     "name": "stdout",
     "output_type": "stream",
     "text": [
      "Epoch [46/100] - Avg Train Loss: 0.6740 | Train F1: 0.5846 | Avg Val Loss: 0.6938 | Val F1: 0.3420\n"
     ]
    },
    {
     "name": "stderr",
     "output_type": "stream",
     "text": [
      "Epoch [47/100]: 100%|███████████| 16/16 [00:00<00:00, 503.57batch/s, loss=0.677]\n"
     ]
    },
    {
     "name": "stdout",
     "output_type": "stream",
     "text": [
      "Epoch [47/100] - Avg Train Loss: 0.6740 | Train F1: 0.5676 | Avg Val Loss: 0.7033 | Val F1: 0.4198\n"
     ]
    },
    {
     "name": "stderr",
     "output_type": "stream",
     "text": [
      "Epoch [48/100]: 100%|███████████| 16/16 [00:00<00:00, 504.22batch/s, loss=0.669]\n"
     ]
    },
    {
     "name": "stdout",
     "output_type": "stream",
     "text": [
      "Epoch [48/100] - Avg Train Loss: 0.6768 | Train F1: 0.5657 | Avg Val Loss: 0.7005 | Val F1: 0.3767\n"
     ]
    },
    {
     "name": "stderr",
     "output_type": "stream",
     "text": [
      "Epoch [49/100]: 100%|███████████| 16/16 [00:00<00:00, 461.42batch/s, loss=0.676]\n"
     ]
    },
    {
     "name": "stdout",
     "output_type": "stream",
     "text": [
      "Epoch [49/100] - Avg Train Loss: 0.6720 | Train F1: 0.5581 | Avg Val Loss: 0.6976 | Val F1: 0.3788\n"
     ]
    },
    {
     "name": "stderr",
     "output_type": "stream",
     "text": [
      "Epoch [50/100]: 100%|███████████| 16/16 [00:00<00:00, 471.84batch/s, loss=0.668]\n"
     ]
    },
    {
     "name": "stdout",
     "output_type": "stream",
     "text": [
      "Epoch [50/100] - Avg Train Loss: 0.6697 | Train F1: 0.5822 | Avg Val Loss: 0.7088 | Val F1: 0.4005\n"
     ]
    },
    {
     "name": "stderr",
     "output_type": "stream",
     "text": [
      "Epoch [51/100]: 100%|███████████| 16/16 [00:00<00:00, 488.24batch/s, loss=0.688]\n"
     ]
    },
    {
     "name": "stdout",
     "output_type": "stream",
     "text": [
      "Epoch [51/100] - Avg Train Loss: 0.6725 | Train F1: 0.5741 | Avg Val Loss: 0.6964 | Val F1: 0.3267\n"
     ]
    },
    {
     "name": "stderr",
     "output_type": "stream",
     "text": [
      "Epoch [52/100]: 100%|███████████| 16/16 [00:00<00:00, 495.42batch/s, loss=0.662]\n"
     ]
    },
    {
     "name": "stdout",
     "output_type": "stream",
     "text": [
      "Epoch [52/100] - Avg Train Loss: 0.6701 | Train F1: 0.5671 | Avg Val Loss: 0.7097 | Val F1: 0.4054\n"
     ]
    },
    {
     "name": "stderr",
     "output_type": "stream",
     "text": [
      "Epoch [53/100]: 100%|███████████| 16/16 [00:00<00:00, 498.08batch/s, loss=0.682]\n"
     ]
    },
    {
     "name": "stdout",
     "output_type": "stream",
     "text": [
      "Epoch [53/100] - Avg Train Loss: 0.6725 | Train F1: 0.5808 | Avg Val Loss: 0.7091 | Val F1: 0.4041\n"
     ]
    },
    {
     "name": "stderr",
     "output_type": "stream",
     "text": [
      "Epoch [54/100]: 100%|███████████| 16/16 [00:00<00:00, 490.90batch/s, loss=0.661]\n"
     ]
    },
    {
     "name": "stdout",
     "output_type": "stream",
     "text": [
      "Epoch [54/100] - Avg Train Loss: 0.6706 | Train F1: 0.5810 | Avg Val Loss: 0.7051 | Val F1: 0.3985\n"
     ]
    },
    {
     "name": "stderr",
     "output_type": "stream",
     "text": [
      "Epoch [55/100]: 100%|███████████| 16/16 [00:00<00:00, 483.87batch/s, loss=0.679]\n"
     ]
    },
    {
     "name": "stdout",
     "output_type": "stream",
     "text": [
      "Epoch [55/100] - Avg Train Loss: 0.6723 | Train F1: 0.5695 | Avg Val Loss: 0.7148 | Val F1: 0.4133\n"
     ]
    },
    {
     "name": "stderr",
     "output_type": "stream",
     "text": [
      "Epoch [56/100]: 100%|███████████| 16/16 [00:00<00:00, 474.83batch/s, loss=0.685]\n"
     ]
    },
    {
     "name": "stdout",
     "output_type": "stream",
     "text": [
      "Epoch [56/100] - Avg Train Loss: 0.6687 | Train F1: 0.5934 | Avg Val Loss: 0.7018 | Val F1: 0.3615\n"
     ]
    },
    {
     "name": "stderr",
     "output_type": "stream",
     "text": [
      "Epoch [57/100]: 100%|███████████| 16/16 [00:00<00:00, 500.11batch/s, loss=0.671]\n"
     ]
    },
    {
     "name": "stdout",
     "output_type": "stream",
     "text": [
      "Epoch [57/100] - Avg Train Loss: 0.6707 | Train F1: 0.5865 | Avg Val Loss: 0.7240 | Val F1: 0.4464\n"
     ]
    },
    {
     "name": "stderr",
     "output_type": "stream",
     "text": [
      "Epoch [58/100]: 100%|███████████| 16/16 [00:00<00:00, 477.91batch/s, loss=0.663]\n"
     ]
    },
    {
     "name": "stdout",
     "output_type": "stream",
     "text": [
      "Epoch [58/100] - Avg Train Loss: 0.6722 | Train F1: 0.5825 | Avg Val Loss: 0.6899 | Val F1: 0.3046\n"
     ]
    },
    {
     "name": "stderr",
     "output_type": "stream",
     "text": [
      "Epoch [59/100]: 100%|███████████| 16/16 [00:00<00:00, 481.58batch/s, loss=0.657]\n"
     ]
    },
    {
     "name": "stdout",
     "output_type": "stream",
     "text": [
      "Epoch [59/100] - Avg Train Loss: 0.6700 | Train F1: 0.5918 | Avg Val Loss: 0.7101 | Val F1: 0.4189\n"
     ]
    },
    {
     "name": "stderr",
     "output_type": "stream",
     "text": [
      "Epoch [60/100]: 100%|███████████| 16/16 [00:00<00:00, 490.30batch/s, loss=0.671]\n"
     ]
    },
    {
     "name": "stdout",
     "output_type": "stream",
     "text": [
      "Epoch [60/100] - Avg Train Loss: 0.6687 | Train F1: 0.5726 | Avg Val Loss: 0.7072 | Val F1: 0.3833\n"
     ]
    },
    {
     "name": "stderr",
     "output_type": "stream",
     "text": [
      "Epoch [61/100]: 100%|███████████| 16/16 [00:00<00:00, 491.94batch/s, loss=0.636]\n"
     ]
    },
    {
     "name": "stdout",
     "output_type": "stream",
     "text": [
      "Epoch [61/100] - Avg Train Loss: 0.6656 | Train F1: 0.5830 | Avg Val Loss: 0.7144 | Val F1: 0.4115\n"
     ]
    },
    {
     "name": "stderr",
     "output_type": "stream",
     "text": [
      "Epoch [62/100]: 100%|███████████| 16/16 [00:00<00:00, 492.91batch/s, loss=0.686]\n"
     ]
    },
    {
     "name": "stdout",
     "output_type": "stream",
     "text": [
      "Epoch [62/100] - Avg Train Loss: 0.6738 | Train F1: 0.5772 | Avg Val Loss: 0.7536 | Val F1: 0.4771\n"
     ]
    },
    {
     "name": "stderr",
     "output_type": "stream",
     "text": [
      "Epoch [63/100]: 100%|███████████| 16/16 [00:00<00:00, 494.94batch/s, loss=0.671]\n"
     ]
    },
    {
     "name": "stdout",
     "output_type": "stream",
     "text": [
      "Epoch [63/100] - Avg Train Loss: 0.6692 | Train F1: 0.5792 | Avg Val Loss: 0.7063 | Val F1: 0.3830\n"
     ]
    },
    {
     "name": "stderr",
     "output_type": "stream",
     "text": [
      "Epoch [64/100]: 100%|████████████| 16/16 [00:00<00:00, 498.54batch/s, loss=0.64]\n"
     ]
    },
    {
     "name": "stdout",
     "output_type": "stream",
     "text": [
      "Epoch [64/100] - Avg Train Loss: 0.6639 | Train F1: 0.5975 | Avg Val Loss: 0.7060 | Val F1: 0.3659\n"
     ]
    },
    {
     "name": "stderr",
     "output_type": "stream",
     "text": [
      "Epoch [65/100]: 100%|███████████| 16/16 [00:00<00:00, 490.81batch/s, loss=0.666]\n"
     ]
    },
    {
     "name": "stdout",
     "output_type": "stream",
     "text": [
      "Epoch [65/100] - Avg Train Loss: 0.6662 | Train F1: 0.5963 | Avg Val Loss: 0.7196 | Val F1: 0.4247\n"
     ]
    },
    {
     "name": "stderr",
     "output_type": "stream",
     "text": [
      "Epoch [66/100]: 100%|████████████| 16/16 [00:00<00:00, 497.33batch/s, loss=0.67]\n"
     ]
    },
    {
     "name": "stdout",
     "output_type": "stream",
     "text": [
      "Epoch [66/100] - Avg Train Loss: 0.6639 | Train F1: 0.5908 | Avg Val Loss: 0.7111 | Val F1: 0.3894\n"
     ]
    },
    {
     "name": "stderr",
     "output_type": "stream",
     "text": [
      "Epoch [67/100]: 100%|███████████| 16/16 [00:00<00:00, 494.53batch/s, loss=0.674]\n"
     ]
    },
    {
     "name": "stdout",
     "output_type": "stream",
     "text": [
      "Epoch [67/100] - Avg Train Loss: 0.6678 | Train F1: 0.5748 | Avg Val Loss: 0.7178 | Val F1: 0.3917\n"
     ]
    },
    {
     "name": "stderr",
     "output_type": "stream",
     "text": [
      "Epoch [68/100]: 100%|███████████| 16/16 [00:00<00:00, 487.83batch/s, loss=0.663]\n"
     ]
    },
    {
     "name": "stdout",
     "output_type": "stream",
     "text": [
      "Epoch [68/100] - Avg Train Loss: 0.6651 | Train F1: 0.5801 | Avg Val Loss: 0.7525 | Val F1: 0.4805\n"
     ]
    },
    {
     "name": "stderr",
     "output_type": "stream",
     "text": [
      "Epoch [69/100]: 100%|███████████| 16/16 [00:00<00:00, 493.80batch/s, loss=0.649]\n"
     ]
    },
    {
     "name": "stdout",
     "output_type": "stream",
     "text": [
      "Epoch [69/100] - Avg Train Loss: 0.6605 | Train F1: 0.6079 | Avg Val Loss: 0.7098 | Val F1: 0.3908\n"
     ]
    },
    {
     "name": "stderr",
     "output_type": "stream",
     "text": [
      "Epoch [70/100]: 100%|███████████| 16/16 [00:00<00:00, 462.61batch/s, loss=0.659]\n"
     ]
    },
    {
     "name": "stdout",
     "output_type": "stream",
     "text": [
      "Epoch [70/100] - Avg Train Loss: 0.6621 | Train F1: 0.5854 | Avg Val Loss: 0.7387 | Val F1: 0.4407\n"
     ]
    },
    {
     "name": "stderr",
     "output_type": "stream",
     "text": [
      "Epoch [71/100]: 100%|███████████| 16/16 [00:00<00:00, 478.60batch/s, loss=0.652]\n"
     ]
    },
    {
     "name": "stdout",
     "output_type": "stream",
     "text": [
      "Epoch [71/100] - Avg Train Loss: 0.6617 | Train F1: 0.5966 | Avg Val Loss: 0.7079 | Val F1: 0.3790\n"
     ]
    },
    {
     "name": "stderr",
     "output_type": "stream",
     "text": [
      "Epoch [72/100]: 100%|███████████| 16/16 [00:00<00:00, 494.50batch/s, loss=0.664]\n"
     ]
    },
    {
     "name": "stdout",
     "output_type": "stream",
     "text": [
      "Epoch [72/100] - Avg Train Loss: 0.6599 | Train F1: 0.5999 | Avg Val Loss: 0.7076 | Val F1: 0.3636\n"
     ]
    },
    {
     "name": "stderr",
     "output_type": "stream",
     "text": [
      "Epoch [73/100]: 100%|███████████| 16/16 [00:00<00:00, 492.43batch/s, loss=0.656]\n"
     ]
    },
    {
     "name": "stdout",
     "output_type": "stream",
     "text": [
      "Epoch [73/100] - Avg Train Loss: 0.6593 | Train F1: 0.5851 | Avg Val Loss: 0.7167 | Val F1: 0.3942\n"
     ]
    },
    {
     "name": "stderr",
     "output_type": "stream",
     "text": [
      "Epoch [74/100]: 100%|███████████| 16/16 [00:00<00:00, 487.46batch/s, loss=0.658]\n"
     ]
    },
    {
     "name": "stdout",
     "output_type": "stream",
     "text": [
      "Epoch [74/100] - Avg Train Loss: 0.6582 | Train F1: 0.5785 | Avg Val Loss: 0.7151 | Val F1: 0.3913\n"
     ]
    },
    {
     "name": "stderr",
     "output_type": "stream",
     "text": [
      "Epoch [75/100]: 100%|████████████| 16/16 [00:00<00:00, 489.33batch/s, loss=0.64]\n"
     ]
    },
    {
     "name": "stdout",
     "output_type": "stream",
     "text": [
      "Epoch [75/100] - Avg Train Loss: 0.6597 | Train F1: 0.5965 | Avg Val Loss: 0.7235 | Val F1: 0.4104\n"
     ]
    },
    {
     "name": "stderr",
     "output_type": "stream",
     "text": [
      "Epoch [76/100]: 100%|████████████| 16/16 [00:00<00:00, 486.72batch/s, loss=0.65]\n"
     ]
    },
    {
     "name": "stdout",
     "output_type": "stream",
     "text": [
      "Epoch [76/100] - Avg Train Loss: 0.6557 | Train F1: 0.6110 | Avg Val Loss: 0.7019 | Val F1: 0.3603\n"
     ]
    },
    {
     "name": "stderr",
     "output_type": "stream",
     "text": [
      "Epoch [77/100]: 100%|███████████| 16/16 [00:00<00:00, 491.49batch/s, loss=0.678]\n"
     ]
    },
    {
     "name": "stdout",
     "output_type": "stream",
     "text": [
      "Epoch [77/100] - Avg Train Loss: 0.6574 | Train F1: 0.6040 | Avg Val Loss: 0.7446 | Val F1: 0.4466\n"
     ]
    },
    {
     "name": "stderr",
     "output_type": "stream",
     "text": [
      "Epoch [78/100]: 100%|████████████| 16/16 [00:00<00:00, 478.31batch/s, loss=0.68]\n"
     ]
    },
    {
     "name": "stdout",
     "output_type": "stream",
     "text": [
      "Epoch [78/100] - Avg Train Loss: 0.6606 | Train F1: 0.6051 | Avg Val Loss: 0.7123 | Val F1: 0.3824\n"
     ]
    },
    {
     "name": "stderr",
     "output_type": "stream",
     "text": [
      "Epoch [79/100]: 100%|███████████| 16/16 [00:00<00:00, 492.02batch/s, loss=0.683]\n"
     ]
    },
    {
     "name": "stdout",
     "output_type": "stream",
     "text": [
      "Epoch [79/100] - Avg Train Loss: 0.6586 | Train F1: 0.5981 | Avg Val Loss: 0.6964 | Val F1: 0.3207\n"
     ]
    },
    {
     "name": "stderr",
     "output_type": "stream",
     "text": [
      "Epoch [80/100]: 100%|███████████| 16/16 [00:00<00:00, 488.82batch/s, loss=0.659]\n"
     ]
    },
    {
     "name": "stdout",
     "output_type": "stream",
     "text": [
      "Epoch [80/100] - Avg Train Loss: 0.6597 | Train F1: 0.5919 | Avg Val Loss: 0.7049 | Val F1: 0.3692\n"
     ]
    },
    {
     "name": "stderr",
     "output_type": "stream",
     "text": [
      "Epoch [81/100]: 100%|████████████| 16/16 [00:00<00:00, 497.77batch/s, loss=0.64]\n"
     ]
    },
    {
     "name": "stdout",
     "output_type": "stream",
     "text": [
      "Epoch [81/100] - Avg Train Loss: 0.6547 | Train F1: 0.6029 | Avg Val Loss: 0.7123 | Val F1: 0.4028\n"
     ]
    },
    {
     "name": "stderr",
     "output_type": "stream",
     "text": [
      "Epoch [82/100]: 100%|███████████| 16/16 [00:00<00:00, 492.44batch/s, loss=0.654]\n"
     ]
    },
    {
     "name": "stdout",
     "output_type": "stream",
     "text": [
      "Epoch [82/100] - Avg Train Loss: 0.6531 | Train F1: 0.5988 | Avg Val Loss: 0.7374 | Val F1: 0.4386\n"
     ]
    },
    {
     "name": "stderr",
     "output_type": "stream",
     "text": [
      "Epoch [83/100]: 100%|███████████| 16/16 [00:00<00:00, 498.66batch/s, loss=0.668]\n"
     ]
    },
    {
     "name": "stdout",
     "output_type": "stream",
     "text": [
      "Epoch [83/100] - Avg Train Loss: 0.6495 | Train F1: 0.6093 | Avg Val Loss: 0.7046 | Val F1: 0.3588\n"
     ]
    },
    {
     "name": "stderr",
     "output_type": "stream",
     "text": [
      "Epoch [84/100]: 100%|███████████| 16/16 [00:00<00:00, 490.31batch/s, loss=0.672]\n"
     ]
    },
    {
     "name": "stdout",
     "output_type": "stream",
     "text": [
      "Epoch [84/100] - Avg Train Loss: 0.6597 | Train F1: 0.5781 | Avg Val Loss: 0.7189 | Val F1: 0.3976\n"
     ]
    },
    {
     "name": "stderr",
     "output_type": "stream",
     "text": [
      "Epoch [85/100]: 100%|███████████| 16/16 [00:00<00:00, 494.25batch/s, loss=0.648]\n"
     ]
    },
    {
     "name": "stdout",
     "output_type": "stream",
     "text": [
      "Epoch [85/100] - Avg Train Loss: 0.6572 | Train F1: 0.6269 | Avg Val Loss: 0.7530 | Val F1: 0.4619\n"
     ]
    },
    {
     "name": "stderr",
     "output_type": "stream",
     "text": [
      "Epoch [86/100]: 100%|███████████| 16/16 [00:00<00:00, 493.89batch/s, loss=0.635]\n"
     ]
    },
    {
     "name": "stdout",
     "output_type": "stream",
     "text": [
      "Epoch [86/100] - Avg Train Loss: 0.6557 | Train F1: 0.6148 | Avg Val Loss: 0.7082 | Val F1: 0.3808\n"
     ]
    },
    {
     "name": "stderr",
     "output_type": "stream",
     "text": [
      "Epoch [87/100]: 100%|███████████| 16/16 [00:00<00:00, 496.05batch/s, loss=0.665]\n"
     ]
    },
    {
     "name": "stdout",
     "output_type": "stream",
     "text": [
      "Epoch [87/100] - Avg Train Loss: 0.6517 | Train F1: 0.5980 | Avg Val Loss: 0.7059 | Val F1: 0.3619\n"
     ]
    },
    {
     "name": "stderr",
     "output_type": "stream",
     "text": [
      "Epoch [88/100]: 100%|███████████| 16/16 [00:00<00:00, 496.60batch/s, loss=0.677]\n"
     ]
    },
    {
     "name": "stdout",
     "output_type": "stream",
     "text": [
      "Epoch [88/100] - Avg Train Loss: 0.6543 | Train F1: 0.6101 | Avg Val Loss: 0.7232 | Val F1: 0.4163\n"
     ]
    },
    {
     "name": "stderr",
     "output_type": "stream",
     "text": [
      "Epoch [89/100]: 100%|███████████| 16/16 [00:00<00:00, 494.04batch/s, loss=0.656]\n"
     ]
    },
    {
     "name": "stdout",
     "output_type": "stream",
     "text": [
      "Epoch [89/100] - Avg Train Loss: 0.6529 | Train F1: 0.5996 | Avg Val Loss: 0.7181 | Val F1: 0.3980\n",
      "Epoch 00089: reducing learning rate of group 0 to 1.0000e-04.\n"
     ]
    },
    {
     "name": "stderr",
     "output_type": "stream",
     "text": [
      "Epoch [90/100]: 100%|███████████| 16/16 [00:00<00:00, 494.19batch/s, loss=0.678]\n"
     ]
    },
    {
     "name": "stdout",
     "output_type": "stream",
     "text": [
      "Epoch [90/100] - Avg Train Loss: 0.6494 | Train F1: 0.6272 | Avg Val Loss: 0.7220 | Val F1: 0.4056\n"
     ]
    },
    {
     "name": "stderr",
     "output_type": "stream",
     "text": [
      "Epoch [91/100]: 100%|███████████| 16/16 [00:00<00:00, 485.35batch/s, loss=0.671]\n"
     ]
    },
    {
     "name": "stdout",
     "output_type": "stream",
     "text": [
      "Epoch [91/100] - Avg Train Loss: 0.6515 | Train F1: 0.6278 | Avg Val Loss: 0.7196 | Val F1: 0.3943\n"
     ]
    },
    {
     "name": "stderr",
     "output_type": "stream",
     "text": [
      "Epoch [92/100]: 100%|███████████| 16/16 [00:00<00:00, 490.96batch/s, loss=0.636]\n"
     ]
    },
    {
     "name": "stdout",
     "output_type": "stream",
     "text": [
      "Epoch [92/100] - Avg Train Loss: 0.6477 | Train F1: 0.6188 | Avg Val Loss: 0.7189 | Val F1: 0.3869\n"
     ]
    },
    {
     "name": "stderr",
     "output_type": "stream",
     "text": [
      "Epoch [93/100]: 100%|███████████| 16/16 [00:00<00:00, 487.73batch/s, loss=0.641]\n"
     ]
    },
    {
     "name": "stdout",
     "output_type": "stream",
     "text": [
      "Epoch [93/100] - Avg Train Loss: 0.6386 | Train F1: 0.6324 | Avg Val Loss: 0.7219 | Val F1: 0.3941\n"
     ]
    },
    {
     "name": "stderr",
     "output_type": "stream",
     "text": [
      "Epoch [94/100]: 100%|████████████| 16/16 [00:00<00:00, 477.67batch/s, loss=0.65]\n"
     ]
    },
    {
     "name": "stdout",
     "output_type": "stream",
     "text": [
      "Epoch [94/100] - Avg Train Loss: 0.6468 | Train F1: 0.6307 | Avg Val Loss: 0.7183 | Val F1: 0.3897\n"
     ]
    },
    {
     "name": "stderr",
     "output_type": "stream",
     "text": [
      "Epoch [95/100]: 100%|███████████| 16/16 [00:00<00:00, 488.06batch/s, loss=0.634]\n"
     ]
    },
    {
     "name": "stdout",
     "output_type": "stream",
     "text": [
      "Epoch [95/100] - Avg Train Loss: 0.6451 | Train F1: 0.6142 | Avg Val Loss: 0.7124 | Val F1: 0.3770\n"
     ]
    },
    {
     "name": "stderr",
     "output_type": "stream",
     "text": [
      "Epoch [96/100]: 100%|███████████| 16/16 [00:00<00:00, 499.42batch/s, loss=0.653]\n"
     ]
    },
    {
     "name": "stdout",
     "output_type": "stream",
     "text": [
      "Epoch [96/100] - Avg Train Loss: 0.6474 | Train F1: 0.6248 | Avg Val Loss: 0.7219 | Val F1: 0.4034\n"
     ]
    },
    {
     "name": "stderr",
     "output_type": "stream",
     "text": [
      "Epoch [97/100]: 100%|███████████| 16/16 [00:00<00:00, 492.99batch/s, loss=0.648]\n"
     ]
    },
    {
     "name": "stdout",
     "output_type": "stream",
     "text": [
      "Epoch [97/100] - Avg Train Loss: 0.6428 | Train F1: 0.6157 | Avg Val Loss: 0.7123 | Val F1: 0.3779\n"
     ]
    },
    {
     "name": "stderr",
     "output_type": "stream",
     "text": [
      "Epoch [98/100]: 100%|███████████| 16/16 [00:00<00:00, 491.40batch/s, loss=0.636]\n"
     ]
    },
    {
     "name": "stdout",
     "output_type": "stream",
     "text": [
      "Epoch [98/100] - Avg Train Loss: 0.6431 | Train F1: 0.6394 | Avg Val Loss: 0.7213 | Val F1: 0.4002\n"
     ]
    },
    {
     "name": "stderr",
     "output_type": "stream",
     "text": [
      "Epoch [99/100]: 100%|███████████| 16/16 [00:00<00:00, 487.95batch/s, loss=0.653]\n"
     ]
    },
    {
     "name": "stdout",
     "output_type": "stream",
     "text": [
      "Epoch [99/100] - Avg Train Loss: 0.6443 | Train F1: 0.6224 | Avg Val Loss: 0.7216 | Val F1: 0.3923\n",
      "Epoch 00099: reducing learning rate of group 0 to 1.0000e-05.\n"
     ]
    },
    {
     "name": "stderr",
     "output_type": "stream",
     "text": [
      "Epoch [100/100]: 100%|██████████| 16/16 [00:00<00:00, 479.75batch/s, loss=0.666]\n"
     ]
    },
    {
     "name": "stdout",
     "output_type": "stream",
     "text": [
      "Epoch [100/100] - Avg Train Loss: 0.6403 | Train F1: 0.6305 | Avg Val Loss: 0.7219 | Val F1: 0.3938\n"
     ]
    }
   ],
   "source": [
    "input_size = X_train_tensor.shape[1]\n",
    "device = 'cpu'\n",
    "model = FixedNeuronsNetwork(num_features=X_train_tensor.shape[1],num_classes=1,num_hidden_layers=3,hidden_neurons=64).to(device)\n",
    "num_epochs = 100\n",
    "criterion = nn.BCELoss()\n",
    "optimizer = optim.AdamW(model.parameters(), lr=0.001, weight_decay=1e-5)\n",
    "scheduler = ReduceLROnPlateau(optimizer, mode='min', factor=0.1, patience=5, verbose=True)\n",
    "\n",
    "model, train_loss_history, val_loss_history, train_f1, val_f1 = train_model(model,criterion,\n",
    "                                                                            optimizer,scheduler,\n",
    "                                                                            train_loader,test_loader,num_epochs,device,patience=float('inf'))"
   ]
  },
  {
   "cell_type": "code",
   "execution_count": 95,
   "id": "638a9ac0",
   "metadata": {},
   "outputs": [
    {
     "name": "stdout",
     "output_type": "stream",
     "text": [
      "Accuracy on the test set: 51.05%\n"
     ]
    }
   ],
   "source": [
    "model.eval()\n",
    "with torch.no_grad():\n",
    "    predictions = model(X_test_tensor)\n",
    "    predictions = (predictions > 0.5).float()\n",
    "    accuracy = (predictions == y_test_tensor).sum().item() / len(y_test_tensor)\n",
    "    print(f'Accuracy on the test set: {accuracy * 100:.2f}%')"
   ]
  },
  {
   "cell_type": "code",
   "execution_count": 96,
   "id": "79954303",
   "metadata": {},
   "outputs": [
    {
     "data": {
      "image/png": "[encoded data removed]",
      "text/plain": [
       "<Figure size 600x400 with 2 Axes>"
      ]
     },
     "metadata": {},
     "output_type": "display_data"
    }
   ],
   "source": [
    "y_test_np = y_test_tensor.numpy()\n",
    "predictions_np = predictions.numpy()\n",
    "\n",
    "conf_matrix = confusion_matrix(y_test_np, predictions_np)\n",
    "\n",
    "plt.figure(figsize=(6,4))\n",
    "sns.heatmap(conf_matrix, annot=True, fmt=\"d\", cmap=\"Blues\", xticklabels=['No Churn', 'Churn'], yticklabels=['No Churn', 'Churn'])\n",
    "plt.ylabel('True Label')\n",
    "plt.xlabel('Predicted Label')\n",
    "plt.title('Confusion Matrix')\n",
    "plt.show()"
   ]
  },
  {
   "cell_type": "code",
   "execution_count": 97,
   "id": "a0dd734b",
   "metadata": {},
   "outputs": [
    {
     "name": "stdout",
     "output_type": "stream",
     "text": [
      "              precision    recall  f1-score   support\n",
      "\n",
      "    No Churn       0.64      0.55      0.59      1288\n",
      "       Churn       0.35      0.45      0.39       712\n",
      "\n",
      "    accuracy                           0.51      2000\n",
      "   macro avg       0.50      0.50      0.49      2000\n",
      "weighted avg       0.54      0.51      0.52      2000\n",
      "\n"
     ]
    }
   ],
   "source": [
    "print(classification_report(y_test_np, predictions_np, target_names=['No Churn', 'Churn']))"
   ]
  },
  {
   "cell_type": "code",
   "execution_count": 76,
   "id": "a757c351",
   "metadata": {},
   "outputs": [],
   "source": [
    "torch.save(model.state_dict(), 'neural_network_model.pth')"
   ]
  },
  {
   "cell_type": "code",
   "execution_count": 77,
   "id": "6b8576b7",
   "metadata": {},
   "outputs": [
    {
     "data": {
      "text/plain": [
       "['kmeans_model.pkl']"
      ]
     },
     "execution_count": 77,
     "metadata": {},
     "output_type": "execute_result"
    }
   ],
   "source": [
    "import joblib\n",
    "\n",
    "joblib.dump(kmeans, 'kmeans_model.pkl')"
   ]
  },
  {
   "cell_type": "code",
   "execution_count": null,
   "id": "0d701800",
   "metadata": {},
   "outputs": [
    {
     "name": "stdout",
     "output_type": "stream",
     "text": [
      "Running on local URL:  http://127.0.0.1:7860\n",
      "\n",
      "To create a public link, set `share=True` in `launch()`.\n",
      "/Users/pranav/miniforge3/lib/python3.10/site-packages/gradio/analytics.py:106: UserWarning: IMPORTANT: You are using gradio version 4.44.0, however version 4.44.1 is available, please upgrade. \n",
      "--------\n",
      "  warnings.warn(\n",
      "Traceback (most recent call last):\n",
      "  File \"/Users/pranav/miniforge3/lib/python3.10/site-packages/gradio/queueing.py\", line 536, in process_events\n",
      "    response = await route_utils.call_process_api(\n",
      "  File \"/Users/pranav/miniforge3/lib/python3.10/site-packages/gradio/route_utils.py\", line 322, in call_process_api\n",
      "    output = await app.get_blocks().process_api(\n",
      "  File \"/Users/pranav/miniforge3/lib/python3.10/site-packages/gradio/blocks.py\", line 1935, in process_api\n",
      "    result = await self.call_function(\n",
      "  File \"/Users/pranav/miniforge3/lib/python3.10/site-packages/gradio/blocks.py\", line 1520, in call_function\n",
      "    prediction = await anyio.to_thread.run_sync(  # type: ignore\n",
      "  File \"/Users/pranav/miniforge3/lib/python3.10/site-packages/anyio/to_thread.py\", line 28, in run_sync\n",
      "    return await get_asynclib().run_sync_in_worker_thread(func, *args, cancellable=cancellable,\n",
      "  File \"/Users/pranav/miniforge3/lib/python3.10/site-packages/anyio/_backends/_asyncio.py\", line 818, in run_sync_in_worker_thread\n",
      "    return await future\n",
      "  File \"/Users/pranav/miniforge3/lib/python3.10/site-packages/anyio/_backends/_asyncio.py\", line 754, in run\n",
      "    result = context.run(func, *args)\n",
      "  File \"/Users/pranav/miniforge3/lib/python3.10/site-packages/gradio/utils.py\", line 826, in wrapper\n",
      "    response = f(*args, **kwargs)\n",
      "  File \"/Users/pranav/Documents/Projects/CustomRetain/app.py\", line 59, in process_single_entry\n",
      "    cluster = clustering_model.predict(scaled_data)[0]\n",
      "AttributeError: 'numpy.ndarray' object has no attribute 'predict'\n"
     ]
    }
   ],
   "source": [
    "!python app.py"
   ]
  },
  {
   "cell_type": "code",
   "execution_count": null,
   "id": "a4f5d69d",
   "metadata": {},
   "outputs": [],
   "source": []
  }
 ],
 "metadata": {
  "kernelspec": {
   "display_name": "Python 3 (ipykernel)",
   "language": "python",
   "name": "python3"
  },
  "language_info": {
   "codemirror_mode": {
    "name": "ipython",
    "version": 3
   },
   "file_extension": ".py",
   "mimetype": "text/x-python",
   "name": "python",
   "nbconvert_exporter": "python",
   "pygments_lexer": "ipython3",
   "version": "3.10.12"
  }
 },
 "nbformat": 4,
 "nbformat_minor": 5
}
